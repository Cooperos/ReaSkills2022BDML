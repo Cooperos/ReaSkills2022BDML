{
 "cells": [
  {
   "cell_type": "markdown",
   "id": "2f42df81",
   "metadata": {},
   "source": [
    "# 1.   Загрузка, предобработка"
   ]
  },
  {
   "cell_type": "code",
   "execution_count": 297,
   "id": "abe2ceaa",
   "metadata": {},
   "outputs": [],
   "source": [
    "import pandas as pd \n",
    "import numpy as np\n",
    "\n",
    "import matplotlib.pyplot as plt\n",
    "%matplotlib inline\n",
    "\n",
    "import seaborn as sns"
   ]
  },
  {
   "cell_type": "markdown",
   "id": "cff986b3",
   "metadata": {},
   "source": [
    "Загружаем исходные данные"
   ]
  },
  {
   "cell_type": "code",
   "execution_count": 298,
   "id": "207ba953",
   "metadata": {},
   "outputs": [],
   "source": [
    "# грузим оригинальный train.csv\n",
    "try:\n",
    "    train_orig = pd.read_csv('train.csv')\n",
    "except FileNotFoundError:\n",
    "    print('Файл train.csv отсутствует')\n",
    "except Exception as e:\n",
    "    print(f'Возникла ошибка {e.args[1]}')"
   ]
  },
  {
   "cell_type": "code",
   "execution_count": 299,
   "id": "d14d2f67",
   "metadata": {},
   "outputs": [],
   "source": [
    "# грузим оригинальный objects.csv (который building_meta в задании)\n",
    "try:\n",
    "    building_meta_orig = pd.read_csv('objects.csv')\n",
    "except FileNotFoundError:\n",
    "    print('Файл objects.csv отсутствует')\n",
    "except Exception as e:\n",
    "    print(f'Возникла ошибка {e.args[1]}')"
   ]
  },
  {
   "cell_type": "code",
   "execution_count": 300,
   "id": "cb254613",
   "metadata": {},
   "outputs": [
    {
     "data": {
      "text/html": [
       "<div>\n",
       "<style scoped>\n",
       "    .dataframe tbody tr th:only-of-type {\n",
       "        vertical-align: middle;\n",
       "    }\n",
       "\n",
       "    .dataframe tbody tr th {\n",
       "        vertical-align: top;\n",
       "    }\n",
       "\n",
       "    .dataframe thead th {\n",
       "        text-align: right;\n",
       "    }\n",
       "</style>\n",
       "<table border=\"1\" class=\"dataframe\">\n",
       "  <thead>\n",
       "    <tr style=\"text-align: right;\">\n",
       "      <th></th>\n",
       "      <th>Unnamed: 0</th>\n",
       "      <th>city</th>\n",
       "      <th>obj_id</th>\n",
       "      <th>function</th>\n",
       "      <th>square</th>\n",
       "      <th>year</th>\n",
       "      <th>floor</th>\n",
       "    </tr>\n",
       "  </thead>\n",
       "  <tbody>\n",
       "    <tr>\n",
       "      <th>1251</th>\n",
       "      <td>1251</td>\n",
       "      <td>14</td>\n",
       "      <td>1251</td>\n",
       "      <td>Education</td>\n",
       "      <td>104604</td>\n",
       "      <td>NaN</td>\n",
       "      <td>NaN</td>\n",
       "    </tr>\n",
       "    <tr>\n",
       "      <th>1185</th>\n",
       "      <td>1185</td>\n",
       "      <td>13</td>\n",
       "      <td>1185</td>\n",
       "      <td>Office</td>\n",
       "      <td>129532</td>\n",
       "      <td>NaN</td>\n",
       "      <td>NaN</td>\n",
       "    </tr>\n",
       "    <tr>\n",
       "      <th>1039</th>\n",
       "      <td>1039</td>\n",
       "      <td>12</td>\n",
       "      <td>1039</td>\n",
       "      <td>Education</td>\n",
       "      <td>30171</td>\n",
       "      <td>NaN</td>\n",
       "      <td>3.0</td>\n",
       "    </tr>\n",
       "    <tr>\n",
       "      <th>184</th>\n",
       "      <td>184</td>\n",
       "      <td>2</td>\n",
       "      <td>184</td>\n",
       "      <td>Education</td>\n",
       "      <td>34171</td>\n",
       "      <td>NaN</td>\n",
       "      <td>NaN</td>\n",
       "    </tr>\n",
       "  </tbody>\n",
       "</table>\n",
       "</div>"
      ],
      "text/plain": [
       "      Unnamed: 0  city  obj_id   function  square  year  floor\n",
       "1251        1251    14    1251  Education  104604   NaN    NaN\n",
       "1185        1185    13    1185     Office  129532   NaN    NaN\n",
       "1039        1039    12    1039  Education   30171   NaN    3.0\n",
       "184          184     2     184  Education   34171   NaN    NaN"
      ]
     },
     "execution_count": 300,
     "metadata": {},
     "output_type": "execute_result"
    }
   ],
   "source": [
    "building_meta_orig.sample(4)"
   ]
  },
  {
   "cell_type": "code",
   "execution_count": 301,
   "id": "42b2a468",
   "metadata": {},
   "outputs": [],
   "source": [
    "# грузим оригинальный weather_train/test.csv\n",
    "try:\n",
    "    weather_train_orig = pd.read_csv('wtrain.csv')\n",
    "except FileNotFoundError:\n",
    "    print('Файл wtrain.csv отсутствует')\n",
    "except Exception as e:\n",
    "    print(f'Возникла ошибка {e.args[1]}')"
   ]
  },
  {
   "cell_type": "code",
   "execution_count": 302,
   "id": "345dc7cb",
   "metadata": {},
   "outputs": [],
   "source": [
    "# грузим оригинальный weather_train/test.csv\n",
    "try:\n",
    "    weather_test_orig = pd.read_csv('wtest.csv')\n",
    "except FileNotFoundError:\n",
    "    print('Файл wtest.csv отсутствует')\n",
    "except Exception as e:\n",
    "    print(f'Возникла ошибка {e.args[1]}')"
   ]
  },
  {
   "cell_type": "code",
   "execution_count": 319,
   "id": "05e72832",
   "metadata": {},
   "outputs": [
    {
     "name": "stdout",
     "output_type": "stream",
     "text": [
      "Возникла ошибка int64\n"
     ]
    }
   ],
   "source": [
    "# грузим test.csv\n",
    "try:\n",
    "    test_orig = pd.read_csv('test.csv')\n",
    "except FileNotFoundError:\n",
    "    print('Файл test.csv отсутствует')\n",
    "except Exception as e:\n",
    "    print(f'Возникла ошибка {e.args[1]}')"
   ]
  },
  {
   "cell_type": "code",
   "execution_count": null,
   "id": "98572e76",
   "metadata": {},
   "outputs": [],
   "source": []
  },
  {
   "cell_type": "markdown",
   "id": "8559c082",
   "metadata": {},
   "source": [
    "Посмотрим исходные типы данных и сводную информацию по загруженным датасетам"
   ]
  },
  {
   "cell_type": "code",
   "execution_count": 304,
   "id": "afbf2da9",
   "metadata": {},
   "outputs": [
    {
     "name": "stdout",
     "output_type": "stream",
     "text": [
      "<class 'pandas.core.frame.DataFrame'>\n",
      "RangeIndex: 20216100 entries, 0 to 20216099\n",
      "Data columns (total 5 columns):\n",
      " #   Column      Dtype  \n",
      "---  ------      -----  \n",
      " 0   Unnamed: 0  int64  \n",
      " 1   obj_id      int64  \n",
      " 2   counter     int64  \n",
      " 3   datetime    object \n",
      " 4   value       float64\n",
      "dtypes: float64(1), int64(3), object(1)\n",
      "memory usage: 2.0 GB\n"
     ]
    }
   ],
   "source": [
    "# для train.csv\n",
    "train_orig.info(memory_usage='deep')"
   ]
  },
  {
   "cell_type": "markdown",
   "id": "7ae48f8a",
   "metadata": {},
   "source": [
    "Что-то не так с датой (не распарсена), потенциально лишний признак, избыточные размеры. Сейчас датасет занимает 2GB в ОЗУ. Пропущенных значений не наблюдается"
   ]
  },
  {
   "cell_type": "markdown",
   "id": "025a3888",
   "metadata": {},
   "source": [
    "Проверим какие признаки можно \"сжать\""
   ]
  },
  {
   "cell_type": "code",
   "execution_count": 305,
   "id": "c444ea59",
   "metadata": {},
   "outputs": [
    {
     "data": {
      "text/plain": [
       "count    2.021610e+07\n",
       "mean     7.992780e+02\n",
       "std      4.269133e+02\n",
       "min      0.000000e+00\n",
       "25%      3.930000e+02\n",
       "50%      8.950000e+02\n",
       "75%      1.179000e+03\n",
       "max      1.448000e+03\n",
       "Name: obj_id, dtype: float64"
      ]
     },
     "execution_count": 305,
     "metadata": {},
     "output_type": "execute_result"
    }
   ],
   "source": [
    "# сводная информация по obj_id\n",
    "train_orig.obj_id.describe()"
   ]
  },
  {
   "cell_type": "markdown",
   "id": "98bdaf33",
   "metadata": {},
   "source": [
    "Видим, что тип **obj_id** можно сократить до ushort."
   ]
  },
  {
   "cell_type": "code",
   "execution_count": 306,
   "id": "47c35b46",
   "metadata": {},
   "outputs": [
    {
     "data": {
      "text/plain": [
       "count    2.021610e+07\n",
       "mean     6.624412e-01\n",
       "std      9.309921e-01\n",
       "min      0.000000e+00\n",
       "25%      0.000000e+00\n",
       "50%      0.000000e+00\n",
       "75%      1.000000e+00\n",
       "max      3.000000e+00\n",
       "Name: counter, dtype: float64"
      ]
     },
     "execution_count": 306,
     "metadata": {},
     "output_type": "execute_result"
    }
   ],
   "source": [
    "# сводная информация по counter\n",
    "train_orig.counter.describe()"
   ]
  },
  {
   "cell_type": "markdown",
   "id": "4d5fd5e7",
   "metadata": {},
   "source": [
    "Признак **counter** можно сжать до uint8"
   ]
  },
  {
   "cell_type": "markdown",
   "id": "d820373a",
   "metadata": {},
   "source": [
    "**datetime** с неверным типом. Исправим это"
   ]
  },
  {
   "cell_type": "code",
   "execution_count": 307,
   "id": "5b83f512",
   "metadata": {},
   "outputs": [],
   "source": [
    "train_orig.datetime = pd.to_datetime(train_orig.datetime)"
   ]
  },
  {
   "cell_type": "code",
   "execution_count": 308,
   "id": "261f4a0b",
   "metadata": {},
   "outputs": [
    {
     "data": {
      "text/plain": [
       "count    2.021610e+07\n",
       "mean     2.117121e+03\n",
       "std      1.532356e+05\n",
       "min      0.000000e+00\n",
       "25%      1.830000e+01\n",
       "50%      7.877500e+01\n",
       "75%      2.679840e+02\n",
       "max      2.190470e+07\n",
       "Name: value, dtype: float64"
      ]
     },
     "execution_count": 308,
     "metadata": {},
     "output_type": "execute_result"
    }
   ],
   "source": [
    "# сводная информация по value\n",
    "train_orig.value.describe()"
   ]
  },
  {
   "cell_type": "markdown",
   "id": "a08bb883",
   "metadata": {},
   "source": [
    "**value** пока оставляем в покое"
   ]
  },
  {
   "cell_type": "markdown",
   "id": "647ae7f5",
   "metadata": {},
   "source": [
    "Очевидно, что от Unnamed можно избавиться или вынести в индекс. Проверим"
   ]
  },
  {
   "cell_type": "code",
   "execution_count": 309,
   "id": "db885b69",
   "metadata": {},
   "outputs": [
    {
     "data": {
      "text/plain": [
       "True"
      ]
     },
     "execution_count": 309,
     "metadata": {},
     "output_type": "execute_result"
    }
   ],
   "source": [
    "(train_orig['Unnamed: 0'] == train_orig.index).any()"
   ]
  },
  {
   "cell_type": "code",
   "execution_count": 310,
   "id": "3feb4744",
   "metadata": {},
   "outputs": [],
   "source": [
    "# удалим столбец **Unnamed: 0**\n",
    "train_orig = train_orig.drop('Unnamed: 0', axis=1)"
   ]
  },
  {
   "cell_type": "markdown",
   "id": "2e6e338b",
   "metadata": {},
   "source": [
    "Сжимаем obj_id и counter"
   ]
  },
  {
   "cell_type": "code",
   "execution_count": 311,
   "id": "ec8e6fed",
   "metadata": {},
   "outputs": [],
   "source": [
    "train_orig.obj_id = train_orig.obj_id.astype(np.ushort)"
   ]
  },
  {
   "cell_type": "code",
   "execution_count": 312,
   "id": "29075b67",
   "metadata": {},
   "outputs": [],
   "source": [
    "train_orig.counter = train_orig.counter.astype(np.uint8)"
   ]
  },
  {
   "cell_type": "markdown",
   "id": "cd7d6e25",
   "metadata": {},
   "source": [
    "Проверим что получилось"
   ]
  },
  {
   "cell_type": "code",
   "execution_count": 313,
   "id": "ea7a0e76",
   "metadata": {},
   "outputs": [
    {
     "name": "stdout",
     "output_type": "stream",
     "text": [
      "<class 'pandas.core.frame.DataFrame'>\n",
      "RangeIndex: 20216100 entries, 0 to 20216099\n",
      "Data columns (total 4 columns):\n",
      " #   Column    Dtype         \n",
      "---  ------    -----         \n",
      " 0   obj_id    uint16        \n",
      " 1   counter   uint8         \n",
      " 2   datetime  datetime64[ns]\n",
      " 3   value     float64       \n",
      "dtypes: datetime64[ns](1), float64(1), uint16(1), uint8(1)\n",
      "memory usage: 366.3 MB\n"
     ]
    }
   ],
   "source": [
    "train_orig.info(memory_usage='deep')"
   ]
  },
  {
   "cell_type": "markdown",
   "id": "6d45d38c",
   "metadata": {},
   "source": [
    "**Вывод по train**\n",
    "\n",
    "Удалось привести типы признаков к верным и минимальным по размерам, удалён лишний признак. Таки образом удалось сжать датасет до 366.3 MB"
   ]
  },
  {
   "cell_type": "code",
   "execution_count": 314,
   "id": "90d77ebf",
   "metadata": {},
   "outputs": [
    {
     "name": "stdout",
     "output_type": "stream",
     "text": [
      "train сжат на 82%\n"
     ]
    }
   ],
   "source": [
    "# процент оптимизации\n",
    "print('train сжат на {}%'.format(round((1 - 366.3/2048) * 100), 2))"
   ]
  },
  {
   "cell_type": "code",
   "execution_count": null,
   "id": "28e87d2d",
   "metadata": {},
   "outputs": [],
   "source": []
  },
  {
   "cell_type": "markdown",
   "id": "76c40049",
   "metadata": {},
   "source": [
    "Посмотрим сводную информацию по test и возможно напишем волшебную функцию для повторения действий выше"
   ]
  },
  {
   "cell_type": "code",
   "execution_count": 320,
   "id": "610ef682",
   "metadata": {},
   "outputs": [
    {
     "name": "stdout",
     "output_type": "stream",
     "text": [
      "<class 'pandas.core.frame.DataFrame'>\n",
      "RangeIndex: 41697600 entries, 0 to 41697599\n",
      "Data columns (total 3 columns):\n",
      " #   Column    Dtype         \n",
      "---  ------    -----         \n",
      " 0   obj_id    uint16        \n",
      " 1   counter   uint8         \n",
      " 2   datetime  datetime64[ns]\n",
      "dtypes: datetime64[ns](1), uint16(1), uint8(1)\n",
      "memory usage: 437.4 MB\n"
     ]
    }
   ],
   "source": [
    "test_orig.info(memory_usage='deep')"
   ]
  },
  {
   "cell_type": "markdown",
   "id": "77ef7c55",
   "metadata": {},
   "source": [
    "Занимаемый объём в 4.2 Гб. Пропусков нет. Интересно, здесь ещё есть Unnamed: 0.1. Кто ты?"
   ]
  },
  {
   "cell_type": "code",
   "execution_count": 321,
   "id": "a2c35ac3",
   "metadata": {},
   "outputs": [],
   "source": [
    "# test_orig['Unnamed: 0.1'].sample(4)"
   ]
  },
  {
   "cell_type": "markdown",
   "id": "ab9a6c44",
   "metadata": {},
   "source": [
    "Проверим его равенство с индексом, если так, то и его удалить без зазрений совести"
   ]
  },
  {
   "cell_type": "code",
   "execution_count": 322,
   "id": "23546094",
   "metadata": {},
   "outputs": [],
   "source": [
    "# (test_orig['Unnamed: 0.1'] == test_orig.index).any()"
   ]
  },
  {
   "cell_type": "markdown",
   "id": "99b7a9a3",
   "metadata": {},
   "source": [
    "Да, ничего в нём нового. Удалим"
   ]
  },
  {
   "cell_type": "code",
   "execution_count": null,
   "id": "e543cc1a",
   "metadata": {},
   "outputs": [],
   "source": []
  },
  {
   "cell_type": "markdown",
   "id": "1c4eb754",
   "metadata": {},
   "source": [
    "Готовим функцию по обработке train/test"
   ]
  },
  {
   "cell_type": "code",
   "execution_count": 326,
   "id": "027e4968",
   "metadata": {},
   "outputs": [],
   "source": [
    "def prepare_train_test(dataset):\n",
    "    # исправляем тип datetime\n",
    "    dataset.datetime = pd.to_datetime(dataset.datetime)\n",
    "    # удалим столбец **Unnamed: 0**\n",
    "    if 'Unnamed: 0' in dataset.columns:\n",
    "        dataset = dataset.drop('Unnamed: 0', axis=1)\n",
    "    # удалим столбец **Unnamed: 0.1**, если он есть\n",
    "    if 'Unnamed: 0.1' in dataset.columns:\n",
    "        dataset = dataset.drop('Unnamed: 0.1', axis=1)\n",
    "    # Сжимаем obj_id и counter\n",
    "    dataset.obj_id = dataset.obj_id.astype(np.ushort)\n",
    "    dataset.counter = dataset.counter.astype(np.uint8)\n",
    "    \n",
    "    return dataset"
   ]
  },
  {
   "cell_type": "code",
   "execution_count": null,
   "id": "b1a750e6",
   "metadata": {},
   "outputs": [],
   "source": []
  },
  {
   "cell_type": "markdown",
   "id": "eccd6a18",
   "metadata": {},
   "source": [
    "Применим функцию на test_orig и посмотрим выхлоп"
   ]
  },
  {
   "cell_type": "code",
   "execution_count": 327,
   "id": "aad56499",
   "metadata": {},
   "outputs": [],
   "source": [
    "test_orig = prepare_train_test(test_orig)"
   ]
  },
  {
   "cell_type": "code",
   "execution_count": 328,
   "id": "444bd0ff",
   "metadata": {},
   "outputs": [
    {
     "data": {
      "text/html": [
       "<div>\n",
       "<style scoped>\n",
       "    .dataframe tbody tr th:only-of-type {\n",
       "        vertical-align: middle;\n",
       "    }\n",
       "\n",
       "    .dataframe tbody tr th {\n",
       "        vertical-align: top;\n",
       "    }\n",
       "\n",
       "    .dataframe thead th {\n",
       "        text-align: right;\n",
       "    }\n",
       "</style>\n",
       "<table border=\"1\" class=\"dataframe\">\n",
       "  <thead>\n",
       "    <tr style=\"text-align: right;\">\n",
       "      <th></th>\n",
       "      <th>obj_id</th>\n",
       "      <th>counter</th>\n",
       "      <th>datetime</th>\n",
       "    </tr>\n",
       "  </thead>\n",
       "  <tbody>\n",
       "    <tr>\n",
       "      <th>2779359</th>\n",
       "      <td>1371</td>\n",
       "      <td>0</td>\n",
       "      <td>2017-12-14 09:00:00</td>\n",
       "    </tr>\n",
       "    <tr>\n",
       "      <th>40733715</th>\n",
       "      <td>211</td>\n",
       "      <td>0</td>\n",
       "      <td>2017-04-09 04:00:00</td>\n",
       "    </tr>\n",
       "    <tr>\n",
       "      <th>2074466</th>\n",
       "      <td>947</td>\n",
       "      <td>0</td>\n",
       "      <td>2018-07-17 02:00:00</td>\n",
       "    </tr>\n",
       "    <tr>\n",
       "      <th>9725888</th>\n",
       "      <td>1322</td>\n",
       "      <td>3</td>\n",
       "      <td>2018-07-05 20:00:00</td>\n",
       "    </tr>\n",
       "  </tbody>\n",
       "</table>\n",
       "</div>"
      ],
      "text/plain": [
       "          obj_id  counter            datetime\n",
       "2779359     1371        0 2017-12-14 09:00:00\n",
       "40733715     211        0 2017-04-09 04:00:00\n",
       "2074466      947        0 2018-07-17 02:00:00\n",
       "9725888     1322        3 2018-07-05 20:00:00"
      ]
     },
     "execution_count": 328,
     "metadata": {},
     "output_type": "execute_result"
    }
   ],
   "source": [
    "test_orig.sample(4)"
   ]
  },
  {
   "cell_type": "code",
   "execution_count": 329,
   "id": "9704bc6b",
   "metadata": {},
   "outputs": [
    {
     "name": "stdout",
     "output_type": "stream",
     "text": [
      "<class 'pandas.core.frame.DataFrame'>\n",
      "RangeIndex: 41697600 entries, 0 to 41697599\n",
      "Data columns (total 3 columns):\n",
      " #   Column    Dtype         \n",
      "---  ------    -----         \n",
      " 0   obj_id    uint16        \n",
      " 1   counter   uint8         \n",
      " 2   datetime  datetime64[ns]\n",
      "dtypes: datetime64[ns](1), uint16(1), uint8(1)\n",
      "memory usage: 437.4 MB\n"
     ]
    }
   ],
   "source": [
    "test_orig.info(memory_usage='deep')"
   ]
  },
  {
   "cell_type": "markdown",
   "id": "bc1dc596",
   "metadata": {},
   "source": [
    "**Вывод по test**\n",
    "\n",
    "Благодаря магической функции удалось привести типы признаков к верным и минимальным по размерам, удалены лишние признаки. Таким образом удалось сжать датасет до 437.4 MB"
   ]
  },
  {
   "cell_type": "code",
   "execution_count": 330,
   "id": "4f704b98",
   "metadata": {},
   "outputs": [
    {
     "name": "stdout",
     "output_type": "stream",
     "text": [
      "test сжат на 90%\n"
     ]
    }
   ],
   "source": [
    "# процент оптимизации\n",
    "print('test сжат на {}%'.format(round((1 - 437.4/(4.2 * 1024)) * 100), 2))"
   ]
  },
  {
   "cell_type": "code",
   "execution_count": null,
   "id": "b96cabd8",
   "metadata": {},
   "outputs": [],
   "source": []
  },
  {
   "cell_type": "markdown",
   "id": "60ae70a4",
   "metadata": {},
   "source": [
    "Приступаем к анализу bulding_meta"
   ]
  },
  {
   "cell_type": "code",
   "execution_count": 331,
   "id": "349e3ba8",
   "metadata": {},
   "outputs": [
    {
     "name": "stdout",
     "output_type": "stream",
     "text": [
      "<class 'pandas.core.frame.DataFrame'>\n",
      "RangeIndex: 1449 entries, 0 to 1448\n",
      "Data columns (total 7 columns):\n",
      " #   Column      Non-Null Count  Dtype  \n",
      "---  ------      --------------  -----  \n",
      " 0   Unnamed: 0  1449 non-null   int64  \n",
      " 1   city        1449 non-null   int64  \n",
      " 2   obj_id      1449 non-null   int64  \n",
      " 3   function    1449 non-null   object \n",
      " 4   square      1449 non-null   int64  \n",
      " 5   year        675 non-null    float64\n",
      " 6   floor       355 non-null    float64\n",
      "dtypes: float64(2), int64(4), object(1)\n",
      "memory usage: 166.8 KB\n"
     ]
    }
   ],
   "source": [
    "# сводная информация\n",
    "building_meta_orig.info(memory_usage='deep')"
   ]
  },
  {
   "cell_type": "markdown",
   "id": "78c01605",
   "metadata": {},
   "source": [
    "Занимаемый объём 166.8 KB. Потенциально бесполезный Unnamed: 0.\n",
    "\n",
    "**!**В year и floor наблюдаются пропуски"
   ]
  },
  {
   "cell_type": "markdown",
   "id": "2ef85f4c",
   "metadata": {},
   "source": [
    "Посмотрим сводную по всем столбцам"
   ]
  },
  {
   "cell_type": "code",
   "execution_count": 332,
   "id": "8d840ace",
   "metadata": {},
   "outputs": [
    {
     "data": {
      "text/html": [
       "<div>\n",
       "<style scoped>\n",
       "    .dataframe tbody tr th:only-of-type {\n",
       "        vertical-align: middle;\n",
       "    }\n",
       "\n",
       "    .dataframe tbody tr th {\n",
       "        vertical-align: top;\n",
       "    }\n",
       "\n",
       "    .dataframe thead th {\n",
       "        text-align: right;\n",
       "    }\n",
       "</style>\n",
       "<table border=\"1\" class=\"dataframe\">\n",
       "  <thead>\n",
       "    <tr style=\"text-align: right;\">\n",
       "      <th></th>\n",
       "      <th>Unnamed: 0</th>\n",
       "      <th>city</th>\n",
       "      <th>obj_id</th>\n",
       "      <th>square</th>\n",
       "      <th>year</th>\n",
       "      <th>floor</th>\n",
       "    </tr>\n",
       "  </thead>\n",
       "  <tbody>\n",
       "    <tr>\n",
       "      <th>count</th>\n",
       "      <td>1449.000000</td>\n",
       "      <td>1449.000000</td>\n",
       "      <td>1449.000000</td>\n",
       "      <td>1449.000000</td>\n",
       "      <td>675.000000</td>\n",
       "      <td>355.000000</td>\n",
       "    </tr>\n",
       "    <tr>\n",
       "      <th>mean</th>\n",
       "      <td>724.000000</td>\n",
       "      <td>6.952381</td>\n",
       "      <td>724.000000</td>\n",
       "      <td>92111.776398</td>\n",
       "      <td>1967.957037</td>\n",
       "      <td>3.740845</td>\n",
       "    </tr>\n",
       "    <tr>\n",
       "      <th>std</th>\n",
       "      <td>418.434583</td>\n",
       "      <td>5.003432</td>\n",
       "      <td>418.434583</td>\n",
       "      <td>110769.950997</td>\n",
       "      <td>31.054030</td>\n",
       "      <td>3.333683</td>\n",
       "    </tr>\n",
       "    <tr>\n",
       "      <th>min</th>\n",
       "      <td>0.000000</td>\n",
       "      <td>0.000000</td>\n",
       "      <td>0.000000</td>\n",
       "      <td>283.000000</td>\n",
       "      <td>1900.000000</td>\n",
       "      <td>1.000000</td>\n",
       "    </tr>\n",
       "    <tr>\n",
       "      <th>25%</th>\n",
       "      <td>362.000000</td>\n",
       "      <td>3.000000</td>\n",
       "      <td>362.000000</td>\n",
       "      <td>23012.000000</td>\n",
       "      <td>1949.000000</td>\n",
       "      <td>1.000000</td>\n",
       "    </tr>\n",
       "    <tr>\n",
       "      <th>50%</th>\n",
       "      <td>724.000000</td>\n",
       "      <td>5.000000</td>\n",
       "      <td>724.000000</td>\n",
       "      <td>57673.000000</td>\n",
       "      <td>1970.000000</td>\n",
       "      <td>3.000000</td>\n",
       "    </tr>\n",
       "    <tr>\n",
       "      <th>75%</th>\n",
       "      <td>1086.000000</td>\n",
       "      <td>13.000000</td>\n",
       "      <td>1086.000000</td>\n",
       "      <td>115676.000000</td>\n",
       "      <td>1995.000000</td>\n",
       "      <td>5.000000</td>\n",
       "    </tr>\n",
       "    <tr>\n",
       "      <th>max</th>\n",
       "      <td>1448.000000</td>\n",
       "      <td>15.000000</td>\n",
       "      <td>1448.000000</td>\n",
       "      <td>875000.000000</td>\n",
       "      <td>2017.000000</td>\n",
       "      <td>26.000000</td>\n",
       "    </tr>\n",
       "  </tbody>\n",
       "</table>\n",
       "</div>"
      ],
      "text/plain": [
       "        Unnamed: 0         city       obj_id         square         year  \\\n",
       "count  1449.000000  1449.000000  1449.000000    1449.000000   675.000000   \n",
       "mean    724.000000     6.952381   724.000000   92111.776398  1967.957037   \n",
       "std     418.434583     5.003432   418.434583  110769.950997    31.054030   \n",
       "min       0.000000     0.000000     0.000000     283.000000  1900.000000   \n",
       "25%     362.000000     3.000000   362.000000   23012.000000  1949.000000   \n",
       "50%     724.000000     5.000000   724.000000   57673.000000  1970.000000   \n",
       "75%    1086.000000    13.000000  1086.000000  115676.000000  1995.000000   \n",
       "max    1448.000000    15.000000  1448.000000  875000.000000  2017.000000   \n",
       "\n",
       "            floor  \n",
       "count  355.000000  \n",
       "mean     3.740845  \n",
       "std      3.333683  \n",
       "min      1.000000  \n",
       "25%      1.000000  \n",
       "50%      3.000000  \n",
       "75%      5.000000  \n",
       "max     26.000000  "
      ]
     },
     "execution_count": 332,
     "metadata": {},
     "output_type": "execute_result"
    }
   ],
   "source": [
    "building_meta_orig.describe()"
   ]
  },
  {
   "cell_type": "markdown",
   "id": "04e98acf",
   "metadata": {},
   "source": [
    "**Вывод**\n",
    "\n",
    "Можно сжать:\n",
    "\n",
    "**city** и **floor** до uint8\n",
    "\n",
    "**obj_id** и **year** до ushort"
   ]
  },
  {
   "cell_type": "code",
   "execution_count": 333,
   "id": "6cec906f",
   "metadata": {},
   "outputs": [],
   "source": [
    "# сжимаем city\n",
    "building_meta_orig.city = building_meta_orig.city.astype(np.uint8)"
   ]
  },
  {
   "cell_type": "code",
   "execution_count": 334,
   "id": "07b80574",
   "metadata": {},
   "outputs": [],
   "source": [
    "# сжимаем obj_id\n",
    "building_meta_orig.obj_id = building_meta_orig.obj_id.astype(np.ushort)"
   ]
  },
  {
   "cell_type": "markdown",
   "id": "0cf0f8c3",
   "metadata": {},
   "source": [
    "Работаем с пропусками в **year** (год постройки)"
   ]
  },
  {
   "cell_type": "code",
   "execution_count": 335,
   "id": "13b888c3",
   "metadata": {},
   "outputs": [
    {
     "data": {
      "text/plain": [
       "True     774\n",
       "False    675\n",
       "Name: year, dtype: int64"
      ]
     },
     "execution_count": 335,
     "metadata": {},
     "output_type": "execute_result"
    }
   ],
   "source": [
    "# посмотрим количество пропущенных значений\n",
    "building_meta_orig.year.isna().value_counts()"
   ]
  },
  {
   "cell_type": "markdown",
   "id": "697478f9",
   "metadata": {},
   "source": [
    "Пропусков достаточно много, больше 50%. Удалять признак опрометчиво, но и занять его медианой или средним неразумно. Заменю пропуски 0, как 'Unknown'"
   ]
  },
  {
   "cell_type": "code",
   "execution_count": 336,
   "id": "1c2688b3",
   "metadata": {},
   "outputs": [
    {
     "data": {
      "text/plain": [
       "count     675.000000\n",
       "mean     1967.957037\n",
       "std        31.054030\n",
       "min      1900.000000\n",
       "25%      1949.000000\n",
       "50%      1970.000000\n",
       "75%      1995.000000\n",
       "max      2017.000000\n",
       "Name: year, dtype: float64"
      ]
     },
     "execution_count": 336,
     "metadata": {},
     "output_type": "execute_result"
    }
   ],
   "source": [
    "\n",
    "building_meta_orig.year.describe()"
   ]
  },
  {
   "cell_type": "code",
   "execution_count": 337,
   "id": "7a23607c",
   "metadata": {},
   "outputs": [],
   "source": [
    "building_meta_orig.year = building_meta_orig.year.fillna(0)"
   ]
  },
  {
   "cell_type": "code",
   "execution_count": 338,
   "id": "e0500753",
   "metadata": {},
   "outputs": [
    {
     "data": {
      "text/plain": [
       "False    1449\n",
       "Name: year, dtype: int64"
      ]
     },
     "execution_count": 338,
     "metadata": {},
     "output_type": "execute_result"
    }
   ],
   "source": [
    "# проверим пропуски\n",
    "building_meta_orig.year.isna().value_counts()"
   ]
  },
  {
   "cell_type": "markdown",
   "id": "9887fc91",
   "metadata": {},
   "source": [
    "Пропусков в **year** нет, можно сжать до ushort"
   ]
  },
  {
   "cell_type": "code",
   "execution_count": 339,
   "id": "96162135",
   "metadata": {},
   "outputs": [],
   "source": [
    "# сжимаем year\n",
    "building_meta_orig.year = building_meta_orig.year.astype(np.ushort)"
   ]
  },
  {
   "cell_type": "markdown",
   "id": "cc53678a",
   "metadata": {},
   "source": [
    "Работаем с пропусками в **floor** (количество этажей)"
   ]
  },
  {
   "cell_type": "code",
   "execution_count": 340,
   "id": "0ec9858e",
   "metadata": {},
   "outputs": [
    {
     "data": {
      "text/plain": [
       "True     1094\n",
       "False     355\n",
       "Name: floor, dtype: int64"
      ]
     },
     "execution_count": 340,
     "metadata": {},
     "output_type": "execute_result"
    }
   ],
   "source": [
    "building_meta_orig.floor.isna().value_counts()"
   ]
  },
  {
   "cell_type": "code",
   "execution_count": 341,
   "id": "47b03fe5",
   "metadata": {},
   "outputs": [
    {
     "name": "stdout",
     "output_type": "stream",
     "text": [
      "Пропущено 75.5 % значений в признаке floor!\n"
     ]
    }
   ],
   "source": [
    "print(f'Пропущено {round(1094 / 1449 * 100, 2)} % значений в признаке floor!')"
   ]
  },
  {
   "cell_type": "markdown",
   "id": "3654329e",
   "metadata": {},
   "source": [
    "Поскольку пропусков слишком много (можно считать, что практически все пустые), то со слезами на глазах просто его удаляем"
   ]
  },
  {
   "cell_type": "code",
   "execution_count": 342,
   "id": "1da39b78",
   "metadata": {},
   "outputs": [],
   "source": [
    "building_meta_orig = building_meta_orig.drop('floor', axis=1)"
   ]
  },
  {
   "cell_type": "markdown",
   "id": "d41ac23e",
   "metadata": {},
   "source": [
    "Напоследок посмотрим не повторяет ли **Unnamed: 0** индекс"
   ]
  },
  {
   "cell_type": "code",
   "execution_count": 343,
   "id": "6bafbf01",
   "metadata": {},
   "outputs": [
    {
     "data": {
      "text/plain": [
       "True"
      ]
     },
     "execution_count": 343,
     "metadata": {},
     "output_type": "execute_result"
    }
   ],
   "source": [
    "(building_meta_orig['Unnamed: 0'] == building_meta_orig.index).any()"
   ]
  },
  {
   "cell_type": "markdown",
   "id": "628f1d7f",
   "metadata": {},
   "source": [
    "Повторяет, а потому без слёз его удаляем"
   ]
  },
  {
   "cell_type": "code",
   "execution_count": 344,
   "id": "87a4dcd0",
   "metadata": {},
   "outputs": [],
   "source": [
    "building_meta_orig = building_meta_orig.drop('Unnamed: 0', axis=1)"
   ]
  },
  {
   "cell_type": "markdown",
   "id": "fd6102d1",
   "metadata": {},
   "source": [
    "Остался признак назначения здания. Пропусков нет, но **что внутри**??"
   ]
  },
  {
   "cell_type": "code",
   "execution_count": 345,
   "id": "b9a0ad88",
   "metadata": {},
   "outputs": [
    {
     "data": {
      "text/plain": [
       "260                        Education\n",
       "227    Entertainment/public assembly\n",
       "479                  Public services\n",
       "675         Manufacturing/industrial\n",
       "Name: function, dtype: object"
      ]
     },
     "execution_count": 345,
     "metadata": {},
     "output_type": "execute_result"
    }
   ],
   "source": [
    "building_meta_orig.function.sample(4)"
   ]
  },
  {
   "cell_type": "code",
   "execution_count": 346,
   "id": "230b9576",
   "metadata": {},
   "outputs": [
    {
     "data": {
      "text/plain": [
       "array(['Education', 'Lodging/residential', 'Office',\n",
       "       'Entertainment/public assembly', 'Other', 'Retail', 'Parking',\n",
       "       'Public services', 'Warehouse/storage', 'Food sales and service',\n",
       "       'Religious worship', 'Healthcare', 'Utility', 'Technology/science',\n",
       "       'Manufacturing/industrial', 'Services'], dtype=object)"
      ]
     },
     "execution_count": 346,
     "metadata": {},
     "output_type": "execute_result"
    }
   ],
   "source": [
    "# какие значения принимает?\n",
    "building_meta_orig.function.unique()"
   ]
  },
  {
   "cell_type": "markdown",
   "id": "cd1a511f",
   "metadata": {},
   "source": [
    "Всего 16 значений. Уже сейчас можем:\n",
    "\n",
    "    1. закодировать этот признак\n",
    "    2. сменить тип на uint8\n",
    "    \n",
    "**Когда-то в будущем избавиться от категориальности**. Сейчас же нужен мЕньший объём? Let's do it!"
   ]
  },
  {
   "cell_type": "markdown",
   "id": "4377758d",
   "metadata": {},
   "source": [
    "Соберём словарь подмены значений"
   ]
  },
  {
   "cell_type": "code",
   "execution_count": 347,
   "id": "4b183d5a",
   "metadata": {},
   "outputs": [],
   "source": [
    "function_values = building_meta_orig.function.unique()"
   ]
  },
  {
   "cell_type": "code",
   "execution_count": 348,
   "id": "a30cf5ce",
   "metadata": {},
   "outputs": [],
   "source": [
    "# сюда соберем что на что менять\n",
    "function_values_dict = {}"
   ]
  },
  {
   "cell_type": "code",
   "execution_count": null,
   "id": "06a993ce",
   "metadata": {},
   "outputs": [],
   "source": []
  },
  {
   "cell_type": "code",
   "execution_count": 349,
   "id": "bde67cf1",
   "metadata": {},
   "outputs": [],
   "source": [
    "for i in range(len(function_values)):\n",
    "    function_values_dict[function_values[i]] = i"
   ]
  },
  {
   "cell_type": "code",
   "execution_count": 350,
   "id": "403efc28",
   "metadata": {},
   "outputs": [
    {
     "data": {
      "text/plain": [
       "{'Education': 0,\n",
       " 'Lodging/residential': 1,\n",
       " 'Office': 2,\n",
       " 'Entertainment/public assembly': 3,\n",
       " 'Other': 4,\n",
       " 'Retail': 5,\n",
       " 'Parking': 6,\n",
       " 'Public services': 7,\n",
       " 'Warehouse/storage': 8,\n",
       " 'Food sales and service': 9,\n",
       " 'Religious worship': 10,\n",
       " 'Healthcare': 11,\n",
       " 'Utility': 12,\n",
       " 'Technology/science': 13,\n",
       " 'Manufacturing/industrial': 14,\n",
       " 'Services': 15}"
      ]
     },
     "execution_count": 350,
     "metadata": {},
     "output_type": "execute_result"
    }
   ],
   "source": [
    "# проверяем наш чудо-словарь\n",
    "function_values_dict"
   ]
  },
  {
   "cell_type": "markdown",
   "id": "a69fecaf",
   "metadata": {},
   "source": [
    "Когда-то он нам ещё пригодится. Сейчас просто подменим"
   ]
  },
  {
   "cell_type": "code",
   "execution_count": 351,
   "id": "e4940586",
   "metadata": {},
   "outputs": [],
   "source": [
    "building_meta_orig.function = building_meta_orig.function.replace(function_values_dict)"
   ]
  },
  {
   "cell_type": "markdown",
   "id": "f63a22e3",
   "metadata": {},
   "source": [
    "Осталось \"сжать\" **function**"
   ]
  },
  {
   "cell_type": "code",
   "execution_count": null,
   "id": "73cfda72",
   "metadata": {},
   "outputs": [],
   "source": []
  },
  {
   "cell_type": "code",
   "execution_count": 352,
   "id": "b1e914cc",
   "metadata": {},
   "outputs": [],
   "source": [
    "building_meta_orig.function = building_meta_orig.function.astype(np.uint8)"
   ]
  },
  {
   "cell_type": "markdown",
   "id": "ff9fdeb3",
   "metadata": {},
   "source": [
    "Проверим что получилось в ходе предварительного сжатия building_meta"
   ]
  },
  {
   "cell_type": "code",
   "execution_count": 353,
   "id": "95b83c4f",
   "metadata": {},
   "outputs": [
    {
     "name": "stdout",
     "output_type": "stream",
     "text": [
      "<class 'pandas.core.frame.DataFrame'>\n",
      "RangeIndex: 1449 entries, 0 to 1448\n",
      "Data columns (total 5 columns):\n",
      " #   Column    Non-Null Count  Dtype \n",
      "---  ------    --------------  ----- \n",
      " 0   city      1449 non-null   uint8 \n",
      " 1   obj_id    1449 non-null   uint16\n",
      " 2   function  1449 non-null   uint8 \n",
      " 3   square    1449 non-null   int64 \n",
      " 4   year      1449 non-null   uint16\n",
      "dtypes: int64(1), uint16(2), uint8(2)\n",
      "memory usage: 19.9 KB\n"
     ]
    }
   ],
   "source": [
    "building_meta_orig.info(memory_usage='deep')"
   ]
  },
  {
   "cell_type": "markdown",
   "id": "80a167f6",
   "metadata": {},
   "source": [
    "**Вывод по building_meta_orig**\n",
    "\n",
    "Удалось привести типы признаков к верным и минимальным по размерам, удалены два лишних признака. Таким образом удалось сжать датасет до 19.9 КБ"
   ]
  },
  {
   "cell_type": "code",
   "execution_count": 354,
   "id": "26e89047",
   "metadata": {},
   "outputs": [
    {
     "name": "stdout",
     "output_type": "stream",
     "text": [
      "building_meta сжат на 88%\n"
     ]
    }
   ],
   "source": [
    "# процент оптимизации\n",
    "print('building_meta сжат на {}%'.format(round((1 - 19.9/166.8) * 100), 2))"
   ]
  },
  {
   "cell_type": "code",
   "execution_count": null,
   "id": "7bb016eb",
   "metadata": {},
   "outputs": [],
   "source": []
  },
  {
   "cell_type": "code",
   "execution_count": null,
   "id": "5713e5a6",
   "metadata": {},
   "outputs": [],
   "source": []
  },
  {
   "cell_type": "markdown",
   "id": "b1116b82",
   "metadata": {},
   "source": [
    "Приступаем к анализу weather_train"
   ]
  },
  {
   "cell_type": "code",
   "execution_count": 355,
   "id": "ff7576e4",
   "metadata": {},
   "outputs": [
    {
     "name": "stdout",
     "output_type": "stream",
     "text": [
      "<class 'pandas.core.frame.DataFrame'>\n",
      "RangeIndex: 139773 entries, 0 to 139772\n",
      "Data columns (total 11 columns):\n",
      " #   Column         Non-Null Count   Dtype  \n",
      "---  ------         --------------   -----  \n",
      " 0   Unnamed: 0     139773 non-null  int64  \n",
      " 1   Unnamed: 0.1   139773 non-null  int64  \n",
      " 2   city           139773 non-null  int64  \n",
      " 3   datetime       139773 non-null  object \n",
      " 4   temp           139718 non-null  float64\n",
      " 5   clouds         70600 non-null   float64\n",
      " 6   dew            139660 non-null  float64\n",
      " 7   precipitation  89484 non-null   float64\n",
      " 8   pressure       129163 non-null  float64\n",
      " 9   wdirection     133505 non-null  float64\n",
      " 10  wspeed         139469 non-null  float64\n",
      "dtypes: float64(7), int64(3), object(1)\n",
      "memory usage: 20.8 MB\n"
     ]
    }
   ],
   "source": [
    "# сводная информация\n",
    "weather_train_orig.info(memory_usage='deep')"
   ]
  },
  {
   "cell_type": "markdown",
   "id": "b7280f94",
   "metadata": {},
   "source": [
    "Занимаемый объём 20.8 MB. Потенциально бесполезный Unnamed: 0. Но есть и Unnamed: 0.1\n",
    "\n",
    "**!**В temp, clouds, dew, precipitation, pressure, wdirection и wspeed наблюдаются пропуски"
   ]
  },
  {
   "cell_type": "markdown",
   "id": "6dc794b2",
   "metadata": {},
   "source": [
    "Посмотрим сводную по всем столбцам"
   ]
  },
  {
   "cell_type": "code",
   "execution_count": 356,
   "id": "09672ca9",
   "metadata": {},
   "outputs": [
    {
     "data": {
      "text/html": [
       "<div>\n",
       "<style scoped>\n",
       "    .dataframe tbody tr th:only-of-type {\n",
       "        vertical-align: middle;\n",
       "    }\n",
       "\n",
       "    .dataframe tbody tr th {\n",
       "        vertical-align: top;\n",
       "    }\n",
       "\n",
       "    .dataframe thead th {\n",
       "        text-align: right;\n",
       "    }\n",
       "</style>\n",
       "<table border=\"1\" class=\"dataframe\">\n",
       "  <thead>\n",
       "    <tr style=\"text-align: right;\">\n",
       "      <th></th>\n",
       "      <th>Unnamed: 0</th>\n",
       "      <th>Unnamed: 0.1</th>\n",
       "      <th>city</th>\n",
       "      <th>temp</th>\n",
       "      <th>clouds</th>\n",
       "      <th>dew</th>\n",
       "      <th>precipitation</th>\n",
       "      <th>pressure</th>\n",
       "      <th>wdirection</th>\n",
       "      <th>wspeed</th>\n",
       "    </tr>\n",
       "  </thead>\n",
       "  <tbody>\n",
       "    <tr>\n",
       "      <th>count</th>\n",
       "      <td>139773.000000</td>\n",
       "      <td>139773.000000</td>\n",
       "      <td>139773.000000</td>\n",
       "      <td>139718.000000</td>\n",
       "      <td>70600.000000</td>\n",
       "      <td>139660.000000</td>\n",
       "      <td>89484.000000</td>\n",
       "      <td>129163.000000</td>\n",
       "      <td>133505.000000</td>\n",
       "      <td>139469.000000</td>\n",
       "    </tr>\n",
       "    <tr>\n",
       "      <th>mean</th>\n",
       "      <td>69886.000000</td>\n",
       "      <td>69886.000000</td>\n",
       "      <td>7.478977</td>\n",
       "      <td>14.535614</td>\n",
       "      <td>2.149306</td>\n",
       "      <td>7.350158</td>\n",
       "      <td>0.983047</td>\n",
       "      <td>1016.259813</td>\n",
       "      <td>180.526632</td>\n",
       "      <td>3.560527</td>\n",
       "    </tr>\n",
       "    <tr>\n",
       "      <th>std</th>\n",
       "      <td>40349.133925</td>\n",
       "      <td>40349.133925</td>\n",
       "      <td>4.604744</td>\n",
       "      <td>10.866151</td>\n",
       "      <td>2.599150</td>\n",
       "      <td>9.790235</td>\n",
       "      <td>8.463678</td>\n",
       "      <td>8.397217</td>\n",
       "      <td>111.523629</td>\n",
       "      <td>2.335874</td>\n",
       "    </tr>\n",
       "    <tr>\n",
       "      <th>min</th>\n",
       "      <td>0.000000</td>\n",
       "      <td>0.000000</td>\n",
       "      <td>0.000000</td>\n",
       "      <td>-28.900000</td>\n",
       "      <td>0.000000</td>\n",
       "      <td>-35.000000</td>\n",
       "      <td>-1.000000</td>\n",
       "      <td>968.200000</td>\n",
       "      <td>0.000000</td>\n",
       "      <td>0.000000</td>\n",
       "    </tr>\n",
       "    <tr>\n",
       "      <th>25%</th>\n",
       "      <td>34943.000000</td>\n",
       "      <td>34943.000000</td>\n",
       "      <td>3.000000</td>\n",
       "      <td>7.200000</td>\n",
       "      <td>0.000000</td>\n",
       "      <td>0.600000</td>\n",
       "      <td>0.000000</td>\n",
       "      <td>1011.800000</td>\n",
       "      <td>80.000000</td>\n",
       "      <td>2.100000</td>\n",
       "    </tr>\n",
       "    <tr>\n",
       "      <th>50%</th>\n",
       "      <td>69886.000000</td>\n",
       "      <td>69886.000000</td>\n",
       "      <td>7.000000</td>\n",
       "      <td>15.000000</td>\n",
       "      <td>2.000000</td>\n",
       "      <td>8.300000</td>\n",
       "      <td>0.000000</td>\n",
       "      <td>1016.400000</td>\n",
       "      <td>190.000000</td>\n",
       "      <td>3.100000</td>\n",
       "    </tr>\n",
       "    <tr>\n",
       "      <th>75%</th>\n",
       "      <td>104829.000000</td>\n",
       "      <td>104829.000000</td>\n",
       "      <td>11.000000</td>\n",
       "      <td>22.200000</td>\n",
       "      <td>4.000000</td>\n",
       "      <td>14.400000</td>\n",
       "      <td>0.000000</td>\n",
       "      <td>1020.800000</td>\n",
       "      <td>280.000000</td>\n",
       "      <td>5.000000</td>\n",
       "    </tr>\n",
       "    <tr>\n",
       "      <th>max</th>\n",
       "      <td>139772.000000</td>\n",
       "      <td>139772.000000</td>\n",
       "      <td>15.000000</td>\n",
       "      <td>69.952944</td>\n",
       "      <td>9.000000</td>\n",
       "      <td>26.100000</td>\n",
       "      <td>343.000000</td>\n",
       "      <td>1198.080920</td>\n",
       "      <td>360.000000</td>\n",
       "      <td>19.000000</td>\n",
       "    </tr>\n",
       "  </tbody>\n",
       "</table>\n",
       "</div>"
      ],
      "text/plain": [
       "          Unnamed: 0   Unnamed: 0.1           city           temp  \\\n",
       "count  139773.000000  139773.000000  139773.000000  139718.000000   \n",
       "mean    69886.000000   69886.000000       7.478977      14.535614   \n",
       "std     40349.133925   40349.133925       4.604744      10.866151   \n",
       "min         0.000000       0.000000       0.000000     -28.900000   \n",
       "25%     34943.000000   34943.000000       3.000000       7.200000   \n",
       "50%     69886.000000   69886.000000       7.000000      15.000000   \n",
       "75%    104829.000000  104829.000000      11.000000      22.200000   \n",
       "max    139772.000000  139772.000000      15.000000      69.952944   \n",
       "\n",
       "             clouds            dew  precipitation       pressure  \\\n",
       "count  70600.000000  139660.000000   89484.000000  129163.000000   \n",
       "mean       2.149306       7.350158       0.983047    1016.259813   \n",
       "std        2.599150       9.790235       8.463678       8.397217   \n",
       "min        0.000000     -35.000000      -1.000000     968.200000   \n",
       "25%        0.000000       0.600000       0.000000    1011.800000   \n",
       "50%        2.000000       8.300000       0.000000    1016.400000   \n",
       "75%        4.000000      14.400000       0.000000    1020.800000   \n",
       "max        9.000000      26.100000     343.000000    1198.080920   \n",
       "\n",
       "          wdirection         wspeed  \n",
       "count  133505.000000  139469.000000  \n",
       "mean      180.526632       3.560527  \n",
       "std       111.523629       2.335874  \n",
       "min         0.000000       0.000000  \n",
       "25%        80.000000       2.100000  \n",
       "50%       190.000000       3.100000  \n",
       "75%       280.000000       5.000000  \n",
       "max       360.000000      19.000000  "
      ]
     },
     "execution_count": 356,
     "metadata": {},
     "output_type": "execute_result"
    }
   ],
   "source": [
    "weather_train_orig.describe()"
   ]
  },
  {
   "cell_type": "markdown",
   "id": "75b7f4d3",
   "metadata": {},
   "source": [
    "**Выводы**\n",
    "\n",
    "Можно сжать:\n",
    "\n",
    "**city** до uint8\n",
    "\n",
    "Проверить **Unnamed: 0** и **Unnamed: 0.1** и удалить?\n",
    "\n",
    "Подозрительно выглядит **precipation**"
   ]
  },
  {
   "cell_type": "code",
   "execution_count": 357,
   "id": "c1db765c",
   "metadata": {},
   "outputs": [
    {
     "data": {
      "text/plain": [
       "True"
      ]
     },
     "execution_count": 357,
     "metadata": {},
     "output_type": "execute_result"
    }
   ],
   "source": [
    "# сразу проверим эти Unnamed\n",
    "(weather_train_orig['Unnamed: 0'] == weather_train_orig.index).any() and \\\n",
    "(weather_train_orig['Unnamed: 0.1'] == weather_train_orig.index).any()"
   ]
  },
  {
   "cell_type": "markdown",
   "id": "2eba2d9c",
   "metadata": {},
   "source": [
    "И тот и другой признак просто дублируют индекс. Удаляем"
   ]
  },
  {
   "cell_type": "code",
   "execution_count": 358,
   "id": "fcb69907",
   "metadata": {},
   "outputs": [],
   "source": [
    "weather_train_orig = weather_train_orig.drop(columns=['Unnamed: 0', 'Unnamed: 0.1'])"
   ]
  },
  {
   "cell_type": "code",
   "execution_count": 359,
   "id": "d6c80022",
   "metadata": {},
   "outputs": [],
   "source": [
    "# сжимаем city\n",
    "weather_train_orig.city = weather_train_orig.city.astype(np.uint8)"
   ]
  },
  {
   "cell_type": "markdown",
   "id": "4e744b82",
   "metadata": {},
   "source": [
    "Обработаем пропуски в temp и сожмём"
   ]
  },
  {
   "cell_type": "code",
   "execution_count": 360,
   "id": "91bb4281",
   "metadata": {},
   "outputs": [
    {
     "data": {
      "text/plain": [
       "False    139718\n",
       "True         55\n",
       "Name: temp, dtype: int64"
      ]
     },
     "execution_count": 360,
     "metadata": {},
     "output_type": "execute_result"
    }
   ],
   "source": [
    "weather_train_orig.temp.isna().value_counts()"
   ]
  },
  {
   "cell_type": "markdown",
   "id": "769bce23",
   "metadata": {},
   "source": [
    "Пропусков в temp немного - заполним медианным значением"
   ]
  },
  {
   "cell_type": "code",
   "execution_count": 361,
   "id": "c535b559",
   "metadata": {},
   "outputs": [
    {
     "data": {
      "text/plain": [
       "15.0"
      ]
     },
     "execution_count": 361,
     "metadata": {},
     "output_type": "execute_result"
    }
   ],
   "source": [
    "weather_train_orig.temp.median()"
   ]
  },
  {
   "cell_type": "code",
   "execution_count": null,
   "id": "5c6502ad",
   "metadata": {},
   "outputs": [],
   "source": []
  },
  {
   "cell_type": "markdown",
   "id": "304b6e45",
   "metadata": {},
   "source": [
    "Отличная мысль посетила - сформируем словарь подмен NaN значений в weather датасетах"
   ]
  },
  {
   "cell_type": "code",
   "execution_count": 362,
   "id": "d516a3ac",
   "metadata": {},
   "outputs": [
    {
     "data": {
      "text/plain": [
       "array([ 6., nan,  2.,  4.,  8.,  0.,  9.,  7.,  5.,  3.,  1.])"
      ]
     },
     "execution_count": 362,
     "metadata": {},
     "output_type": "execute_result"
    }
   ],
   "source": [
    "# clouds значения про что?\n",
    "weather_train_orig.clouds.unique()"
   ]
  },
  {
   "cell_type": "markdown",
   "id": "090b1d73",
   "metadata": {},
   "source": [
    "Похоже на какие-то категории в clouds. "
   ]
  },
  {
   "cell_type": "code",
   "execution_count": null,
   "id": "12f914a4",
   "metadata": {},
   "outputs": [],
   "source": []
  },
  {
   "cell_type": "code",
   "execution_count": 363,
   "id": "6333773c",
   "metadata": {},
   "outputs": [
    {
     "data": {
      "text/plain": [
       "Index(['city', 'datetime', 'temp', 'clouds', 'dew', 'precipitation',\n",
       "       'pressure', 'wdirection', 'wspeed'],\n",
       "      dtype='object')"
      ]
     },
     "execution_count": 363,
     "metadata": {},
     "output_type": "execute_result"
    }
   ],
   "source": [
    "# какие там вообще колонки\n",
    "weather_train_orig.columns"
   ]
  },
  {
   "cell_type": "markdown",
   "id": "a6719b26",
   "metadata": {},
   "source": [
    "Сначала для количественных переменных: 'temp', 'dew', 'pressure', 'wdirection', 'wspeed'"
   ]
  },
  {
   "cell_type": "code",
   "execution_count": 364,
   "id": "6aaef8f2",
   "metadata": {},
   "outputs": [],
   "source": [
    "# количественные столбцы\n",
    "weather_num_vars = ['temp', 'dew', 'pressure', 'wdirection', 'wspeed']"
   ]
  },
  {
   "cell_type": "code",
   "execution_count": 365,
   "id": "1921a4f2",
   "metadata": {},
   "outputs": [],
   "source": [
    "# здесь будем хранить значения, которыми будем заменять пустоты\n",
    "fillna_weather_dict = {}\n",
    "for col in weather_num_vars:\n",
    "    fillna_weather_dict[col] = weather_train_orig[col].median()"
   ]
  },
  {
   "cell_type": "code",
   "execution_count": 366,
   "id": "a76a9537",
   "metadata": {},
   "outputs": [
    {
     "data": {
      "text/plain": [
       "{'temp': 15.0,\n",
       " 'dew': 8.3,\n",
       " 'pressure': 1016.4,\n",
       " 'wdirection': 190.0,\n",
       " 'wspeed': 3.1}"
      ]
     },
     "execution_count": 366,
     "metadata": {},
     "output_type": "execute_result"
    }
   ],
   "source": [
    "# что получилось на количественных?\n",
    "fillna_weather_dict"
   ]
  },
  {
   "cell_type": "markdown",
   "id": "8f4f28e9",
   "metadata": {},
   "source": [
    "Добавим precipation в словарь, как 0 - т.е. нет осадков"
   ]
  },
  {
   "cell_type": "code",
   "execution_count": 367,
   "id": "3fde731d",
   "metadata": {},
   "outputs": [],
   "source": [
    "fillna_weather_dict['precipitation'] = 0"
   ]
  },
  {
   "cell_type": "markdown",
   "id": "36fa089d",
   "metadata": {},
   "source": [
    "Повторим фокус на категориальных признаках, но здесь возьмём самый частый. Для 'city', 'clouds'"
   ]
  },
  {
   "cell_type": "code",
   "execution_count": 368,
   "id": "5e1f95bb",
   "metadata": {},
   "outputs": [],
   "source": [
    "# категориальные столбцы\n",
    "weather_cat_vars = ['city', 'clouds']"
   ]
  },
  {
   "cell_type": "code",
   "execution_count": 369,
   "id": "2271c9ba",
   "metadata": {},
   "outputs": [],
   "source": [
    "# забиваем самые частые значения как значения для подмены Nan категориальных\n",
    "for col in weather_cat_vars:\n",
    "    fillna_weather_dict[col] = weather_train_orig[col].value_counts().index[0]"
   ]
  },
  {
   "cell_type": "code",
   "execution_count": 370,
   "id": "5d8415a9",
   "metadata": {},
   "outputs": [
    {
     "data": {
      "text/plain": [
       "{'temp': 15.0,\n",
       " 'dew': 8.3,\n",
       " 'pressure': 1016.4,\n",
       " 'wdirection': 190.0,\n",
       " 'wspeed': 3.1,\n",
       " 'precipitation': 0,\n",
       " 'city': 0,\n",
       " 'clouds': 0.0}"
      ]
     },
     "execution_count": 370,
     "metadata": {},
     "output_type": "execute_result"
    }
   ],
   "source": [
    "# итоговый \"словарь подмен\"\n",
    "fillna_weather_dict"
   ]
  },
  {
   "cell_type": "markdown",
   "id": "4b424d4e",
   "metadata": {},
   "source": [
    "Так запустим же наконец подмену Nan в weather датасете"
   ]
  },
  {
   "cell_type": "code",
   "execution_count": 371,
   "id": "5d968035",
   "metadata": {},
   "outputs": [],
   "source": [
    "for col in fillna_weather_dict.keys():\n",
    "    weather_train_orig[col].fillna(fillna_weather_dict[col], inplace=True)"
   ]
  },
  {
   "cell_type": "code",
   "execution_count": 372,
   "id": "b2fa6a18",
   "metadata": {},
   "outputs": [
    {
     "data": {
      "text/plain": [
       "False"
      ]
     },
     "execution_count": 372,
     "metadata": {},
     "output_type": "execute_result"
    }
   ],
   "source": [
    "# смотрим теперь пропуски\n",
    "weather_train_orig.isna().any().any()"
   ]
  },
  {
   "cell_type": "markdown",
   "id": "3007ecd3",
   "metadata": {},
   "source": [
    "Пропусков нет. Теперь можно что-то пожать"
   ]
  },
  {
   "cell_type": "code",
   "execution_count": 373,
   "id": "7939a4b3",
   "metadata": {},
   "outputs": [
    {
     "name": "stdout",
     "output_type": "stream",
     "text": [
      "<class 'pandas.core.frame.DataFrame'>\n",
      "RangeIndex: 139773 entries, 0 to 139772\n",
      "Data columns (total 9 columns):\n",
      " #   Column         Non-Null Count   Dtype  \n",
      "---  ------         --------------   -----  \n",
      " 0   city           139773 non-null  uint8  \n",
      " 1   datetime       139773 non-null  object \n",
      " 2   temp           139773 non-null  float64\n",
      " 3   clouds         139773 non-null  float64\n",
      " 4   dew            139773 non-null  float64\n",
      " 5   precipitation  139773 non-null  float64\n",
      " 6   pressure       139773 non-null  float64\n",
      " 7   wdirection     139773 non-null  float64\n",
      " 8   wspeed         139773 non-null  float64\n",
      "dtypes: float64(7), object(1), uint8(1)\n",
      "memory usage: 17.7 MB\n"
     ]
    }
   ],
   "source": [
    "weather_train_orig.info(memory_usage='deep')"
   ]
  },
  {
   "cell_type": "markdown",
   "id": "aa191d4b",
   "metadata": {},
   "source": [
    "Ах да, datetime в правильный тип"
   ]
  },
  {
   "cell_type": "code",
   "execution_count": 374,
   "id": "8cd3f2bc",
   "metadata": {},
   "outputs": [],
   "source": [
    "weather_train_orig.datetime = pd.to_datetime(weather_train_orig.datetime)"
   ]
  },
  {
   "cell_type": "markdown",
   "id": "a47e5b27",
   "metadata": {},
   "source": [
    "Жмём clouds до uint8, т.к. мы выяснили, что это категориальный признак"
   ]
  },
  {
   "cell_type": "code",
   "execution_count": 375,
   "id": "66d32d71",
   "metadata": {},
   "outputs": [],
   "source": [
    "weather_train_orig.clouds = weather_train_orig.clouds.astype(np.uint8)"
   ]
  },
  {
   "cell_type": "markdown",
   "id": "4e0eb6b2",
   "metadata": {},
   "source": [
    "**Вывод по weather_train_orig**\n",
    "\n",
    "Удалось привести типы признаков к верным и минимальным по размерам, удалены два лишних признака. Таким образом удалось сжать датасет до 7.7 MB"
   ]
  },
  {
   "cell_type": "code",
   "execution_count": 376,
   "id": "483aaa46",
   "metadata": {},
   "outputs": [
    {
     "name": "stdout",
     "output_type": "stream",
     "text": [
      "weather_train_orig сжат на 63%\n"
     ]
    }
   ],
   "source": [
    "# процент оптимизации\n",
    "print('weather_train_orig сжат на {}%'.format(round((1 - 7.7/20.8) * 100), 2))"
   ]
  },
  {
   "cell_type": "code",
   "execution_count": null,
   "id": "8d15dd38",
   "metadata": {},
   "outputs": [],
   "source": []
  },
  {
   "cell_type": "markdown",
   "id": "57cfae7c",
   "metadata": {},
   "source": [
    "Теперь просто сформируем функцию для подобной обработки датасетов weather и прогоним weather_test"
   ]
  },
  {
   "cell_type": "code",
   "execution_count": null,
   "id": "6cd36037",
   "metadata": {},
   "outputs": [],
   "source": []
  },
  {
   "cell_type": "code",
   "execution_count": 377,
   "id": "dc6b5b66",
   "metadata": {},
   "outputs": [
    {
     "data": {
      "text/plain": [
       "Index(['Unnamed: 0', 'city', 'datetime', 'temp', 'clouds', 'dew',\n",
       "       'precipitation', 'pressure', 'wdirection', 'wspeed'],\n",
       "      dtype='object')"
      ]
     },
     "execution_count": 377,
     "metadata": {},
     "output_type": "execute_result"
    }
   ],
   "source": [
    "# а в тест есть подвох с Unnamed?\n",
    "weather_test_orig.columns"
   ]
  },
  {
   "cell_type": "code",
   "execution_count": 378,
   "id": "cd2a092e",
   "metadata": {},
   "outputs": [],
   "source": [
    "# есть"
   ]
  },
  {
   "cell_type": "code",
   "execution_count": null,
   "id": "21c29307",
   "metadata": {},
   "outputs": [],
   "source": []
  },
  {
   "cell_type": "code",
   "execution_count": 379,
   "id": "c0b7f1eb",
   "metadata": {},
   "outputs": [],
   "source": [
    "# функция подготовки погодного датасета\n",
    "def prepare_weather(dataset):    \n",
    "    # удаляем дубликаты индекса\n",
    "    dataset = dataset.drop('Unnamed: 0', axis=1)\n",
    "    if 'Unnamed: 0.1' in dataset.columns:\n",
    "        dataset = dataset.drop('Unnamed: 0.1', axis=1)\n",
    "        \n",
    "    # задаём верный тип для дата/времени\n",
    "    dataset.datetime = pd.to_datetime(dataset.datetime)\n",
    "    \n",
    "    # словарь подмен пропусков в датасете\n",
    "    fillna_weather_dict = {\n",
    "        'temp': 15.0,\n",
    "        'dew': 8.3,\n",
    "        'pressure': 1016.4,\n",
    "        'wdirection': 190.0,\n",
    "        'wspeed': 3.1,\n",
    "        'precipitation': 0,\n",
    "        'city': 0,\n",
    "        'clouds': 0.0\n",
    "    }\n",
    "    # заполняем Nan\n",
    "    for col in fillna_weather_dict.keys():\n",
    "        dataset[col].fillna(fillna_weather_dict[col], inplace=True)\n",
    "    \n",
    "    # сжимаем city\n",
    "    dataset.city = dataset.city.astype(np.uint8)\n",
    "    # сжимаем clouds\n",
    "    dataset.clouds = dataset.clouds.astype(np.uint8)\n",
    "    \n",
    "    return dataset"
   ]
  },
  {
   "cell_type": "code",
   "execution_count": null,
   "id": "325959c2",
   "metadata": {},
   "outputs": [],
   "source": []
  },
  {
   "cell_type": "markdown",
   "id": "7fe44331",
   "metadata": {},
   "source": [
    "Предварительный обзор по weather_test"
   ]
  },
  {
   "cell_type": "code",
   "execution_count": 380,
   "id": "46f89cc7",
   "metadata": {},
   "outputs": [
    {
     "name": "stdout",
     "output_type": "stream",
     "text": [
      "<class 'pandas.core.frame.DataFrame'>\n",
      "RangeIndex: 277243 entries, 0 to 277242\n",
      "Data columns (total 10 columns):\n",
      " #   Column         Non-Null Count   Dtype  \n",
      "---  ------         --------------   -----  \n",
      " 0   Unnamed: 0     277243 non-null  int64  \n",
      " 1   city           277243 non-null  int64  \n",
      " 2   datetime       277243 non-null  object \n",
      " 3   temp           277139 non-null  float64\n",
      " 4   clouds         136795 non-null  float64\n",
      " 5   dew            276916 non-null  float64\n",
      " 6   precipitation  181655 non-null  float64\n",
      " 7   pressure       255978 non-null  float64\n",
      " 8   wdirection     264873 non-null  float64\n",
      " 9   wspeed         276783 non-null  float64\n",
      "dtypes: float64(7), int64(2), object(1)\n",
      "memory usage: 39.1 MB\n"
     ]
    }
   ],
   "source": [
    "weather_test_orig.info(memory_usage='deep')"
   ]
  },
  {
   "cell_type": "markdown",
   "id": "e64bb380",
   "metadata": {},
   "source": [
    "Прогоним weather_test через **magic**"
   ]
  },
  {
   "cell_type": "code",
   "execution_count": 381,
   "id": "34a4df4b",
   "metadata": {},
   "outputs": [],
   "source": [
    "weather_test_orig = prepare_weather(weather_test_orig)"
   ]
  },
  {
   "cell_type": "code",
   "execution_count": 382,
   "id": "693a61c8",
   "metadata": {},
   "outputs": [
    {
     "data": {
      "text/html": [
       "<div>\n",
       "<style scoped>\n",
       "    .dataframe tbody tr th:only-of-type {\n",
       "        vertical-align: middle;\n",
       "    }\n",
       "\n",
       "    .dataframe tbody tr th {\n",
       "        vertical-align: top;\n",
       "    }\n",
       "\n",
       "    .dataframe thead th {\n",
       "        text-align: right;\n",
       "    }\n",
       "</style>\n",
       "<table border=\"1\" class=\"dataframe\">\n",
       "  <thead>\n",
       "    <tr style=\"text-align: right;\">\n",
       "      <th></th>\n",
       "      <th>city</th>\n",
       "      <th>datetime</th>\n",
       "      <th>temp</th>\n",
       "      <th>clouds</th>\n",
       "      <th>dew</th>\n",
       "      <th>precipitation</th>\n",
       "      <th>pressure</th>\n",
       "      <th>wdirection</th>\n",
       "      <th>wspeed</th>\n",
       "    </tr>\n",
       "  </thead>\n",
       "  <tbody>\n",
       "    <tr>\n",
       "      <th>74261</th>\n",
       "      <td>4</td>\n",
       "      <td>2017-07-04 02:00:00</td>\n",
       "      <td>16.7</td>\n",
       "      <td>0</td>\n",
       "      <td>12.8</td>\n",
       "      <td>0.0</td>\n",
       "      <td>1015.6</td>\n",
       "      <td>300.0</td>\n",
       "      <td>7.7</td>\n",
       "    </tr>\n",
       "    <tr>\n",
       "      <th>135483</th>\n",
       "      <td>7</td>\n",
       "      <td>2018-08-09 03:00:00</td>\n",
       "      <td>21.6</td>\n",
       "      <td>0</td>\n",
       "      <td>20.3</td>\n",
       "      <td>0.0</td>\n",
       "      <td>1007.4</td>\n",
       "      <td>280.0</td>\n",
       "      <td>0.5</td>\n",
       "    </tr>\n",
       "    <tr>\n",
       "      <th>47167</th>\n",
       "      <td>2</td>\n",
       "      <td>2018-05-31 00:00:00</td>\n",
       "      <td>37.8</td>\n",
       "      <td>0</td>\n",
       "      <td>-4.4</td>\n",
       "      <td>0.0</td>\n",
       "      <td>1001.4</td>\n",
       "      <td>140.0</td>\n",
       "      <td>2.1</td>\n",
       "    </tr>\n",
       "    <tr>\n",
       "      <th>27189</th>\n",
       "      <td>1</td>\n",
       "      <td>2018-02-08 04:00:00</td>\n",
       "      <td>-2.3</td>\n",
       "      <td>0</td>\n",
       "      <td>-4.7</td>\n",
       "      <td>0.0</td>\n",
       "      <td>1020.8</td>\n",
       "      <td>190.0</td>\n",
       "      <td>1.0</td>\n",
       "    </tr>\n",
       "  </tbody>\n",
       "</table>\n",
       "</div>"
      ],
      "text/plain": [
       "        city            datetime  temp  clouds   dew  precipitation  pressure  \\\n",
       "74261      4 2017-07-04 02:00:00  16.7       0  12.8            0.0    1015.6   \n",
       "135483     7 2018-08-09 03:00:00  21.6       0  20.3            0.0    1007.4   \n",
       "47167      2 2018-05-31 00:00:00  37.8       0  -4.4            0.0    1001.4   \n",
       "27189      1 2018-02-08 04:00:00  -2.3       0  -4.7            0.0    1020.8   \n",
       "\n",
       "        wdirection  wspeed  \n",
       "74261        300.0     7.7  \n",
       "135483       280.0     0.5  \n",
       "47167        140.0     2.1  \n",
       "27189        190.0     1.0  "
      ]
     },
     "execution_count": 382,
     "metadata": {},
     "output_type": "execute_result"
    }
   ],
   "source": [
    "weather_test_orig.sample(4)"
   ]
  },
  {
   "cell_type": "code",
   "execution_count": 383,
   "id": "ca5bddd2",
   "metadata": {
    "scrolled": true
   },
   "outputs": [
    {
     "name": "stdout",
     "output_type": "stream",
     "text": [
      "<class 'pandas.core.frame.DataFrame'>\n",
      "RangeIndex: 277243 entries, 0 to 277242\n",
      "Data columns (total 9 columns):\n",
      " #   Column         Non-Null Count   Dtype         \n",
      "---  ------         --------------   -----         \n",
      " 0   city           277243 non-null  uint8         \n",
      " 1   datetime       277243 non-null  datetime64[ns]\n",
      " 2   temp           277243 non-null  float64       \n",
      " 3   clouds         277243 non-null  uint8         \n",
      " 4   dew            277243 non-null  float64       \n",
      " 5   precipitation  277243 non-null  float64       \n",
      " 6   pressure       277243 non-null  float64       \n",
      " 7   wdirection     277243 non-null  float64       \n",
      " 8   wspeed         277243 non-null  float64       \n",
      "dtypes: datetime64[ns](1), float64(6), uint8(2)\n",
      "memory usage: 15.3 MB\n"
     ]
    }
   ],
   "source": [
    "weather_test_orig.info(memory_usage='deep')"
   ]
  },
  {
   "cell_type": "markdown",
   "id": "14a21815",
   "metadata": {},
   "source": [
    "**Вывод по weather_test_orig**\n",
    "\n",
    "Удалось привести типы признаков к верным и минимальным по размерам, удален лишний признак. Таким образом удалось сжать датасет до 15.3 MB"
   ]
  },
  {
   "cell_type": "code",
   "execution_count": 384,
   "id": "1dd3f118",
   "metadata": {},
   "outputs": [
    {
     "name": "stdout",
     "output_type": "stream",
     "text": [
      "weather_test_orig сжат на 61%\n"
     ]
    }
   ],
   "source": [
    "# процент оптимизации\n",
    "print('weather_test_orig сжат на {}%'.format(round((1 - 15.3/39.1) * 100), 2))"
   ]
  },
  {
   "cell_type": "code",
   "execution_count": null,
   "id": "28a77a17",
   "metadata": {},
   "outputs": [],
   "source": []
  },
  {
   "cell_type": "markdown",
   "id": "b7885556",
   "metadata": {},
   "source": [
    "## Выбросы"
   ]
  },
  {
   "cell_type": "markdown",
   "id": "4ffca87f",
   "metadata": {},
   "source": [
    "Хорошо, в датасетах избавились от пустых значений и сжали переменные. Однако есть ещё одна неприятная штука - выбросы. От выбросов нам нужно избавиться на train выборке - train_orig, weather_train"
   ]
  },
  {
   "cell_type": "code",
   "execution_count": 385,
   "id": "c7eb346a",
   "metadata": {},
   "outputs": [
    {
     "data": {
      "text/html": [
       "<div>\n",
       "<style scoped>\n",
       "    .dataframe tbody tr th:only-of-type {\n",
       "        vertical-align: middle;\n",
       "    }\n",
       "\n",
       "    .dataframe tbody tr th {\n",
       "        vertical-align: top;\n",
       "    }\n",
       "\n",
       "    .dataframe thead th {\n",
       "        text-align: right;\n",
       "    }\n",
       "</style>\n",
       "<table border=\"1\" class=\"dataframe\">\n",
       "  <thead>\n",
       "    <tr style=\"text-align: right;\">\n",
       "      <th></th>\n",
       "      <th>obj_id</th>\n",
       "      <th>counter</th>\n",
       "      <th>value</th>\n",
       "    </tr>\n",
       "  </thead>\n",
       "  <tbody>\n",
       "    <tr>\n",
       "      <th>count</th>\n",
       "      <td>2.021610e+07</td>\n",
       "      <td>2.021610e+07</td>\n",
       "      <td>2.021610e+07</td>\n",
       "    </tr>\n",
       "    <tr>\n",
       "      <th>mean</th>\n",
       "      <td>7.992780e+02</td>\n",
       "      <td>6.624412e-01</td>\n",
       "      <td>2.117121e+03</td>\n",
       "    </tr>\n",
       "    <tr>\n",
       "      <th>std</th>\n",
       "      <td>4.269133e+02</td>\n",
       "      <td>9.309921e-01</td>\n",
       "      <td>1.532356e+05</td>\n",
       "    </tr>\n",
       "    <tr>\n",
       "      <th>min</th>\n",
       "      <td>0.000000e+00</td>\n",
       "      <td>0.000000e+00</td>\n",
       "      <td>0.000000e+00</td>\n",
       "    </tr>\n",
       "    <tr>\n",
       "      <th>25%</th>\n",
       "      <td>3.930000e+02</td>\n",
       "      <td>0.000000e+00</td>\n",
       "      <td>1.830000e+01</td>\n",
       "    </tr>\n",
       "    <tr>\n",
       "      <th>50%</th>\n",
       "      <td>8.950000e+02</td>\n",
       "      <td>0.000000e+00</td>\n",
       "      <td>7.877500e+01</td>\n",
       "    </tr>\n",
       "    <tr>\n",
       "      <th>75%</th>\n",
       "      <td>1.179000e+03</td>\n",
       "      <td>1.000000e+00</td>\n",
       "      <td>2.679840e+02</td>\n",
       "    </tr>\n",
       "    <tr>\n",
       "      <th>max</th>\n",
       "      <td>1.448000e+03</td>\n",
       "      <td>3.000000e+00</td>\n",
       "      <td>2.190470e+07</td>\n",
       "    </tr>\n",
       "  </tbody>\n",
       "</table>\n",
       "</div>"
      ],
      "text/plain": [
       "             obj_id       counter         value\n",
       "count  2.021610e+07  2.021610e+07  2.021610e+07\n",
       "mean   7.992780e+02  6.624412e-01  2.117121e+03\n",
       "std    4.269133e+02  9.309921e-01  1.532356e+05\n",
       "min    0.000000e+00  0.000000e+00  0.000000e+00\n",
       "25%    3.930000e+02  0.000000e+00  1.830000e+01\n",
       "50%    8.950000e+02  0.000000e+00  7.877500e+01\n",
       "75%    1.179000e+03  1.000000e+00  2.679840e+02\n",
       "max    1.448000e+03  3.000000e+00  2.190470e+07"
      ]
     },
     "execution_count": 385,
     "metadata": {},
     "output_type": "execute_result"
    }
   ],
   "source": [
    "# посмотрим сводную информацию по train\n",
    "train_orig.describe()"
   ]
  },
  {
   "cell_type": "markdown",
   "id": "76046322",
   "metadata": {},
   "source": [
    "Здесь нас интересует только **value**"
   ]
  },
  {
   "cell_type": "code",
   "execution_count": 386,
   "id": "9aa78236",
   "metadata": {},
   "outputs": [
    {
     "data": {
      "text/plain": [
       "<AxesSubplot:>"
      ]
     },
     "execution_count": 386,
     "metadata": {},
     "output_type": "execute_result"
    },
    {
     "data": {
      "image/png": "[encoded data removed]",
      "text/plain": [
       "<Figure size 432x288 with 1 Axes>"
      ]
     },
     "metadata": {
      "needs_background": "light"
     },
     "output_type": "display_data"
    }
   ],
   "source": [
    "# посмотрим на распределение переменной\n",
    "train_orig.value.hist(bins=30)"
   ]
  },
  {
   "cell_type": "markdown",
   "id": "a07c1d4e",
   "metadata": {},
   "source": [
    "Очень некрасиво. Подозревая выбросы посмотрим на ящик с усами"
   ]
  },
  {
   "cell_type": "code",
   "execution_count": 387,
   "id": "880dcede",
   "metadata": {},
   "outputs": [
    {
     "name": "stderr",
     "output_type": "stream",
     "text": [
      "C:\\ProgramData\\Anaconda3\\lib\\site-packages\\seaborn\\_decorators.py:36: FutureWarning: Pass the following variable as a keyword arg: x. From version 0.12, the only valid positional argument will be `data`, and passing other arguments without an explicit keyword will result in an error or misinterpretation.\n",
      "  warnings.warn(\n"
     ]
    },
    {
     "data": {
      "text/plain": [
       "<AxesSubplot:xlabel='value'>"
      ]
     },
     "execution_count": 387,
     "metadata": {},
     "output_type": "execute_result"
    },
    {
     "data": {
      "image/png": "[encoded data removed]",
      "text/plain": [
       "<Figure size 432x288 with 1 Axes>"
      ]
     },
     "metadata": {
      "needs_background": "light"
     },
     "output_type": "display_data"
    }
   ],
   "source": [
    "sns.boxplot(train_orig.value)"
   ]
  },
  {
   "cell_type": "markdown",
   "id": "7d431ec3",
   "metadata": {},
   "source": [
    "\"Красота\". Хорошо. Просто найдём интеркватильный размах и отсечем всё, что вне диапазона +- полтора интерквартильных размаха\n",
    "\n",
    "\n",
    "\\$IQR = Q_3 - Q_1$\n",
    "\n",
    "\\$[Q_1 - 1.5 * IQR, Q_3 + 1.5 * IQR]$"
   ]
  },
  {
   "cell_type": "code",
   "execution_count": 388,
   "id": "b171e385",
   "metadata": {},
   "outputs": [],
   "source": [
    "q1 = train_orig.value.quantile(0.25)\n",
    "q3 = train_orig.value.quantile(0.75)"
   ]
  },
  {
   "cell_type": "code",
   "execution_count": 389,
   "id": "5fc02244",
   "metadata": {},
   "outputs": [],
   "source": [
    "iqr = q3 - q1"
   ]
  },
  {
   "cell_type": "code",
   "execution_count": 390,
   "id": "be5865d6",
   "metadata": {},
   "outputs": [
    {
     "data": {
      "text/html": [
       "<div>\n",
       "<style scoped>\n",
       "    .dataframe tbody tr th:only-of-type {\n",
       "        vertical-align: middle;\n",
       "    }\n",
       "\n",
       "    .dataframe tbody tr th {\n",
       "        vertical-align: top;\n",
       "    }\n",
       "\n",
       "    .dataframe thead th {\n",
       "        text-align: right;\n",
       "    }\n",
       "</style>\n",
       "<table border=\"1\" class=\"dataframe\">\n",
       "  <thead>\n",
       "    <tr style=\"text-align: right;\">\n",
       "      <th></th>\n",
       "      <th>obj_id</th>\n",
       "      <th>counter</th>\n",
       "      <th>datetime</th>\n",
       "      <th>value</th>\n",
       "    </tr>\n",
       "  </thead>\n",
       "  <tbody>\n",
       "    <tr>\n",
       "      <th>242</th>\n",
       "      <td>192</td>\n",
       "      <td>0</td>\n",
       "      <td>2016-01-01 00:00:00</td>\n",
       "      <td>687.440</td>\n",
       "    </tr>\n",
       "    <tr>\n",
       "      <th>280</th>\n",
       "      <td>209</td>\n",
       "      <td>0</td>\n",
       "      <td>2016-01-01 00:00:00</td>\n",
       "      <td>893.280</td>\n",
       "    </tr>\n",
       "    <tr>\n",
       "      <th>281</th>\n",
       "      <td>209</td>\n",
       "      <td>1</td>\n",
       "      <td>2016-01-01 00:00:00</td>\n",
       "      <td>812.392</td>\n",
       "    </tr>\n",
       "    <tr>\n",
       "      <th>287</th>\n",
       "      <td>212</td>\n",
       "      <td>0</td>\n",
       "      <td>2016-01-01 00:00:00</td>\n",
       "      <td>851.280</td>\n",
       "    </tr>\n",
       "    <tr>\n",
       "      <th>315</th>\n",
       "      <td>223</td>\n",
       "      <td>0</td>\n",
       "      <td>2016-01-01 00:00:00</td>\n",
       "      <td>2027.520</td>\n",
       "    </tr>\n",
       "    <tr>\n",
       "      <th>...</th>\n",
       "      <td>...</td>\n",
       "      <td>...</td>\n",
       "      <td>...</td>\n",
       "      <td>...</td>\n",
       "    </tr>\n",
       "    <tr>\n",
       "      <th>20216071</th>\n",
       "      <td>1427</td>\n",
       "      <td>2</td>\n",
       "      <td>2016-12-31 23:00:00</td>\n",
       "      <td>3006.820</td>\n",
       "    </tr>\n",
       "    <tr>\n",
       "      <th>20216079</th>\n",
       "      <td>1433</td>\n",
       "      <td>2</td>\n",
       "      <td>2016-12-31 23:00:00</td>\n",
       "      <td>3173.880</td>\n",
       "    </tr>\n",
       "    <tr>\n",
       "      <th>20216084</th>\n",
       "      <td>1436</td>\n",
       "      <td>2</td>\n",
       "      <td>2016-12-31 23:00:00</td>\n",
       "      <td>1274.660</td>\n",
       "    </tr>\n",
       "    <tr>\n",
       "      <th>20216086</th>\n",
       "      <td>1437</td>\n",
       "      <td>2</td>\n",
       "      <td>2016-12-31 23:00:00</td>\n",
       "      <td>1518.920</td>\n",
       "    </tr>\n",
       "    <tr>\n",
       "      <th>20216088</th>\n",
       "      <td>1438</td>\n",
       "      <td>2</td>\n",
       "      <td>2016-12-31 23:00:00</td>\n",
       "      <td>852.770</td>\n",
       "    </tr>\n",
       "  </tbody>\n",
       "</table>\n",
       "<p>2473655 rows × 4 columns</p>\n",
       "</div>"
      ],
      "text/plain": [
       "          obj_id  counter            datetime     value\n",
       "242          192        0 2016-01-01 00:00:00   687.440\n",
       "280          209        0 2016-01-01 00:00:00   893.280\n",
       "281          209        1 2016-01-01 00:00:00   812.392\n",
       "287          212        0 2016-01-01 00:00:00   851.280\n",
       "315          223        0 2016-01-01 00:00:00  2027.520\n",
       "...          ...      ...                 ...       ...\n",
       "20216071    1427        2 2016-12-31 23:00:00  3006.820\n",
       "20216079    1433        2 2016-12-31 23:00:00  3173.880\n",
       "20216084    1436        2 2016-12-31 23:00:00  1274.660\n",
       "20216086    1437        2 2016-12-31 23:00:00  1518.920\n",
       "20216088    1438        2 2016-12-31 23:00:00   852.770\n",
       "\n",
       "[2473655 rows x 4 columns]"
      ]
     },
     "execution_count": 390,
     "metadata": {},
     "output_type": "execute_result"
    }
   ],
   "source": [
    "# посмотрим сколько у нас значений вылетело за интервал \"верных\" значений\n",
    "train_orig.query('(value < @q1 - 1.5 * @iqr) | (value > @q3 + 1.5 * @iqr)')"
   ]
  },
  {
   "cell_type": "markdown",
   "id": "ff2944a8",
   "metadata": {},
   "source": [
    "Внушительно. Сделаем этим выбросам торжественное харакири в виде функции"
   ]
  },
  {
   "cell_type": "code",
   "execution_count": 391,
   "id": "12ca2cb7",
   "metadata": {},
   "outputs": [],
   "source": [
    "# Функция для удаления шума в train\n",
    "def remove_noise_train(dataset):\n",
    "    return dataset.query('(value >= @q1 - 1.5 * @iqr) & (value <= @q3 + 1.5 * @iqr)')"
   ]
  },
  {
   "cell_type": "code",
   "execution_count": null,
   "id": "4ce61480",
   "metadata": {},
   "outputs": [],
   "source": []
  },
  {
   "cell_type": "code",
   "execution_count": 392,
   "id": "4d0de754",
   "metadata": {},
   "outputs": [],
   "source": [
    "# train_orig = prepare_train_test(remove_noise_train(train_orig))"
   ]
  },
  {
   "cell_type": "code",
   "execution_count": 393,
   "id": "a8a73fad",
   "metadata": {},
   "outputs": [],
   "source": [
    "train_orig = remove_noise_train(train_orig)"
   ]
  },
  {
   "cell_type": "code",
   "execution_count": 394,
   "id": "f0fc4dd6",
   "metadata": {},
   "outputs": [
    {
     "name": "stdout",
     "output_type": "stream",
     "text": [
      "<class 'pandas.core.frame.DataFrame'>\n",
      "Int64Index: 17742445 entries, 0 to 20216099\n",
      "Data columns (total 4 columns):\n",
      " #   Column    Dtype         \n",
      "---  ------    -----         \n",
      " 0   obj_id    uint16        \n",
      " 1   counter   uint8         \n",
      " 2   datetime  datetime64[ns]\n",
      " 3   value     float64       \n",
      "dtypes: datetime64[ns](1), float64(1), uint16(1), uint8(1)\n",
      "memory usage: 456.9 MB\n"
     ]
    }
   ],
   "source": [
    "train_orig.info(memory_usage='deep')"
   ]
  },
  {
   "cell_type": "code",
   "execution_count": 395,
   "id": "203f346a",
   "metadata": {},
   "outputs": [
    {
     "name": "stdout",
     "output_type": "stream",
     "text": [
      "train сжат на 78%\n"
     ]
    }
   ],
   "source": [
    "# процент оптимизации\n",
    "print('train сжат на {}%'.format(round((1 - 456.9/2048) * 100), 2))"
   ]
  },
  {
   "cell_type": "code",
   "execution_count": 396,
   "id": "b92698b9",
   "metadata": {},
   "outputs": [],
   "source": [
    "# странно, что процент сжатия снизился, но уже нет времени выяснять!"
   ]
  },
  {
   "cell_type": "code",
   "execution_count": null,
   "id": "b059987e",
   "metadata": {},
   "outputs": [],
   "source": []
  },
  {
   "cell_type": "markdown",
   "id": "6c91c252",
   "metadata": {},
   "source": [
    "Проведем анализ weather_train на предмет выбросов"
   ]
  },
  {
   "cell_type": "code",
   "execution_count": 397,
   "id": "b54ccf77",
   "metadata": {},
   "outputs": [
    {
     "data": {
      "text/html": [
       "<div>\n",
       "<style scoped>\n",
       "    .dataframe tbody tr th:only-of-type {\n",
       "        vertical-align: middle;\n",
       "    }\n",
       "\n",
       "    .dataframe tbody tr th {\n",
       "        vertical-align: top;\n",
       "    }\n",
       "\n",
       "    .dataframe thead th {\n",
       "        text-align: right;\n",
       "    }\n",
       "</style>\n",
       "<table border=\"1\" class=\"dataframe\">\n",
       "  <thead>\n",
       "    <tr style=\"text-align: right;\">\n",
       "      <th></th>\n",
       "      <th>city</th>\n",
       "      <th>temp</th>\n",
       "      <th>clouds</th>\n",
       "      <th>dew</th>\n",
       "      <th>precipitation</th>\n",
       "      <th>pressure</th>\n",
       "      <th>wdirection</th>\n",
       "      <th>wspeed</th>\n",
       "    </tr>\n",
       "  </thead>\n",
       "  <tbody>\n",
       "    <tr>\n",
       "      <th>count</th>\n",
       "      <td>139773.000000</td>\n",
       "      <td>139773.000000</td>\n",
       "      <td>139773.000000</td>\n",
       "      <td>139773.000000</td>\n",
       "      <td>139773.000000</td>\n",
       "      <td>139773.000000</td>\n",
       "      <td>139773.000000</td>\n",
       "      <td>139773.000000</td>\n",
       "    </tr>\n",
       "    <tr>\n",
       "      <th>mean</th>\n",
       "      <td>7.478977</td>\n",
       "      <td>14.535796</td>\n",
       "      <td>1.085625</td>\n",
       "      <td>7.350926</td>\n",
       "      <td>0.629356</td>\n",
       "      <td>1016.270455</td>\n",
       "      <td>180.951457</td>\n",
       "      <td>3.559526</td>\n",
       "    </tr>\n",
       "    <tr>\n",
       "      <th>std</th>\n",
       "      <td>4.604744</td>\n",
       "      <td>10.864016</td>\n",
       "      <td>2.137058</td>\n",
       "      <td>9.786314</td>\n",
       "      <td>6.788452</td>\n",
       "      <td>8.072299</td>\n",
       "      <td>109.011972</td>\n",
       "      <td>2.333431</td>\n",
       "    </tr>\n",
       "    <tr>\n",
       "      <th>min</th>\n",
       "      <td>0.000000</td>\n",
       "      <td>-28.900000</td>\n",
       "      <td>0.000000</td>\n",
       "      <td>-35.000000</td>\n",
       "      <td>-1.000000</td>\n",
       "      <td>968.200000</td>\n",
       "      <td>0.000000</td>\n",
       "      <td>0.000000</td>\n",
       "    </tr>\n",
       "    <tr>\n",
       "      <th>25%</th>\n",
       "      <td>3.000000</td>\n",
       "      <td>7.200000</td>\n",
       "      <td>0.000000</td>\n",
       "      <td>0.600000</td>\n",
       "      <td>0.000000</td>\n",
       "      <td>1012.200000</td>\n",
       "      <td>90.000000</td>\n",
       "      <td>2.100000</td>\n",
       "    </tr>\n",
       "    <tr>\n",
       "      <th>50%</th>\n",
       "      <td>7.000000</td>\n",
       "      <td>15.000000</td>\n",
       "      <td>0.000000</td>\n",
       "      <td>8.300000</td>\n",
       "      <td>0.000000</td>\n",
       "      <td>1016.400000</td>\n",
       "      <td>190.000000</td>\n",
       "      <td>3.100000</td>\n",
       "    </tr>\n",
       "    <tr>\n",
       "      <th>75%</th>\n",
       "      <td>11.000000</td>\n",
       "      <td>22.200000</td>\n",
       "      <td>2.000000</td>\n",
       "      <td>14.400000</td>\n",
       "      <td>0.000000</td>\n",
       "      <td>1020.400000</td>\n",
       "      <td>270.000000</td>\n",
       "      <td>5.000000</td>\n",
       "    </tr>\n",
       "    <tr>\n",
       "      <th>max</th>\n",
       "      <td>15.000000</td>\n",
       "      <td>69.952944</td>\n",
       "      <td>9.000000</td>\n",
       "      <td>26.100000</td>\n",
       "      <td>343.000000</td>\n",
       "      <td>1198.080920</td>\n",
       "      <td>360.000000</td>\n",
       "      <td>19.000000</td>\n",
       "    </tr>\n",
       "  </tbody>\n",
       "</table>\n",
       "</div>"
      ],
      "text/plain": [
       "                city           temp         clouds            dew  \\\n",
       "count  139773.000000  139773.000000  139773.000000  139773.000000   \n",
       "mean        7.478977      14.535796       1.085625       7.350926   \n",
       "std         4.604744      10.864016       2.137058       9.786314   \n",
       "min         0.000000     -28.900000       0.000000     -35.000000   \n",
       "25%         3.000000       7.200000       0.000000       0.600000   \n",
       "50%         7.000000      15.000000       0.000000       8.300000   \n",
       "75%        11.000000      22.200000       2.000000      14.400000   \n",
       "max        15.000000      69.952944       9.000000      26.100000   \n",
       "\n",
       "       precipitation       pressure     wdirection         wspeed  \n",
       "count  139773.000000  139773.000000  139773.000000  139773.000000  \n",
       "mean        0.629356    1016.270455     180.951457       3.559526  \n",
       "std         6.788452       8.072299     109.011972       2.333431  \n",
       "min        -1.000000     968.200000       0.000000       0.000000  \n",
       "25%         0.000000    1012.200000      90.000000       2.100000  \n",
       "50%         0.000000    1016.400000     190.000000       3.100000  \n",
       "75%         0.000000    1020.400000     270.000000       5.000000  \n",
       "max       343.000000    1198.080920     360.000000      19.000000  "
      ]
     },
     "execution_count": 397,
     "metadata": {},
     "output_type": "execute_result"
    }
   ],
   "source": [
    "weather_train_orig.describe()"
   ]
  },
  {
   "cell_type": "markdown",
   "id": "c75a0607",
   "metadata": {},
   "source": [
    "Что-то не то с temp, wspeed, dew?"
   ]
  },
  {
   "cell_type": "code",
   "execution_count": 398,
   "id": "43c28033",
   "metadata": {},
   "outputs": [
    {
     "data": {
      "text/plain": [
       "<AxesSubplot:>"
      ]
     },
     "execution_count": 398,
     "metadata": {},
     "output_type": "execute_result"
    },
    {
     "data": {
      "image/png": "[encoded data removed]",
      "text/plain": [
       "<Figure size 432x288 with 1 Axes>"
      ]
     },
     "metadata": {
      "needs_background": "light"
     },
     "output_type": "display_data"
    }
   ],
   "source": [
    "# распределение температур\n",
    "weather_train_orig.temp.hist()"
   ]
  },
  {
   "cell_type": "code",
   "execution_count": 399,
   "id": "19ddf67c",
   "metadata": {},
   "outputs": [
    {
     "data": {
      "text/plain": [
       "<AxesSubplot:>"
      ]
     },
     "execution_count": 399,
     "metadata": {},
     "output_type": "execute_result"
    },
    {
     "data": {
      "image/png": "[encoded data removed]",
      "text/plain": [
       "<Figure size 432x288 with 1 Axes>"
      ]
     },
     "metadata": {
      "needs_background": "light"
     },
     "output_type": "display_data"
    }
   ],
   "source": [
    "# распределение dew\n",
    "weather_train_orig.dew.hist()"
   ]
  },
  {
   "cell_type": "code",
   "execution_count": 400,
   "id": "a08bc77c",
   "metadata": {},
   "outputs": [
    {
     "data": {
      "text/plain": [
       "<AxesSubplot:>"
      ]
     },
     "execution_count": 400,
     "metadata": {},
     "output_type": "execute_result"
    },
    {
     "data": {
      "image/png": "[encoded data removed]",
      "text/plain": [
       "<Figure size 432x288 with 1 Axes>"
      ]
     },
     "metadata": {
      "needs_background": "light"
     },
     "output_type": "display_data"
    }
   ],
   "source": [
    "# распределение precipitation\n",
    "weather_train_orig.precipitation.hist()"
   ]
  },
  {
   "cell_type": "markdown",
   "id": "8af3ef09",
   "metadata": {},
   "source": [
    "Всюду есть подозрительные хвосты. Применим проверку на вхождение интервала, но сразу для всех количественных признаков по порядку и выдадим результат. Всё завернём в функцию"
   ]
  },
  {
   "cell_type": "code",
   "execution_count": null,
   "id": "c8c3d0ed",
   "metadata": {},
   "outputs": [],
   "source": []
  },
  {
   "cell_type": "code",
   "execution_count": 401,
   "id": "6a3b9c75",
   "metadata": {},
   "outputs": [],
   "source": [
    "# удаление выбросов в тренировочном датасете погоды\n",
    "def remove_noise_weather(dataset):\n",
    "    # количественные столбцы\n",
    "    weather_num_vars = ['temp', 'dew', 'pressure', 'wdirection', 'wspeed', 'precipitation']\n",
    "\n",
    "    for col in weather_num_vars:\n",
    "        q1 = dataset[col].quantile(0.25)\n",
    "        q3 = dataset[col].quantile(0.75)\n",
    "\n",
    "        iqr = q3 - q1\n",
    "\n",
    "        dataset = dataset[(dataset[col] >= q1 - 1.5 * iqr) & (dataset[col] <= q3 + 1.5 * iqr)]\n",
    "\n",
    "    return dataset"
   ]
  },
  {
   "cell_type": "code",
   "execution_count": 402,
   "id": "dc42e359",
   "metadata": {},
   "outputs": [],
   "source": [
    "weather_train_orig = remove_noise_weather(weather_train_orig)"
   ]
  },
  {
   "cell_type": "code",
   "execution_count": 403,
   "id": "bbdc337d",
   "metadata": {},
   "outputs": [
    {
     "data": {
      "text/plain": [
       "<AxesSubplot:>"
      ]
     },
     "execution_count": 403,
     "metadata": {},
     "output_type": "execute_result"
    },
    {
     "data": {
      "image/png": "[encoded data removed]",
      "text/plain": [
       "<Figure size 432x288 with 1 Axes>"
      ]
     },
     "metadata": {
      "needs_background": "light"
     },
     "output_type": "display_data"
    }
   ],
   "source": [
    "# распределение температур\n",
    "weather_train_orig.temp.hist()"
   ]
  },
  {
   "cell_type": "code",
   "execution_count": 404,
   "id": "79d4af9e",
   "metadata": {},
   "outputs": [
    {
     "data": {
      "text/plain": [
       "<AxesSubplot:>"
      ]
     },
     "execution_count": 404,
     "metadata": {},
     "output_type": "execute_result"
    },
    {
     "data": {
      "image/png": "[encoded data removed]",
      "text/plain": [
       "<Figure size 432x288 with 1 Axes>"
      ]
     },
     "metadata": {
      "needs_background": "light"
     },
     "output_type": "display_data"
    }
   ],
   "source": [
    "# распределение dew\n",
    "weather_train_orig.dew.hist()"
   ]
  },
  {
   "cell_type": "code",
   "execution_count": 405,
   "id": "a609cab2",
   "metadata": {},
   "outputs": [
    {
     "data": {
      "text/plain": [
       "<AxesSubplot:>"
      ]
     },
     "execution_count": 405,
     "metadata": {},
     "output_type": "execute_result"
    },
    {
     "data": {
      "image/png": "[encoded data removed]",
      "text/plain": [
       "<Figure size 432x288 with 1 Axes>"
      ]
     },
     "metadata": {
      "needs_background": "light"
     },
     "output_type": "display_data"
    }
   ],
   "source": [
    "# распределение precipitation\n",
    "weather.precipitation.hist()"
   ]
  },
  {
   "cell_type": "markdown",
   "id": "9ec67369",
   "metadata": {},
   "source": [
    "По погоде уже уже красивей распределения без выбросов"
   ]
  },
  {
   "cell_type": "code",
   "execution_count": 406,
   "id": "c6d45f5a",
   "metadata": {},
   "outputs": [
    {
     "name": "stdout",
     "output_type": "stream",
     "text": [
      "<class 'pandas.core.frame.DataFrame'>\n",
      "Int64Index: 118686 entries, 0 to 139771\n",
      "Data columns (total 9 columns):\n",
      " #   Column         Non-Null Count   Dtype         \n",
      "---  ------         --------------   -----         \n",
      " 0   city           118686 non-null  uint8         \n",
      " 1   datetime       118686 non-null  datetime64[ns]\n",
      " 2   temp           118686 non-null  float64       \n",
      " 3   clouds         118686 non-null  uint8         \n",
      " 4   dew            118686 non-null  float64       \n",
      " 5   precipitation  118686 non-null  float64       \n",
      " 6   pressure       118686 non-null  float64       \n",
      " 7   wdirection     118686 non-null  float64       \n",
      " 8   wspeed         118686 non-null  float64       \n",
      "dtypes: datetime64[ns](1), float64(6), uint8(2)\n",
      "memory usage: 7.5 MB\n"
     ]
    }
   ],
   "source": [
    "weather_train_orig.info(memory_usage='deep')"
   ]
  },
  {
   "cell_type": "markdown",
   "id": "114ca1ae",
   "metadata": {},
   "source": [
    "**Вывод по weather_train_orig**\n",
    "\n",
    "Удалось ещё немного пожать датасет"
   ]
  },
  {
   "cell_type": "code",
   "execution_count": 407,
   "id": "38f014ac",
   "metadata": {},
   "outputs": [
    {
     "name": "stdout",
     "output_type": "stream",
     "text": [
      "weather_train_orig сжат на 64%\n"
     ]
    }
   ],
   "source": [
    "# процент оптимизации\n",
    "print('weather_train_orig сжат на {}%'.format(round((1 - 7.5/20.8) * 100), 2))"
   ]
  },
  {
   "cell_type": "code",
   "execution_count": null,
   "id": "e37edc7e",
   "metadata": {},
   "outputs": [],
   "source": []
  },
  {
   "cell_type": "markdown",
   "id": "9cb0c8cd",
   "metadata": {},
   "source": [
    "## Объединение в единые датасеты\n",
    "Благодаря мета-информации из **building_meta** мы можем в train добавить информацию по зданию и по погоде. И то же самое про test"
   ]
  },
  {
   "cell_type": "code",
   "execution_count": 408,
   "id": "7b286733",
   "metadata": {},
   "outputs": [
    {
     "data": {
      "text/plain": [
       "17742445"
      ]
     },
     "execution_count": 408,
     "metadata": {},
     "output_type": "execute_result"
    }
   ],
   "source": [
    "# проверим размеры train\n",
    "train_orig.shape[0]"
   ]
  },
  {
   "cell_type": "code",
   "execution_count": 409,
   "id": "4ba03e69",
   "metadata": {},
   "outputs": [],
   "source": [
    "# сцепляем train_orig и building_meta, добавив доп.инфо по объектам\n",
    "building_info_train = pd.merge(train_orig, building_meta_orig, how='inner', on='obj_id')"
   ]
  },
  {
   "cell_type": "code",
   "execution_count": 410,
   "id": "c9f70514",
   "metadata": {},
   "outputs": [
    {
     "data": {
      "text/plain": [
       "17742445"
      ]
     },
     "execution_count": 410,
     "metadata": {},
     "output_type": "execute_result"
    }
   ],
   "source": [
    "# размер получившейся таблицы\n",
    "building_info_train.shape[0]"
   ]
  },
  {
   "cell_type": "code",
   "execution_count": 411,
   "id": "4a9daa0f",
   "metadata": {},
   "outputs": [
    {
     "data": {
      "text/plain": [
       "obj_id      False\n",
       "counter     False\n",
       "datetime    False\n",
       "value       False\n",
       "city        False\n",
       "function    False\n",
       "square      False\n",
       "year        False\n",
       "dtype: bool"
      ]
     },
     "execution_count": 411,
     "metadata": {},
     "output_type": "execute_result"
    }
   ],
   "source": [
    "# появились NaNы?\n",
    "building_info_train.isna().any()"
   ]
  },
  {
   "cell_type": "code",
   "execution_count": 412,
   "id": "baf03335",
   "metadata": {},
   "outputs": [
    {
     "data": {
      "text/html": [
       "<div>\n",
       "<style scoped>\n",
       "    .dataframe tbody tr th:only-of-type {\n",
       "        vertical-align: middle;\n",
       "    }\n",
       "\n",
       "    .dataframe tbody tr th {\n",
       "        vertical-align: top;\n",
       "    }\n",
       "\n",
       "    .dataframe thead th {\n",
       "        text-align: right;\n",
       "    }\n",
       "</style>\n",
       "<table border=\"1\" class=\"dataframe\">\n",
       "  <thead>\n",
       "    <tr style=\"text-align: right;\">\n",
       "      <th></th>\n",
       "      <th>obj_id</th>\n",
       "      <th>counter</th>\n",
       "      <th>datetime</th>\n",
       "      <th>value</th>\n",
       "      <th>city</th>\n",
       "      <th>function</th>\n",
       "      <th>square</th>\n",
       "      <th>year</th>\n",
       "    </tr>\n",
       "  </thead>\n",
       "  <tbody>\n",
       "    <tr>\n",
       "      <th>2289860</th>\n",
       "      <td>205</td>\n",
       "      <td>1</td>\n",
       "      <td>2016-01-03 13:00:00</td>\n",
       "      <td>87.1124</td>\n",
       "      <td>2</td>\n",
       "      <td>1</td>\n",
       "      <td>60086</td>\n",
       "      <td>2001</td>\n",
       "    </tr>\n",
       "    <tr>\n",
       "      <th>5661374</th>\n",
       "      <td>516</td>\n",
       "      <td>0</td>\n",
       "      <td>2016-07-07 01:00:00</td>\n",
       "      <td>22.9800</td>\n",
       "      <td>3</td>\n",
       "      <td>7</td>\n",
       "      <td>9000</td>\n",
       "      <td>0</td>\n",
       "    </tr>\n",
       "    <tr>\n",
       "      <th>82731</th>\n",
       "      <td>9</td>\n",
       "      <td>0</td>\n",
       "      <td>2016-11-02 01:00:00</td>\n",
       "      <td>63.4781</td>\n",
       "      <td>0</td>\n",
       "      <td>2</td>\n",
       "      <td>27000</td>\n",
       "      <td>2010</td>\n",
       "    </tr>\n",
       "    <tr>\n",
       "      <th>15354237</th>\n",
       "      <td>1294</td>\n",
       "      <td>2</td>\n",
       "      <td>2016-04-23 00:00:00</td>\n",
       "      <td>113.8890</td>\n",
       "      <td>14</td>\n",
       "      <td>2</td>\n",
       "      <td>15649</td>\n",
       "      <td>0</td>\n",
       "    </tr>\n",
       "  </tbody>\n",
       "</table>\n",
       "</div>"
      ],
      "text/plain": [
       "          obj_id  counter            datetime     value  city  function  \\\n",
       "2289860      205        1 2016-01-03 13:00:00   87.1124     2         1   \n",
       "5661374      516        0 2016-07-07 01:00:00   22.9800     3         7   \n",
       "82731          9        0 2016-11-02 01:00:00   63.4781     0         2   \n",
       "15354237    1294        2 2016-04-23 00:00:00  113.8890    14         2   \n",
       "\n",
       "          square  year  \n",
       "2289860    60086  2001  \n",
       "5661374     9000     0  \n",
       "82731      27000  2010  \n",
       "15354237   15649     0  "
      ]
     },
     "execution_count": 412,
     "metadata": {},
     "output_type": "execute_result"
    }
   ],
   "source": [
    "building_info_train.sample(4)"
   ]
  },
  {
   "cell_type": "code",
   "execution_count": 413,
   "id": "0a40211a",
   "metadata": {},
   "outputs": [
    {
     "name": "stdout",
     "output_type": "stream",
     "text": [
      "<class 'pandas.core.frame.DataFrame'>\n",
      "Int64Index: 17742445 entries, 0 to 17742444\n",
      "Data columns (total 8 columns):\n",
      " #   Column    Dtype         \n",
      "---  ------    -----         \n",
      " 0   obj_id    uint16        \n",
      " 1   counter   uint8         \n",
      " 2   datetime  datetime64[ns]\n",
      " 3   value     float64       \n",
      " 4   city      uint8         \n",
      " 5   function  uint8         \n",
      " 6   square    int64         \n",
      " 7   year      uint16        \n",
      "dtypes: datetime64[ns](1), float64(1), int64(1), uint16(2), uint8(3)\n",
      "memory usage: 659.9 MB\n"
     ]
    }
   ],
   "source": [
    "building_info_train.info(memory_usage='deep')"
   ]
  },
  {
   "cell_type": "code",
   "execution_count": 422,
   "id": "7622b098",
   "metadata": {},
   "outputs": [],
   "source": [
    "building_info_train.square = building_info_train.square.astype(np.float32)"
   ]
  },
  {
   "cell_type": "markdown",
   "id": "7d63b15d",
   "metadata": {},
   "source": [
    "Сцепка вроде успешна. Добавим информацию по погоде"
   ]
  },
  {
   "cell_type": "code",
   "execution_count": 423,
   "id": "ca15e51d",
   "metadata": {},
   "outputs": [
    {
     "ename": "MemoryError",
     "evalue": "Unable to allocate 135. MiB for an array with shape (17742539,) and data type int64",
     "output_type": "error",
     "traceback": [
      "\u001b[1;31m---------------------------------------------------------------------------\u001b[0m",
      "\u001b[1;31mMemoryError\u001b[0m                               Traceback (most recent call last)",
      "\u001b[1;32m~\\AppData\\Local\\Temp/ipykernel_5508/2217761531.py\u001b[0m in \u001b[0;36m<module>\u001b[1;34m\u001b[0m\n\u001b[1;32m----> 1\u001b[1;33m \u001b[0mout_train\u001b[0m \u001b[1;33m=\u001b[0m \u001b[0mpd\u001b[0m\u001b[1;33m.\u001b[0m\u001b[0mmerge\u001b[0m\u001b[1;33m(\u001b[0m\u001b[0mbuilding_info_train\u001b[0m\u001b[1;33m,\u001b[0m \u001b[0mweather_train_orig\u001b[0m\u001b[1;33m,\u001b[0m \u001b[0mhow\u001b[0m\u001b[1;33m=\u001b[0m\u001b[1;34m'outer'\u001b[0m\u001b[1;33m,\u001b[0m \u001b[0mon\u001b[0m\u001b[1;33m=\u001b[0m\u001b[1;33m[\u001b[0m\u001b[1;34m'city'\u001b[0m\u001b[1;33m,\u001b[0m \u001b[1;34m'datetime'\u001b[0m\u001b[1;33m]\u001b[0m\u001b[1;33m)\u001b[0m\u001b[1;33m\u001b[0m\u001b[1;33m\u001b[0m\u001b[0m\n\u001b[0m",
      "\u001b[1;32mC:\\ProgramData\\Anaconda3\\lib\\site-packages\\pandas\\core\\reshape\\merge.py\u001b[0m in \u001b[0;36mmerge\u001b[1;34m(left, right, how, on, left_on, right_on, left_index, right_index, sort, suffixes, copy, indicator, validate)\u001b[0m\n\u001b[0;32m    119\u001b[0m         \u001b[0mvalidate\u001b[0m\u001b[1;33m=\u001b[0m\u001b[0mvalidate\u001b[0m\u001b[1;33m,\u001b[0m\u001b[1;33m\u001b[0m\u001b[1;33m\u001b[0m\u001b[0m\n\u001b[0;32m    120\u001b[0m     )\n\u001b[1;32m--> 121\u001b[1;33m     \u001b[1;32mreturn\u001b[0m \u001b[0mop\u001b[0m\u001b[1;33m.\u001b[0m\u001b[0mget_result\u001b[0m\u001b[1;33m(\u001b[0m\u001b[1;33m)\u001b[0m\u001b[1;33m\u001b[0m\u001b[1;33m\u001b[0m\u001b[0m\n\u001b[0m\u001b[0;32m    122\u001b[0m \u001b[1;33m\u001b[0m\u001b[0m\n\u001b[0;32m    123\u001b[0m \u001b[1;33m\u001b[0m\u001b[0m\n",
      "\u001b[1;32mC:\\ProgramData\\Anaconda3\\lib\\site-packages\\pandas\\core\\reshape\\merge.py\u001b[0m in \u001b[0;36mget_result\u001b[1;34m(self)\u001b[0m\n\u001b[0;32m    713\u001b[0m             \u001b[0mself\u001b[0m\u001b[1;33m.\u001b[0m\u001b[0mleft\u001b[0m\u001b[1;33m,\u001b[0m \u001b[0mself\u001b[0m\u001b[1;33m.\u001b[0m\u001b[0mright\u001b[0m \u001b[1;33m=\u001b[0m \u001b[0mself\u001b[0m\u001b[1;33m.\u001b[0m\u001b[0m_indicator_pre_merge\u001b[0m\u001b[1;33m(\u001b[0m\u001b[0mself\u001b[0m\u001b[1;33m.\u001b[0m\u001b[0mleft\u001b[0m\u001b[1;33m,\u001b[0m \u001b[0mself\u001b[0m\u001b[1;33m.\u001b[0m\u001b[0mright\u001b[0m\u001b[1;33m)\u001b[0m\u001b[1;33m\u001b[0m\u001b[1;33m\u001b[0m\u001b[0m\n\u001b[0;32m    714\u001b[0m \u001b[1;33m\u001b[0m\u001b[0m\n\u001b[1;32m--> 715\u001b[1;33m         \u001b[0mjoin_index\u001b[0m\u001b[1;33m,\u001b[0m \u001b[0mleft_indexer\u001b[0m\u001b[1;33m,\u001b[0m \u001b[0mright_indexer\u001b[0m \u001b[1;33m=\u001b[0m \u001b[0mself\u001b[0m\u001b[1;33m.\u001b[0m\u001b[0m_get_join_info\u001b[0m\u001b[1;33m(\u001b[0m\u001b[1;33m)\u001b[0m\u001b[1;33m\u001b[0m\u001b[1;33m\u001b[0m\u001b[0m\n\u001b[0m\u001b[0;32m    716\u001b[0m \u001b[1;33m\u001b[0m\u001b[0m\n\u001b[0;32m    717\u001b[0m         llabels, rlabels = _items_overlap_with_suffix(\n",
      "\u001b[1;32mC:\\ProgramData\\Anaconda3\\lib\\site-packages\\pandas\\core\\reshape\\merge.py\u001b[0m in \u001b[0;36m_get_join_info\u001b[1;34m(self)\u001b[0m\n\u001b[0;32m    964\u001b[0m             )\n\u001b[0;32m    965\u001b[0m         \u001b[1;32melse\u001b[0m\u001b[1;33m:\u001b[0m\u001b[1;33m\u001b[0m\u001b[1;33m\u001b[0m\u001b[0m\n\u001b[1;32m--> 966\u001b[1;33m             \u001b[1;33m(\u001b[0m\u001b[0mleft_indexer\u001b[0m\u001b[1;33m,\u001b[0m \u001b[0mright_indexer\u001b[0m\u001b[1;33m)\u001b[0m \u001b[1;33m=\u001b[0m \u001b[0mself\u001b[0m\u001b[1;33m.\u001b[0m\u001b[0m_get_join_indexers\u001b[0m\u001b[1;33m(\u001b[0m\u001b[1;33m)\u001b[0m\u001b[1;33m\u001b[0m\u001b[1;33m\u001b[0m\u001b[0m\n\u001b[0m\u001b[0;32m    967\u001b[0m \u001b[1;33m\u001b[0m\u001b[0m\n\u001b[0;32m    968\u001b[0m             \u001b[1;32mif\u001b[0m \u001b[0mself\u001b[0m\u001b[1;33m.\u001b[0m\u001b[0mright_index\u001b[0m\u001b[1;33m:\u001b[0m\u001b[1;33m\u001b[0m\u001b[1;33m\u001b[0m\u001b[0m\n",
      "\u001b[1;32mC:\\ProgramData\\Anaconda3\\lib\\site-packages\\pandas\\core\\reshape\\merge.py\u001b[0m in \u001b[0;36m_get_join_indexers\u001b[1;34m(self)\u001b[0m\n\u001b[0;32m    938\u001b[0m         \u001b[1;34m\"\"\"return the join indexers\"\"\"\u001b[0m\u001b[1;33m\u001b[0m\u001b[1;33m\u001b[0m\u001b[0m\n\u001b[0;32m    939\u001b[0m         \u001b[1;31m# Both returned ndarrays are np.intp\u001b[0m\u001b[1;33m\u001b[0m\u001b[1;33m\u001b[0m\u001b[0m\n\u001b[1;32m--> 940\u001b[1;33m         return get_join_indexers(\n\u001b[0m\u001b[0;32m    941\u001b[0m             \u001b[0mself\u001b[0m\u001b[1;33m.\u001b[0m\u001b[0mleft_join_keys\u001b[0m\u001b[1;33m,\u001b[0m \u001b[0mself\u001b[0m\u001b[1;33m.\u001b[0m\u001b[0mright_join_keys\u001b[0m\u001b[1;33m,\u001b[0m \u001b[0msort\u001b[0m\u001b[1;33m=\u001b[0m\u001b[0mself\u001b[0m\u001b[1;33m.\u001b[0m\u001b[0msort\u001b[0m\u001b[1;33m,\u001b[0m \u001b[0mhow\u001b[0m\u001b[1;33m=\u001b[0m\u001b[0mself\u001b[0m\u001b[1;33m.\u001b[0m\u001b[0mhow\u001b[0m\u001b[1;33m\u001b[0m\u001b[1;33m\u001b[0m\u001b[0m\n\u001b[0;32m    942\u001b[0m         )\n",
      "\u001b[1;32mC:\\ProgramData\\Anaconda3\\lib\\site-packages\\pandas\\core\\reshape\\merge.py\u001b[0m in \u001b[0;36mget_join_indexers\u001b[1;34m(left_keys, right_keys, sort, how, **kwargs)\u001b[0m\n\u001b[0;32m   1504\u001b[0m \u001b[1;33m\u001b[0m\u001b[0m\n\u001b[0;32m   1505\u001b[0m     \u001b[1;31m# error: Cannot call function of unknown type\u001b[0m\u001b[1;33m\u001b[0m\u001b[1;33m\u001b[0m\u001b[0m\n\u001b[1;32m-> 1506\u001b[1;33m     \u001b[1;32mreturn\u001b[0m \u001b[0mjoin_func\u001b[0m\u001b[1;33m(\u001b[0m\u001b[0mlkey\u001b[0m\u001b[1;33m,\u001b[0m \u001b[0mrkey\u001b[0m\u001b[1;33m,\u001b[0m \u001b[0mcount\u001b[0m\u001b[1;33m,\u001b[0m \u001b[1;33m**\u001b[0m\u001b[0mkwargs\u001b[0m\u001b[1;33m)\u001b[0m  \u001b[1;31m# type: ignore[operator]\u001b[0m\u001b[1;33m\u001b[0m\u001b[1;33m\u001b[0m\u001b[0m\n\u001b[0m\u001b[0;32m   1507\u001b[0m \u001b[1;33m\u001b[0m\u001b[0m\n\u001b[0;32m   1508\u001b[0m \u001b[1;33m\u001b[0m\u001b[0m\n",
      "\u001b[1;32mC:\\ProgramData\\Anaconda3\\lib\\site-packages\\pandas\\_libs\\join.pyx\u001b[0m in \u001b[0;36mpandas._libs.join.full_outer_join\u001b[1;34m()\u001b[0m\n",
      "\u001b[1;31mMemoryError\u001b[0m: Unable to allocate 135. MiB for an array with shape (17742539,) and data type int64"
     ]
    }
   ],
   "source": [
    "out_train = pd.merge(building_info_train, weather_train_orig, how='outer', on=['city', 'datetime'])"
   ]
  },
  {
   "cell_type": "code",
   "execution_count": 419,
   "id": "d805773a",
   "metadata": {},
   "outputs": [
    {
     "data": {
      "text/plain": [
       "15120152"
      ]
     },
     "execution_count": 419,
     "metadata": {},
     "output_type": "execute_result"
    }
   ],
   "source": [
    "out_train.shape[0]"
   ]
  },
  {
   "cell_type": "code",
   "execution_count": null,
   "id": "8c16538c",
   "metadata": {},
   "outputs": [],
   "source": [
    "# значений больше. Не совпали погоды или города из-за удаления выбросов или что там. Есть Nan?"
   ]
  },
  {
   "cell_type": "code",
   "execution_count": 292,
   "id": "8b7edfe6",
   "metadata": {},
   "outputs": [
    {
     "data": {
      "text/plain": [
       "obj_id           False\n",
       "counter          False\n",
       "datetime         False\n",
       "value            False\n",
       "city             False\n",
       "function         False\n",
       "square           False\n",
       "year             False\n",
       "temp             False\n",
       "clouds           False\n",
       "dew              False\n",
       "precipitation    False\n",
       "pressure         False\n",
       "wdirection       False\n",
       "wspeed           False\n",
       "dtype: bool"
      ]
     },
     "execution_count": 292,
     "metadata": {},
     "output_type": "execute_result"
    }
   ],
   "source": [
    "out_train.isna().any()"
   ]
  },
  {
   "cell_type": "code",
   "execution_count": 293,
   "id": "eeff3a92",
   "metadata": {},
   "outputs": [
    {
     "data": {
      "text/html": [
       "<div>\n",
       "<style scoped>\n",
       "    .dataframe tbody tr th:only-of-type {\n",
       "        vertical-align: middle;\n",
       "    }\n",
       "\n",
       "    .dataframe tbody tr th {\n",
       "        vertical-align: top;\n",
       "    }\n",
       "\n",
       "    .dataframe thead th {\n",
       "        text-align: right;\n",
       "    }\n",
       "</style>\n",
       "<table border=\"1\" class=\"dataframe\">\n",
       "  <thead>\n",
       "    <tr style=\"text-align: right;\">\n",
       "      <th></th>\n",
       "      <th>obj_id</th>\n",
       "      <th>counter</th>\n",
       "      <th>datetime</th>\n",
       "      <th>value</th>\n",
       "      <th>city</th>\n",
       "      <th>function</th>\n",
       "      <th>square</th>\n",
       "      <th>year</th>\n",
       "      <th>temp</th>\n",
       "      <th>clouds</th>\n",
       "      <th>dew</th>\n",
       "      <th>precipitation</th>\n",
       "      <th>pressure</th>\n",
       "      <th>wdirection</th>\n",
       "      <th>wspeed</th>\n",
       "    </tr>\n",
       "  </thead>\n",
       "  <tbody>\n",
       "    <tr>\n",
       "      <th>0</th>\n",
       "      <td>0</td>\n",
       "      <td>0</td>\n",
       "      <td>2016-01-01 00:00:00</td>\n",
       "      <td>0.0000</td>\n",
       "      <td>0</td>\n",
       "      <td>0</td>\n",
       "      <td>7432</td>\n",
       "      <td>2008</td>\n",
       "      <td>25.0</td>\n",
       "      <td>6</td>\n",
       "      <td>20.0</td>\n",
       "      <td>0.0</td>\n",
       "      <td>1019.7</td>\n",
       "      <td>0.0</td>\n",
       "      <td>0.0</td>\n",
       "    </tr>\n",
       "    <tr>\n",
       "      <th>1</th>\n",
       "      <td>1</td>\n",
       "      <td>0</td>\n",
       "      <td>2016-01-01 00:00:00</td>\n",
       "      <td>0.0000</td>\n",
       "      <td>0</td>\n",
       "      <td>0</td>\n",
       "      <td>2720</td>\n",
       "      <td>2004</td>\n",
       "      <td>25.0</td>\n",
       "      <td>6</td>\n",
       "      <td>20.0</td>\n",
       "      <td>0.0</td>\n",
       "      <td>1019.7</td>\n",
       "      <td>0.0</td>\n",
       "      <td>0.0</td>\n",
       "    </tr>\n",
       "    <tr>\n",
       "      <th>2</th>\n",
       "      <td>2</td>\n",
       "      <td>0</td>\n",
       "      <td>2016-01-01 00:00:00</td>\n",
       "      <td>0.0000</td>\n",
       "      <td>0</td>\n",
       "      <td>0</td>\n",
       "      <td>5376</td>\n",
       "      <td>1991</td>\n",
       "      <td>25.0</td>\n",
       "      <td>6</td>\n",
       "      <td>20.0</td>\n",
       "      <td>0.0</td>\n",
       "      <td>1019.7</td>\n",
       "      <td>0.0</td>\n",
       "      <td>0.0</td>\n",
       "    </tr>\n",
       "    <tr>\n",
       "      <th>3</th>\n",
       "      <td>3</td>\n",
       "      <td>0</td>\n",
       "      <td>2016-01-01 00:00:00</td>\n",
       "      <td>0.0000</td>\n",
       "      <td>0</td>\n",
       "      <td>0</td>\n",
       "      <td>23685</td>\n",
       "      <td>2002</td>\n",
       "      <td>25.0</td>\n",
       "      <td>6</td>\n",
       "      <td>20.0</td>\n",
       "      <td>0.0</td>\n",
       "      <td>1019.7</td>\n",
       "      <td>0.0</td>\n",
       "      <td>0.0</td>\n",
       "    </tr>\n",
       "    <tr>\n",
       "      <th>4</th>\n",
       "      <td>4</td>\n",
       "      <td>0</td>\n",
       "      <td>2016-01-01 00:00:00</td>\n",
       "      <td>0.0000</td>\n",
       "      <td>0</td>\n",
       "      <td>0</td>\n",
       "      <td>116607</td>\n",
       "      <td>1975</td>\n",
       "      <td>25.0</td>\n",
       "      <td>6</td>\n",
       "      <td>20.0</td>\n",
       "      <td>0.0</td>\n",
       "      <td>1019.7</td>\n",
       "      <td>0.0</td>\n",
       "      <td>0.0</td>\n",
       "    </tr>\n",
       "    <tr>\n",
       "      <th>...</th>\n",
       "      <td>...</td>\n",
       "      <td>...</td>\n",
       "      <td>...</td>\n",
       "      <td>...</td>\n",
       "      <td>...</td>\n",
       "      <td>...</td>\n",
       "      <td>...</td>\n",
       "      <td>...</td>\n",
       "      <td>...</td>\n",
       "      <td>...</td>\n",
       "      <td>...</td>\n",
       "      <td>...</td>\n",
       "      <td>...</td>\n",
       "      <td>...</td>\n",
       "      <td>...</td>\n",
       "    </tr>\n",
       "    <tr>\n",
       "      <th>15120147</th>\n",
       "      <td>1400</td>\n",
       "      <td>1</td>\n",
       "      <td>2016-03-24 12:00:00</td>\n",
       "      <td>15.3753</td>\n",
       "      <td>15</td>\n",
       "      <td>1</td>\n",
       "      <td>21168</td>\n",
       "      <td>1928</td>\n",
       "      <td>1.7</td>\n",
       "      <td>0</td>\n",
       "      <td>1.7</td>\n",
       "      <td>0.0</td>\n",
       "      <td>1016.8</td>\n",
       "      <td>0.0</td>\n",
       "      <td>0.0</td>\n",
       "    </tr>\n",
       "    <tr>\n",
       "      <th>15120148</th>\n",
       "      <td>1400</td>\n",
       "      <td>1</td>\n",
       "      <td>2016-03-24 13:00:00</td>\n",
       "      <td>25.0848</td>\n",
       "      <td>15</td>\n",
       "      <td>1</td>\n",
       "      <td>21168</td>\n",
       "      <td>1928</td>\n",
       "      <td>2.8</td>\n",
       "      <td>0</td>\n",
       "      <td>2.2</td>\n",
       "      <td>0.0</td>\n",
       "      <td>1016.6</td>\n",
       "      <td>320.0</td>\n",
       "      <td>1.5</td>\n",
       "    </tr>\n",
       "    <tr>\n",
       "      <th>15120149</th>\n",
       "      <td>1400</td>\n",
       "      <td>1</td>\n",
       "      <td>2016-03-24 14:00:00</td>\n",
       "      <td>32.3439</td>\n",
       "      <td>15</td>\n",
       "      <td>1</td>\n",
       "      <td>21168</td>\n",
       "      <td>1928</td>\n",
       "      <td>5.6</td>\n",
       "      <td>0</td>\n",
       "      <td>4.4</td>\n",
       "      <td>0.0</td>\n",
       "      <td>1015.2</td>\n",
       "      <td>110.0</td>\n",
       "      <td>2.1</td>\n",
       "    </tr>\n",
       "    <tr>\n",
       "      <th>15120150</th>\n",
       "      <td>1400</td>\n",
       "      <td>1</td>\n",
       "      <td>2016-03-24 15:00:00</td>\n",
       "      <td>24.2214</td>\n",
       "      <td>15</td>\n",
       "      <td>1</td>\n",
       "      <td>21168</td>\n",
       "      <td>1928</td>\n",
       "      <td>11.1</td>\n",
       "      <td>0</td>\n",
       "      <td>4.4</td>\n",
       "      <td>0.0</td>\n",
       "      <td>1013.9</td>\n",
       "      <td>150.0</td>\n",
       "      <td>5.1</td>\n",
       "    </tr>\n",
       "    <tr>\n",
       "      <th>15120151</th>\n",
       "      <td>1400</td>\n",
       "      <td>1</td>\n",
       "      <td>2016-03-24 16:00:00</td>\n",
       "      <td>16.3553</td>\n",
       "      <td>15</td>\n",
       "      <td>1</td>\n",
       "      <td>21168</td>\n",
       "      <td>1928</td>\n",
       "      <td>15.0</td>\n",
       "      <td>4</td>\n",
       "      <td>4.4</td>\n",
       "      <td>0.0</td>\n",
       "      <td>1012.0</td>\n",
       "      <td>160.0</td>\n",
       "      <td>8.2</td>\n",
       "    </tr>\n",
       "  </tbody>\n",
       "</table>\n",
       "<p>15120152 rows × 15 columns</p>\n",
       "</div>"
      ],
      "text/plain": [
       "          obj_id  counter            datetime    value  city  function  \\\n",
       "0              0        0 2016-01-01 00:00:00   0.0000     0         0   \n",
       "1              1        0 2016-01-01 00:00:00   0.0000     0         0   \n",
       "2              2        0 2016-01-01 00:00:00   0.0000     0         0   \n",
       "3              3        0 2016-01-01 00:00:00   0.0000     0         0   \n",
       "4              4        0 2016-01-01 00:00:00   0.0000     0         0   \n",
       "...          ...      ...                 ...      ...   ...       ...   \n",
       "15120147    1400        1 2016-03-24 12:00:00  15.3753    15         1   \n",
       "15120148    1400        1 2016-03-24 13:00:00  25.0848    15         1   \n",
       "15120149    1400        1 2016-03-24 14:00:00  32.3439    15         1   \n",
       "15120150    1400        1 2016-03-24 15:00:00  24.2214    15         1   \n",
       "15120151    1400        1 2016-03-24 16:00:00  16.3553    15         1   \n",
       "\n",
       "          square  year  temp  clouds   dew  precipitation  pressure  \\\n",
       "0           7432  2008  25.0       6  20.0            0.0    1019.7   \n",
       "1           2720  2004  25.0       6  20.0            0.0    1019.7   \n",
       "2           5376  1991  25.0       6  20.0            0.0    1019.7   \n",
       "3          23685  2002  25.0       6  20.0            0.0    1019.7   \n",
       "4         116607  1975  25.0       6  20.0            0.0    1019.7   \n",
       "...          ...   ...   ...     ...   ...            ...       ...   \n",
       "15120147   21168  1928   1.7       0   1.7            0.0    1016.8   \n",
       "15120148   21168  1928   2.8       0   2.2            0.0    1016.6   \n",
       "15120149   21168  1928   5.6       0   4.4            0.0    1015.2   \n",
       "15120150   21168  1928  11.1       0   4.4            0.0    1013.9   \n",
       "15120151   21168  1928  15.0       4   4.4            0.0    1012.0   \n",
       "\n",
       "          wdirection  wspeed  \n",
       "0                0.0     0.0  \n",
       "1                0.0     0.0  \n",
       "2                0.0     0.0  \n",
       "3                0.0     0.0  \n",
       "4                0.0     0.0  \n",
       "...              ...     ...  \n",
       "15120147         0.0     0.0  \n",
       "15120148       320.0     1.5  \n",
       "15120149       110.0     2.1  \n",
       "15120150       150.0     5.1  \n",
       "15120151       160.0     8.2  \n",
       "\n",
       "[15120152 rows x 15 columns]"
      ]
     },
     "execution_count": 293,
     "metadata": {},
     "output_type": "execute_result"
    }
   ],
   "source": [
    "out_train.dropna()"
   ]
  },
  {
   "cell_type": "code",
   "execution_count": null,
   "id": "094de919",
   "metadata": {},
   "outputs": [],
   "source": []
  },
  {
   "cell_type": "code",
   "execution_count": null,
   "id": "e77e79ba",
   "metadata": {},
   "outputs": [],
   "source": [
    "# сцепляем test_orig и building_meta, добавив доп.инфо по объектам\n",
    "building_info_test = pd.merge(test_orig, building_meta_orig, how='outer', on='obj_id')"
   ]
  },
  {
   "cell_type": "code",
   "execution_count": 425,
   "id": "140a397c",
   "metadata": {},
   "outputs": [],
   "source": [
    "building_info_train.to_csv('building_info_train.csv')"
   ]
  },
  {
   "cell_type": "code",
   "execution_count": null,
   "id": "698b0e40",
   "metadata": {},
   "outputs": [],
   "source": [
    "building_info_test.to_csv('building_info_train.csv')"
   ]
  },
  {
   "cell_type": "code",
   "execution_count": 426,
   "id": "4b802e40",
   "metadata": {},
   "outputs": [],
   "source": [
    "train_orig.to_csv('train_orig.csv')"
   ]
  },
  {
   "cell_type": "code",
   "execution_count": 427,
   "id": "ac0b2651",
   "metadata": {},
   "outputs": [],
   "source": [
    "weather_train_orig.to_csv('weather_train_orig.csv')"
   ]
  },
  {
   "cell_type": "code",
   "execution_count": 428,
   "id": "a2ee88be",
   "metadata": {},
   "outputs": [],
   "source": [
    "weather_test_orig.to_csv('weather_test_orig.csv')"
   ]
  },
  {
   "cell_type": "code",
   "execution_count": null,
   "id": "a52c4dc4",
   "metadata": {},
   "outputs": [],
   "source": [
    "test_orig.to_csv('test_orig.csv')"
   ]
  },
  {
   "cell_type": "code",
   "execution_count": null,
   "id": "92b6b0f8",
   "metadata": {},
   "outputs": [],
   "source": [
    "building_meta_orig.to_csv('building_meta_orig.csv')"
   ]
  },
  {
   "cell_type": "code",
   "execution_count": null,
   "id": "ef6b1f51",
   "metadata": {},
   "outputs": [],
   "source": []
  },
  {
   "cell_type": "markdown",
   "id": "d8aca23d",
   "metadata": {},
   "source": [
    "# Потерпел фейл при сцепке из-за потёкшей ОЗУ. В следующем модуле загружу уже то, что успел сделать"
   ]
  },
  {
   "cell_type": "code",
   "execution_count": null,
   "id": "ff74659e",
   "metadata": {},
   "outputs": [],
   "source": []
  }
 ],
 "metadata": {
  "kernelspec": {
   "display_name": "Python 3 (ipykernel)",
   "language": "python",
   "name": "python3"
  },
  "language_info": {
   "codemirror_mode": {
    "name": "ipython",
    "version": 3
   },
   "file_extension": ".py",
   "mimetype": "text/x-python",
   "name": "python",
   "nbconvert_exporter": "python",
   "pygments_lexer": "ipython3",
   "version": "3.9.7"
  }
 },
 "nbformat": 4,
 "nbformat_minor": 5
}
