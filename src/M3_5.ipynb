{
 "cells": [
  {
   "cell_type": "markdown",
   "id": "b296aa83",
   "metadata": {},
   "source": [
    "# Модуль 3. Выявление зависимостей в данных"
   ]
  },
  {
   "cell_type": "code",
   "execution_count": 165,
   "id": "8008262d",
   "metadata": {},
   "outputs": [],
   "source": [
    "# \"стандартный\" импорт\n",
    "import pandas as pd \n",
    "import numpy as np\n",
    "\n",
    "import matplotlib.pyplot as plt\n",
    "%matplotlib inline\n",
    "\n",
    "from sklearn.model_selection import train_test_split\n",
    "\n",
    "import seaborn as sns"
   ]
  },
  {
   "cell_type": "code",
   "execution_count": null,
   "id": "a2702bcc",
   "metadata": {},
   "outputs": [],
   "source": []
  },
  {
   "cell_type": "markdown",
   "id": "4c3c92c3",
   "metadata": {},
   "source": [
    "### 0. Предисловие\n",
    "Для продолжения работы загружаю датасеты, которые у меня получились в ходе работы над модулями 1-2. Здесь ничего нового и можно переходить к п.1, где и начинается выполнение задания"
   ]
  },
  {
   "cell_type": "code",
   "execution_count": 185,
   "id": "d4179db6",
   "metadata": {},
   "outputs": [],
   "source": [
    "# грузим train_m2.csv\n",
    "try:\n",
    "    train_orig = pd.read_csv('train_m2.csv')\n",
    "except FileNotFoundError:\n",
    "    print('Файл train_m2.csv отсутствует')\n",
    "except Exception as e:\n",
    "    print(f'Возникла ошибка {e.args[1]}')"
   ]
  },
  {
   "cell_type": "code",
   "execution_count": 3,
   "id": "a079cf71",
   "metadata": {},
   "outputs": [
    {
     "name": "stdout",
     "output_type": "stream",
     "text": [
      "<class 'pandas.core.frame.DataFrame'>\n",
      "RangeIndex: 20125605 entries, 0 to 20125604\n",
      "Data columns (total 15 columns):\n",
      " #   Column         Dtype  \n",
      "---  ------         -----  \n",
      " 0   obj_id         float64\n",
      " 1   counter        float64\n",
      " 2   datetime       object \n",
      " 3   value          float64\n",
      " 4   city           int64  \n",
      " 5   function       float64\n",
      " 6   square         float64\n",
      " 7   year           float64\n",
      " 8   temp           float64\n",
      " 9   clouds         float64\n",
      " 10  dew            float64\n",
      " 11  precipitation  float64\n",
      " 12  pressure       float64\n",
      " 13  wdirection     float64\n",
      " 14  wspeed         float64\n",
      "dtypes: float64(13), int64(1), object(1)\n",
      "memory usage: 3.5 GB\n"
     ]
    }
   ],
   "source": [
    "train_orig.info(memory_usage='deep')"
   ]
  },
  {
   "cell_type": "markdown",
   "id": "b26459b4",
   "metadata": {},
   "source": [
    "Сразу сжимаю данные по выясненным ранее критериям"
   ]
  },
  {
   "cell_type": "code",
   "execution_count": 186,
   "id": "2aece311",
   "metadata": {},
   "outputs": [],
   "source": [
    "# задаём верный тип для дата/времени\n",
    "train_orig.datetime = pd.to_datetime(train_orig.datetime)"
   ]
  },
  {
   "cell_type": "code",
   "execution_count": 187,
   "id": "a1a1a2c2",
   "metadata": {},
   "outputs": [],
   "source": [
    "# Сжимаем obj_id и counter\n",
    "train_orig.obj_id = train_orig.obj_id.astype(np.ushort)\n",
    "train_orig.counter = train_orig.counter.astype(np.uint8)\n",
    "# сжимаем city\n",
    "train_orig.city = train_orig.city.astype(np.uint8)\n",
    "# сжимаем function\n",
    "train_orig.function = train_orig.function.astype(np.uint8)\n",
    "# сжимаем clouds\n",
    "train_orig.clouds = train_orig.clouds.astype(np.uint8)\n",
    "# для экономии памяти сожмём float64 до float32?\n",
    "for col in ['temp', 'dew', 'pressure', 'wdirection', 'wspeed', 'precipitation', 'value', 'square']:\n",
    "    train_orig[col] = train_orig[col].astype(np.float32)\n",
    "# сжимаем year\n",
    "train_orig.year = train_orig.year.astype(np.ushort)"
   ]
  },
  {
   "cell_type": "code",
   "execution_count": 6,
   "id": "a20d0146",
   "metadata": {},
   "outputs": [
    {
     "name": "stdout",
     "output_type": "stream",
     "text": [
      "<class 'pandas.core.frame.DataFrame'>\n",
      "RangeIndex: 20125605 entries, 0 to 20125604\n",
      "Data columns (total 15 columns):\n",
      " #   Column         Dtype         \n",
      "---  ------         -----         \n",
      " 0   obj_id         uint16        \n",
      " 1   counter        uint8         \n",
      " 2   datetime       datetime64[ns]\n",
      " 3   value          float32       \n",
      " 4   city           uint8         \n",
      " 5   function       uint8         \n",
      " 6   square         float32       \n",
      " 7   year           uint16        \n",
      " 8   temp           float32       \n",
      " 9   clouds         uint8         \n",
      " 10  dew            float32       \n",
      " 11  precipitation  float32       \n",
      " 12  pressure       float32       \n",
      " 13  wdirection     float32       \n",
      " 14  wspeed         float32       \n",
      "dtypes: datetime64[ns](1), float32(8), uint16(2), uint8(4)\n",
      "memory usage: 921.3 MB\n"
     ]
    }
   ],
   "source": [
    "train_orig.info(memory_usage='deep')"
   ]
  },
  {
   "cell_type": "code",
   "execution_count": null,
   "id": "46e90791",
   "metadata": {},
   "outputs": [],
   "source": []
  },
  {
   "cell_type": "code",
   "execution_count": 87,
   "id": "4079e846",
   "metadata": {},
   "outputs": [],
   "source": [
    "# грузим test_m2.csv\n",
    "try:\n",
    "    test_orig = pd.read_csv('test_m2.csv', nrows=10000)\n",
    "except FileNotFoundError:\n",
    "    print('Файл test_m2.csv отсутствует')\n",
    "except Exception as e:\n",
    "    print(f'Возникла ошибка {e.args[1]}')"
   ]
  },
  {
   "cell_type": "code",
   "execution_count": 8,
   "id": "42527a97",
   "metadata": {},
   "outputs": [
    {
     "name": "stdout",
     "output_type": "stream",
     "text": [
      "<class 'pandas.core.frame.DataFrame'>\n",
      "RangeIndex: 10000 entries, 0 to 9999\n",
      "Data columns (total 14 columns):\n",
      " #   Column         Non-Null Count  Dtype  \n",
      "---  ------         --------------  -----  \n",
      " 0   obj_id         10000 non-null  int64  \n",
      " 1   counter        10000 non-null  int64  \n",
      " 2   datetime       10000 non-null  object \n",
      " 3   city           10000 non-null  int64  \n",
      " 4   function       10000 non-null  int64  \n",
      " 5   square         10000 non-null  int64  \n",
      " 6   year           10000 non-null  int64  \n",
      " 7   temp           10000 non-null  float64\n",
      " 8   clouds         10000 non-null  float64\n",
      " 9   dew            10000 non-null  float64\n",
      " 10  precipitation  10000 non-null  float64\n",
      " 11  pressure       10000 non-null  float64\n",
      " 12  wdirection     10000 non-null  float64\n",
      " 13  wspeed         10000 non-null  float64\n",
      "dtypes: float64(7), int64(6), object(1)\n",
      "memory usage: 1.7 MB\n"
     ]
    }
   ],
   "source": [
    "test_orig.info(memory_usage='deep')"
   ]
  },
  {
   "cell_type": "markdown",
   "id": "777be04f",
   "metadata": {},
   "source": [
    "Cжимаю данные по выясненным ранее критериям"
   ]
  },
  {
   "cell_type": "code",
   "execution_count": 88,
   "id": "c04a1a77",
   "metadata": {},
   "outputs": [],
   "source": [
    "# задаём верный тип для дата/времени\n",
    "test_orig.datetime = pd.to_datetime(test_orig.datetime)\n",
    "\n",
    "# Сжимаем obj_id и counter\n",
    "test_orig.obj_id = test_orig.obj_id.astype(np.ushort)\n",
    "test_orig.counter = test_orig.counter.astype(np.uint8)\n",
    "# сжимаем city\n",
    "test_orig.city = test_orig.city.astype(np.uint8)\n",
    "# сжимаем function\n",
    "test_orig.function = test_orig.function.astype(np.uint8)\n",
    "# сжимаем clouds\n",
    "test_orig.clouds = test_orig.clouds.astype(np.uint8)\n",
    "# для экономии памяти сожмём float64 до float32?\n",
    "for col in ['temp', 'dew', 'pressure', 'wdirection', 'wspeed', 'precipitation', 'square']:\n",
    "    test_orig[col] = test_orig[col].astype(np.float32)\n",
    "# сжимаем year\n",
    "test_orig.year = test_orig.year.astype(np.ushort)"
   ]
  },
  {
   "cell_type": "code",
   "execution_count": 10,
   "id": "ffceb52c",
   "metadata": {},
   "outputs": [
    {
     "name": "stdout",
     "output_type": "stream",
     "text": [
      "<class 'pandas.core.frame.DataFrame'>\n",
      "RangeIndex: 10000 entries, 0 to 9999\n",
      "Data columns (total 14 columns):\n",
      " #   Column         Non-Null Count  Dtype         \n",
      "---  ------         --------------  -----         \n",
      " 0   obj_id         10000 non-null  uint16        \n",
      " 1   counter        10000 non-null  uint8         \n",
      " 2   datetime       10000 non-null  datetime64[ns]\n",
      " 3   city           10000 non-null  uint8         \n",
      " 4   function       10000 non-null  uint8         \n",
      " 5   square         10000 non-null  float32       \n",
      " 6   year           10000 non-null  uint16        \n",
      " 7   temp           10000 non-null  float32       \n",
      " 8   clouds         10000 non-null  uint8         \n",
      " 9   dew            10000 non-null  float32       \n",
      " 10  precipitation  10000 non-null  float32       \n",
      " 11  pressure       10000 non-null  float32       \n",
      " 12  wdirection     10000 non-null  float32       \n",
      " 13  wspeed         10000 non-null  float32       \n",
      "dtypes: datetime64[ns](1), float32(7), uint16(2), uint8(4)\n",
      "memory usage: 429.8 KB\n"
     ]
    }
   ],
   "source": [
    "test_orig.info(memory_usage='deep')"
   ]
  },
  {
   "cell_type": "code",
   "execution_count": null,
   "id": "8610a920",
   "metadata": {},
   "outputs": [],
   "source": []
  },
  {
   "cell_type": "markdown",
   "id": "25822d1e",
   "metadata": {},
   "source": [
    "## 1. Работа с предикторами"
   ]
  },
  {
   "cell_type": "markdown",
   "id": "ef8b4b91",
   "metadata": {},
   "source": [
    "### 1.1 Декатегоризация\n",
    "Избавляемся от категориальных переменных counter, clouds, function, city. Для любой модели будет лучше, если она не сможет сравнивать по номиналу счетчики (counter) или города (city), т.к. это и логически неверно (нельзя сказать, что счетчик по холодной воде меньше пара, но больше счетчика по электричеству и т.д.). Применим **OneHot-кодирование**"
   ]
  },
  {
   "cell_type": "code",
   "execution_count": 188,
   "id": "c9075952",
   "metadata": {},
   "outputs": [],
   "source": [
    "train_orig = pd.get_dummies(train_orig, columns=['counter', 'clouds', 'function', 'city'])"
   ]
  },
  {
   "cell_type": "code",
   "execution_count": 12,
   "id": "184824f4",
   "metadata": {
    "scrolled": true
   },
   "outputs": [
    {
     "name": "stdout",
     "output_type": "stream",
     "text": [
      "<class 'pandas.core.frame.DataFrame'>\n",
      "RangeIndex: 20125605 entries, 0 to 20125604\n",
      "Data columns (total 57 columns):\n",
      " #   Column         Dtype         \n",
      "---  ------         -----         \n",
      " 0   obj_id         uint16        \n",
      " 1   datetime       datetime64[ns]\n",
      " 2   value          float32       \n",
      " 3   square         float32       \n",
      " 4   year           uint16        \n",
      " 5   temp           float32       \n",
      " 6   dew            float32       \n",
      " 7   precipitation  float32       \n",
      " 8   pressure       float32       \n",
      " 9   wdirection     float32       \n",
      " 10  wspeed         float32       \n",
      " 11  counter_0      uint8         \n",
      " 12  counter_1      uint8         \n",
      " 13  counter_2      uint8         \n",
      " 14  counter_3      uint8         \n",
      " 15  clouds_0       uint8         \n",
      " 16  clouds_1       uint8         \n",
      " 17  clouds_2       uint8         \n",
      " 18  clouds_3       uint8         \n",
      " 19  clouds_4       uint8         \n",
      " 20  clouds_5       uint8         \n",
      " 21  clouds_6       uint8         \n",
      " 22  clouds_7       uint8         \n",
      " 23  clouds_8       uint8         \n",
      " 24  clouds_9       uint8         \n",
      " 25  function_0     uint8         \n",
      " 26  function_1     uint8         \n",
      " 27  function_2     uint8         \n",
      " 28  function_3     uint8         \n",
      " 29  function_4     uint8         \n",
      " 30  function_5     uint8         \n",
      " 31  function_6     uint8         \n",
      " 32  function_7     uint8         \n",
      " 33  function_8     uint8         \n",
      " 34  function_9     uint8         \n",
      " 35  function_10    uint8         \n",
      " 36  function_11    uint8         \n",
      " 37  function_12    uint8         \n",
      " 38  function_13    uint8         \n",
      " 39  function_14    uint8         \n",
      " 40  function_15    uint8         \n",
      " 41  city_0         uint8         \n",
      " 42  city_1         uint8         \n",
      " 43  city_2         uint8         \n",
      " 44  city_3         uint8         \n",
      " 45  city_4         uint8         \n",
      " 46  city_5         uint8         \n",
      " 47  city_6         uint8         \n",
      " 48  city_7         uint8         \n",
      " 49  city_8         uint8         \n",
      " 50  city_9         uint8         \n",
      " 51  city_10        uint8         \n",
      " 52  city_11        uint8         \n",
      " 53  city_12        uint8         \n",
      " 54  city_13        uint8         \n",
      " 55  city_14        uint8         \n",
      " 56  city_15        uint8         \n",
      "dtypes: datetime64[ns](1), float32(8), uint16(2), uint8(46)\n",
      "memory usage: 1.7 GB\n"
     ]
    }
   ],
   "source": [
    "# проверю получившийся размер и тип новых переменных\n",
    "train_orig.info(memory_usage='deep')"
   ]
  },
  {
   "cell_type": "markdown",
   "id": "f7f1a8c9",
   "metadata": {},
   "source": [
    "*Поскольку я укладываюсь по ОЗУ, то попробую не ограничивать на данном этапе количество строк. В простейшем случае можно было бы взять сэмпл N строк, но позаботиться о том, чтобы по каждой переменной вошли min-max значения*"
   ]
  },
  {
   "cell_type": "code",
   "execution_count": null,
   "id": "a0ed0ae8",
   "metadata": {},
   "outputs": [],
   "source": []
  },
  {
   "cell_type": "markdown",
   "id": "c9c01117",
   "metadata": {},
   "source": [
    "### 1.2 Добавление новых фич"
   ]
  },
  {
   "cell_type": "markdown",
   "id": "e24484ed",
   "metadata": {},
   "source": [
    "Попробуем разложить на новые фичи дату/время. Давайте посмотрим на временной диапазон"
   ]
  },
  {
   "cell_type": "code",
   "execution_count": 13,
   "id": "5846d04c",
   "metadata": {},
   "outputs": [
    {
     "data": {
      "text/plain": [
       "[Timestamp('2016-01-01 00:00:00'), Timestamp('2016-12-31 23:00:00')]"
      ]
     },
     "execution_count": 13,
     "metadata": {},
     "output_type": "execute_result"
    }
   ],
   "source": [
    "[train_orig.datetime.min(), train_orig.datetime.max()]"
   ]
  },
  {
   "cell_type": "markdown",
   "id": "a1aa7a27",
   "metadata": {},
   "source": [
    "Видим, что данные представлены за **полный год**. Значит мы можем предположить, что на ответ влияют:\n",
    "\n",
    "**день в году** - циклическое изменение из года в год\n",
    "\n",
    "**месяц** - влияние времени года и сопутствующие температура, влажность и т.д.\n",
    "\n",
    "**день месяца** - теоретическое изменение потребления от начала месяца к его концу\n",
    "\n",
    "**час суток** - влияние рабочего/нерабочего времени\n",
    "\n",
    "Так же дополнительно: \n",
    "\n",
    "**время суток** - день\\ночь, предположив, что днём потребление больше (может оказаться обратное)\n",
    "\n",
    "**время года** - зима/весна/лето/осень\n",
    "\n",
    "**выходной-не выходной** - влияние потребления от работы здания"
   ]
  },
  {
   "cell_type": "markdown",
   "id": "bf28a715",
   "metadata": {},
   "source": [
    "Добавляем новые признаки"
   ]
  },
  {
   "cell_type": "code",
   "execution_count": 189,
   "id": "6add5371",
   "metadata": {},
   "outputs": [],
   "source": [
    "# день года\n",
    "train_orig['day_of_year'] = train_orig.datetime.dt.day_of_year"
   ]
  },
  {
   "cell_type": "code",
   "execution_count": 190,
   "id": "c7b96e7e",
   "metadata": {},
   "outputs": [],
   "source": [
    "# месяц\n",
    "train_orig['month'] = train_orig.datetime.dt.month"
   ]
  },
  {
   "cell_type": "code",
   "execution_count": 191,
   "id": "7d78c1de",
   "metadata": {},
   "outputs": [],
   "source": [
    "# день месяца (число)\n",
    "train_orig['day_of_month'] = train_orig.datetime.dt.day"
   ]
  },
  {
   "cell_type": "code",
   "execution_count": 192,
   "id": "65913c69",
   "metadata": {},
   "outputs": [],
   "source": [
    "# час суток \n",
    "train_orig['hour'] = train_orig.datetime.dt.hour"
   ]
  },
  {
   "cell_type": "markdown",
   "id": "c2d01334",
   "metadata": {},
   "source": [
    "Производные фичи из даты/времени:\n",
    "\n",
    "**время суток** закодируем как 1 - день, 0 - ночь\n",
    "\n",
    "**время года** разложим на winter, spring, summer, autumn, где 1 - это время года, а 0 - нет\n",
    "\n",
    "**выходной** закодируем как 1 - да, 0 - нет"
   ]
  },
  {
   "cell_type": "code",
   "execution_count": 193,
   "id": "e95aef41",
   "metadata": {},
   "outputs": [],
   "source": [
    "# время суток - это день? Просто прикидываю, что день от 07 до 18\n",
    "train_orig['is_daytime'] = train_orig.datetime.apply(lambda x: 1 if x.hour >= 7 and x.hour <= 18 else 0)"
   ]
  },
  {
   "cell_type": "code",
   "execution_count": 194,
   "id": "3fb7a4f5",
   "metadata": {},
   "outputs": [],
   "source": [
    "# время недели - выходной?\n",
    "train_orig['is_weekday'] = train_orig.datetime.apply(lambda x: 1 if x.day_of_week >= 5 else 0)"
   ]
  },
  {
   "cell_type": "code",
   "execution_count": 195,
   "id": "933368c0",
   "metadata": {},
   "outputs": [],
   "source": [
    "# время года - зима\n",
    "train_orig['winter'] = train_orig.datetime.apply(lambda x: 1 if x.month in [1, 2, 12] else 0)"
   ]
  },
  {
   "cell_type": "code",
   "execution_count": 196,
   "id": "99708d81",
   "metadata": {},
   "outputs": [],
   "source": [
    "# время года - весна\n",
    "train_orig['spring'] = train_orig.datetime.apply(lambda x: 1 if x.month in [3, 4, 5] else 0)"
   ]
  },
  {
   "cell_type": "code",
   "execution_count": 197,
   "id": "24c7fc1e",
   "metadata": {},
   "outputs": [],
   "source": [
    "# время года - лето\n",
    "train_orig['summer'] = train_orig.datetime.apply(lambda x: 1 if x.month in [6, 7, 8] else 0)"
   ]
  },
  {
   "cell_type": "code",
   "execution_count": 198,
   "id": "b8eff015",
   "metadata": {},
   "outputs": [],
   "source": [
    "# время года - осень\n",
    "train_orig['autumn'] = train_orig.datetime.apply(lambda x: 1 if x.month in [9, 10, 11] else 0)"
   ]
  },
  {
   "cell_type": "markdown",
   "id": "90dd86d2",
   "metadata": {},
   "source": [
    "Все новые фичи с избыточным размером. Ужимаем"
   ]
  },
  {
   "cell_type": "code",
   "execution_count": 199,
   "id": "5e167913",
   "metadata": {},
   "outputs": [],
   "source": [
    "# до 1 байта\n",
    "for col in ['month', 'day_of_month', 'hour', 'is_daytime', 'is_weekday', 'winter', 'spring', 'summer', 'autumn']:\n",
    "    train_orig[col] = train_orig[col].astype(np.uint8)\n",
    "# до 2 байт\n",
    "train_orig.day_of_year = train_orig.day_of_year.astype(np.ushort)"
   ]
  },
  {
   "cell_type": "code",
   "execution_count": 25,
   "id": "06c1fd61",
   "metadata": {
    "scrolled": true
   },
   "outputs": [
    {
     "name": "stdout",
     "output_type": "stream",
     "text": [
      "<class 'pandas.core.frame.DataFrame'>\n",
      "RangeIndex: 20125605 entries, 0 to 20125604\n",
      "Data columns (total 67 columns):\n",
      " #   Column         Dtype         \n",
      "---  ------         -----         \n",
      " 0   obj_id         uint16        \n",
      " 1   datetime       datetime64[ns]\n",
      " 2   value          float32       \n",
      " 3   square         float32       \n",
      " 4   year           uint16        \n",
      " 5   temp           float32       \n",
      " 6   dew            float32       \n",
      " 7   precipitation  float32       \n",
      " 8   pressure       float32       \n",
      " 9   wdirection     float32       \n",
      " 10  wspeed         float32       \n",
      " 11  counter_0      uint8         \n",
      " 12  counter_1      uint8         \n",
      " 13  counter_2      uint8         \n",
      " 14  counter_3      uint8         \n",
      " 15  clouds_0       uint8         \n",
      " 16  clouds_1       uint8         \n",
      " 17  clouds_2       uint8         \n",
      " 18  clouds_3       uint8         \n",
      " 19  clouds_4       uint8         \n",
      " 20  clouds_5       uint8         \n",
      " 21  clouds_6       uint8         \n",
      " 22  clouds_7       uint8         \n",
      " 23  clouds_8       uint8         \n",
      " 24  clouds_9       uint8         \n",
      " 25  function_0     uint8         \n",
      " 26  function_1     uint8         \n",
      " 27  function_2     uint8         \n",
      " 28  function_3     uint8         \n",
      " 29  function_4     uint8         \n",
      " 30  function_5     uint8         \n",
      " 31  function_6     uint8         \n",
      " 32  function_7     uint8         \n",
      " 33  function_8     uint8         \n",
      " 34  function_9     uint8         \n",
      " 35  function_10    uint8         \n",
      " 36  function_11    uint8         \n",
      " 37  function_12    uint8         \n",
      " 38  function_13    uint8         \n",
      " 39  function_14    uint8         \n",
      " 40  function_15    uint8         \n",
      " 41  city_0         uint8         \n",
      " 42  city_1         uint8         \n",
      " 43  city_2         uint8         \n",
      " 44  city_3         uint8         \n",
      " 45  city_4         uint8         \n",
      " 46  city_5         uint8         \n",
      " 47  city_6         uint8         \n",
      " 48  city_7         uint8         \n",
      " 49  city_8         uint8         \n",
      " 50  city_9         uint8         \n",
      " 51  city_10        uint8         \n",
      " 52  city_11        uint8         \n",
      " 53  city_12        uint8         \n",
      " 54  city_13        uint8         \n",
      " 55  city_14        uint8         \n",
      " 56  city_15        uint8         \n",
      " 57  day_of_year    uint16        \n",
      " 58  month          uint8         \n",
      " 59  day_of_month   uint8         \n",
      " 60  hour           uint8         \n",
      " 61  is_daytime     uint8         \n",
      " 62  is_weekday     uint8         \n",
      " 63  winter         uint8         \n",
      " 64  spring         uint8         \n",
      " 65  summer         uint8         \n",
      " 66  autumn         uint8         \n",
      "dtypes: datetime64[ns](1), float32(8), uint16(3), uint8(55)\n",
      "memory usage: 1.9 GB\n"
     ]
    }
   ],
   "source": [
    "train_orig.info(memory_usage='deep')"
   ]
  },
  {
   "cell_type": "code",
   "execution_count": null,
   "id": "a175a348",
   "metadata": {},
   "outputs": [],
   "source": []
  },
  {
   "cell_type": "markdown",
   "id": "f0ba1f49",
   "metadata": {},
   "source": [
    "Повторим добавление новых фич в test по аналогии с train"
   ]
  },
  {
   "cell_type": "code",
   "execution_count": 89,
   "id": "787e34d3",
   "metadata": {},
   "outputs": [],
   "source": [
    "# Декатегоризация\n",
    "test_orig = pd.get_dummies(test_orig, columns=['counter', 'clouds', 'function', 'city'])\n",
    "\n",
    "# новые признаки\n",
    "# день года\n",
    "test_orig['day_of_year'] = test_orig.datetime.dt.day_of_year\n",
    "# месяц\n",
    "test_orig['month'] = test_orig.datetime.dt.month\n",
    "# день месяца (число)\n",
    "test_orig['day_of_month'] = test_orig.datetime.dt.day\n",
    "# час суток \n",
    "test_orig['hour'] = test_orig.datetime.dt.hour\n",
    "# время суток - это день? Просто прикидываю, что день от 07 до 18\n",
    "test_orig['is_daytime'] = test_orig.datetime.apply(lambda x: 1 if x.hour >= 7 and x.hour <= 18 else 0)\n",
    "# время недели - выходной?\n",
    "test_orig['is_weekday'] = test_orig.datetime.apply(lambda x: 1 if x.day_of_week >= 5 else 0)\n",
    "# время года - зима\n",
    "test_orig['winter'] = test_orig.datetime.apply(lambda x: 1 if x.month in [1, 2, 12] else 0)\n",
    "# время года - весна\n",
    "test_orig['spring'] = test_orig.datetime.apply(lambda x: 1 if x.month in [3, 4, 5] else 0)\n",
    "# время года - лето\n",
    "test_orig['summer'] = test_orig.datetime.apply(lambda x: 1 if x.month in [6, 7, 8] else 0)\n",
    "# время года - осень\n",
    "test_orig['autumn'] = test_orig.datetime.apply(lambda x: 1 if x.month in [9, 10, 11] else 0)\n",
    "\n",
    "# все новые фичи ужимаем\n",
    "# до 1 байта\n",
    "for col in ['month', 'day_of_month', 'hour', 'is_daytime', 'is_weekday', 'winter', 'spring', 'summer', 'autumn']:\n",
    "    test_orig[col] = test_orig[col].astype(np.uint8)\n",
    "# до 2 байт\n",
    "test_orig.day_of_year = test_orig.day_of_year.astype(np.ushort)"
   ]
  },
  {
   "cell_type": "code",
   "execution_count": null,
   "id": "76a26e18",
   "metadata": {},
   "outputs": [],
   "source": []
  },
  {
   "cell_type": "markdown",
   "id": "3e74a060",
   "metadata": {},
   "source": [
    "### 1.3 Отбор фич"
   ]
  },
  {
   "cell_type": "markdown",
   "id": "4d2ebcb1",
   "metadata": {},
   "source": [
    "Признак datetime теперь бесполезен и его можно удалить"
   ]
  },
  {
   "cell_type": "code",
   "execution_count": 200,
   "id": "c16276ae",
   "metadata": {},
   "outputs": [],
   "source": [
    "train_orig = train_orig.drop('datetime', axis=1)"
   ]
  },
  {
   "cell_type": "code",
   "execution_count": 90,
   "id": "ab8646fb",
   "metadata": {},
   "outputs": [],
   "source": [
    "test_orig = test_orig.drop('datetime', axis=1)"
   ]
  },
  {
   "cell_type": "code",
   "execution_count": null,
   "id": "ad43ab54",
   "metadata": {},
   "outputs": [],
   "source": []
  },
  {
   "cell_type": "markdown",
   "id": "edb16f3a",
   "metadata": {},
   "source": [
    "Для отбора фич возьму sample из train данных"
   ]
  },
  {
   "cell_type": "code",
   "execution_count": 201,
   "id": "7171b601",
   "metadata": {},
   "outputs": [],
   "source": [
    "train_sampled = train_orig.sample(10000)"
   ]
  },
  {
   "cell_type": "markdown",
   "id": "bffb2bf0",
   "metadata": {},
   "source": [
    "#### 1.3.1 Корреляционный анализ"
   ]
  },
  {
   "cell_type": "markdown",
   "id": "990dfc26",
   "metadata": {},
   "source": [
    "Посмотрим корреляции переменных. В модуле 2 была обнаружена очень сильная положительная корреляция **obj_id** и **city** - city первый претендент на удаление, поскольку по obj_id мы сможем восстановить исследуемый объект. Возможно картина изменилась после создания новых признаков"
   ]
  },
  {
   "cell_type": "code",
   "execution_count": 32,
   "id": "0c0444a8",
   "metadata": {},
   "outputs": [],
   "source": [
    "correlations = train_sampled.corr() "
   ]
  },
  {
   "cell_type": "code",
   "execution_count": 40,
   "id": "3a0ba0a5",
   "metadata": {},
   "outputs": [
    {
     "data": {
      "text/plain": [
       "clouds_8       False\n",
       "clouds_7       False\n",
       "clouds_6       False\n",
       "clouds_5       False\n",
       "clouds_4       False\n",
       "function_0     False\n",
       "month           True\n",
       "dew             True\n",
       "temp            True\n",
       "day_of_year     True\n",
       "dtype: bool"
      ]
     },
     "execution_count": 40,
     "metadata": {},
     "output_type": "execute_result"
    }
   ],
   "source": [
    "# какие признаки имеют сильную корреляцию\n",
    "((correlations < 1.0) & (correlations >= 0.7)).any().sort_values().tail(10)"
   ]
  },
  {
   "cell_type": "markdown",
   "id": "e683cb66",
   "metadata": {},
   "source": [
    "Смотрим внимательно корреляции month, dew, temp, day_of_year"
   ]
  },
  {
   "cell_type": "code",
   "execution_count": 47,
   "id": "1b85e6b3",
   "metadata": {},
   "outputs": [
    {
     "data": {
      "text/plain": [
       "month          1.000000\n",
       "day_of_year    0.996462\n",
       "autumn         0.575607\n",
       "dew            0.237275\n",
       "temp           0.167718\n",
       "Name: month, dtype: float64"
      ]
     },
     "execution_count": 47,
     "metadata": {},
     "output_type": "execute_result"
    }
   ],
   "source": [
    "correlations['month'] \\\n",
    "    .sort_values(ascending=False) \\\n",
    "    .head(5)"
   ]
  },
  {
   "cell_type": "code",
   "execution_count": 48,
   "id": "ac8633de",
   "metadata": {},
   "outputs": [
    {
     "data": {
      "text/plain": [
       "dew            1.000000\n",
       "temp           0.735545\n",
       "summer         0.489742\n",
       "city_9         0.255434\n",
       "day_of_year    0.237972\n",
       "Name: dew, dtype: float64"
      ]
     },
     "execution_count": 48,
     "metadata": {},
     "output_type": "execute_result"
    }
   ],
   "source": [
    "correlations['dew'] \\\n",
    "    .sort_values(ascending=False) \\\n",
    "    .head(5)"
   ]
  },
  {
   "cell_type": "code",
   "execution_count": 49,
   "id": "283c22f3",
   "metadata": {},
   "outputs": [
    {
     "data": {
      "text/plain": [
       "temp      1.000000\n",
       "dew       0.735545\n",
       "summer    0.486295\n",
       "city_2    0.305849\n",
       "city_9    0.180012\n",
       "Name: temp, dtype: float64"
      ]
     },
     "execution_count": 49,
     "metadata": {},
     "output_type": "execute_result"
    }
   ],
   "source": [
    "correlations['temp'] \\\n",
    "    .sort_values(ascending=False) \\\n",
    "    .head(5)"
   ]
  },
  {
   "cell_type": "code",
   "execution_count": 50,
   "id": "54985a64",
   "metadata": {},
   "outputs": [
    {
     "data": {
      "text/plain": [
       "day_of_year    1.000000\n",
       "month          0.996462\n",
       "autumn         0.573810\n",
       "dew            0.237972\n",
       "temp           0.168033\n",
       "Name: day_of_year, dtype: float64"
      ]
     },
     "execution_count": 50,
     "metadata": {},
     "output_type": "execute_result"
    }
   ],
   "source": [
    "correlations['day_of_year'] \\\n",
    "    .sort_values(ascending=False) \\\n",
    "    .head(5)"
   ]
  },
  {
   "cell_type": "markdown",
   "id": "3c894224",
   "metadata": {},
   "source": [
    "**Вывод** - в ходе корреляционного анализа выявилась *очень сильная корреляция* между месяцем и днем года - 0.996. Удалим признак **день года**. А в будущем в pipeline не будем его даже добавлять"
   ]
  },
  {
   "cell_type": "code",
   "execution_count": 202,
   "id": "4eab847d",
   "metadata": {},
   "outputs": [],
   "source": [
    "train_orig = train_orig.drop('day_of_year', axis=1)"
   ]
  },
  {
   "cell_type": "code",
   "execution_count": 91,
   "id": "02b038dc",
   "metadata": {},
   "outputs": [],
   "source": [
    "test_orig = test_orig.drop('day_of_year', axis=1)"
   ]
  },
  {
   "cell_type": "code",
   "execution_count": null,
   "id": "63af7e7a",
   "metadata": {},
   "outputs": [],
   "source": []
  },
  {
   "cell_type": "markdown",
   "id": "bb7c431c",
   "metadata": {},
   "source": [
    "Корреляции с ответом"
   ]
  },
  {
   "cell_type": "code",
   "execution_count": 52,
   "id": "03e4f595",
   "metadata": {},
   "outputs": [
    {
     "data": {
      "text/plain": [
       "value          1.000000\n",
       "counter_2      0.038523\n",
       "city_13        0.035834\n",
       "square         0.033037\n",
       "winter         0.021526\n",
       "                 ...   \n",
       "month         -0.018072\n",
       "dew           -0.018252\n",
       "day_of_year   -0.018637\n",
       "counter_0     -0.021176\n",
       "temp          -0.022553\n",
       "Name: value, Length: 66, dtype: float64"
      ]
     },
     "execution_count": 52,
     "metadata": {},
     "output_type": "execute_result"
    }
   ],
   "source": [
    "train_sampled.corr()['value'].sort_values(ascending=False)"
   ]
  },
  {
   "cell_type": "markdown",
   "id": "01b8b236",
   "metadata": {},
   "source": [
    "**Вывод** - Каких-либо значимых корреляций с value не наблюдается"
   ]
  },
  {
   "cell_type": "code",
   "execution_count": null,
   "id": "b6a8b734",
   "metadata": {},
   "outputs": [],
   "source": []
  },
  {
   "cell_type": "markdown",
   "id": "72cc2160",
   "metadata": {},
   "source": [
    "#### 1.3.2 Важность фич"
   ]
  },
  {
   "cell_type": "markdown",
   "id": "1bc4e7b8",
   "metadata": {},
   "source": [
    "Оценим важность фич с помощью алгоритма дерева решений"
   ]
  },
  {
   "cell_type": "code",
   "execution_count": 273,
   "id": "67f5ea7f",
   "metadata": {},
   "outputs": [],
   "source": [
    "train_sampled = train_orig.sample(1000000)"
   ]
  },
  {
   "cell_type": "code",
   "execution_count": 274,
   "id": "747cd94b",
   "metadata": {},
   "outputs": [],
   "source": [
    "# разобьём на X, y (объект-ответ)\n",
    "X = train_sampled.drop(columns=['value'], axis=1)\n",
    "y = train_sampled.value"
   ]
  },
  {
   "cell_type": "code",
   "execution_count": 275,
   "id": "d60f5e55",
   "metadata": {},
   "outputs": [],
   "source": [
    "from sklearn.tree import DecisionTreeRegressor"
   ]
  },
  {
   "cell_type": "code",
   "execution_count": 276,
   "id": "35ccb5d0",
   "metadata": {},
   "outputs": [
    {
     "data": {
      "text/plain": [
       "DecisionTreeRegressor()"
      ]
     },
     "execution_count": 276,
     "metadata": {},
     "output_type": "execute_result"
    }
   ],
   "source": [
    "dtr = DecisionTreeRegressor()\n",
    "dtr.fit(X, y)"
   ]
  },
  {
   "cell_type": "markdown",
   "id": "340e794b",
   "metadata": {},
   "source": [
    "Смотрим таблицу важности признаков при обучении дерева решений"
   ]
  },
  {
   "cell_type": "code",
   "execution_count": 277,
   "id": "161103a8",
   "metadata": {},
   "outputs": [
    {
     "data": {
      "text/html": [
       "<div>\n",
       "<style scoped>\n",
       "    .dataframe tbody tr th:only-of-type {\n",
       "        vertical-align: middle;\n",
       "    }\n",
       "\n",
       "    .dataframe tbody tr th {\n",
       "        vertical-align: top;\n",
       "    }\n",
       "\n",
       "    .dataframe thead th {\n",
       "        text-align: right;\n",
       "    }\n",
       "</style>\n",
       "<table border=\"1\" class=\"dataframe\">\n",
       "  <thead>\n",
       "    <tr style=\"text-align: right;\">\n",
       "      <th></th>\n",
       "      <th>feature</th>\n",
       "      <th>importance</th>\n",
       "    </tr>\n",
       "  </thead>\n",
       "  <tbody>\n",
       "    <tr>\n",
       "      <th>9</th>\n",
       "      <td>counter_0</td>\n",
       "      <td>0.317298</td>\n",
       "    </tr>\n",
       "    <tr>\n",
       "      <th>61</th>\n",
       "      <td>spring</td>\n",
       "      <td>0.155389</td>\n",
       "    </tr>\n",
       "    <tr>\n",
       "      <th>1</th>\n",
       "      <td>square</td>\n",
       "      <td>0.132902</td>\n",
       "    </tr>\n",
       "    <tr>\n",
       "      <th>56</th>\n",
       "      <td>day_of_month</td>\n",
       "      <td>0.118787</td>\n",
       "    </tr>\n",
       "    <tr>\n",
       "      <th>3</th>\n",
       "      <td>temp</td>\n",
       "      <td>0.082777</td>\n",
       "    </tr>\n",
       "    <tr>\n",
       "      <th>4</th>\n",
       "      <td>dew</td>\n",
       "      <td>0.080091</td>\n",
       "    </tr>\n",
       "    <tr>\n",
       "      <th>55</th>\n",
       "      <td>month</td>\n",
       "      <td>0.037203</td>\n",
       "    </tr>\n",
       "    <tr>\n",
       "      <th>6</th>\n",
       "      <td>pressure</td>\n",
       "      <td>0.023677</td>\n",
       "    </tr>\n",
       "    <tr>\n",
       "      <th>7</th>\n",
       "      <td>wdirection</td>\n",
       "      <td>0.022073</td>\n",
       "    </tr>\n",
       "    <tr>\n",
       "      <th>11</th>\n",
       "      <td>counter_2</td>\n",
       "      <td>0.012409</td>\n",
       "    </tr>\n",
       "  </tbody>\n",
       "</table>\n",
       "</div>"
      ],
      "text/plain": [
       "         feature  importance\n",
       "9      counter_0    0.317298\n",
       "61        spring    0.155389\n",
       "1         square    0.132902\n",
       "56  day_of_month    0.118787\n",
       "3           temp    0.082777\n",
       "4            dew    0.080091\n",
       "55         month    0.037203\n",
       "6       pressure    0.023677\n",
       "7     wdirection    0.022073\n",
       "11     counter_2    0.012409"
      ]
     },
     "execution_count": 277,
     "metadata": {},
     "output_type": "execute_result"
    }
   ],
   "source": [
    "feature_importances = pd.DataFrame({\n",
    "    'feature': X.columns, \n",
    "    'importance': dtr.feature_importances_\n",
    "}).sort_values('importance', ascending=False)\n",
    "\n",
    "feature_importances.head(10)"
   ]
  },
  {
   "cell_type": "markdown",
   "id": "7b74e929",
   "metadata": {},
   "source": [
    "Видим, что наиболее важными оказались признаки \"день месяца\", \"площадь\", \"температура воздуха\", \"весна\", \"счетчик\""
   ]
  },
  {
   "cell_type": "code",
   "execution_count": null,
   "id": "7356f319",
   "metadata": {},
   "outputs": [],
   "source": []
  },
  {
   "cell_type": "markdown",
   "id": "0a125cae",
   "metadata": {},
   "source": [
    "С помощью метода главных компонент определим кумулятивную выборочную дисперсию признаков для того, чтобы понять то, сколько признаков объясняет бОльшую часть дисперсии в данных."
   ]
  },
  {
   "cell_type": "code",
   "execution_count": 66,
   "id": "217535eb",
   "metadata": {},
   "outputs": [],
   "source": [
    "from sklearn.decomposition import PCA"
   ]
  },
  {
   "cell_type": "code",
   "execution_count": 279,
   "id": "60cbdc27",
   "metadata": {},
   "outputs": [
    {
     "data": {
      "text/plain": [
       "PCA()"
      ]
     },
     "execution_count": 279,
     "metadata": {},
     "output_type": "execute_result"
    }
   ],
   "source": [
    "pca_test = PCA()\n",
    "pca_test.fit(X)"
   ]
  },
  {
   "cell_type": "code",
   "execution_count": 280,
   "id": "42308ad0",
   "metadata": {},
   "outputs": [
    {
     "data": {
      "image/png": "[encoded data removed]",
      "text/plain": [
       "<Figure size 1080x432 with 1 Axes>"
      ]
     },
     "metadata": {
      "needs_background": "light"
     },
     "output_type": "display_data"
    }
   ],
   "source": [
    "plt.figure(figsize=(15,6))\n",
    "sns.set(style='whitegrid')\n",
    "plt.plot(np.cumsum(pca_test.explained_variance_ratio_))\n",
    "plt.xlabel('Количество компонент')\n",
    "plt.ylabel('Кумулятивная выборочная дисперсия')\n",
    "plt.axvline(color='r', linestyle = '--', x=3, ymin=0, ymax=1)\n",
    "plt.show()"
   ]
  },
  {
   "cell_type": "markdown",
   "id": "71c880cb",
   "metadata": {},
   "source": [
    "Всего лишь 2 компоненты позволяет объяснить практически 100% дисперсии, а 3 - все 100%. Если выбрать по важности переменные обучения дерева решений, то это - \"день месяца\", \"площадь\", \"температура воздуха\".\n",
    "\n",
    "Эмпирическим путём оставим признаки:\n",
    "\n",
    "    day_of_month\n",
    "    square\n",
    "    temp\n",
    "    spring\n",
    "    pressure\n",
    "    counter_0, counter_1, counter_2, counter_3"
   ]
  },
  {
   "cell_type": "markdown",
   "id": "2ee6157f",
   "metadata": {},
   "source": [
    "#### 1.3.3 Исключение признаков"
   ]
  },
  {
   "cell_type": "markdown",
   "id": "3dd64fe1",
   "metadata": {},
   "source": [
    "Для восстановления информации по объекту, используя его obj_id, вынесем obj_id в индекс"
   ]
  },
  {
   "cell_type": "code",
   "execution_count": 281,
   "id": "d0add03a",
   "metadata": {},
   "outputs": [],
   "source": [
    "train_sampled = train_sampled.set_index(train_sampled.obj_id).drop('obj_id', axis=1)"
   ]
  },
  {
   "cell_type": "code",
   "execution_count": 92,
   "id": "f7ea2358",
   "metadata": {},
   "outputs": [],
   "source": [
    "test_orig = test_orig.set_index(test_orig.obj_id).drop('obj_id', axis=1)"
   ]
  },
  {
   "cell_type": "markdown",
   "id": "a3461cd5",
   "metadata": {},
   "source": [
    "Оставляем только важные фичи"
   ]
  },
  {
   "cell_type": "code",
   "execution_count": 282,
   "id": "fe7f10fd",
   "metadata": {},
   "outputs": [],
   "source": [
    "train_sampled = train_sampled[['day_of_month', 'square', 'temp', 'spring', 'pressure', 'counter_0', 'counter_1', 'counter_2', 'counter_3', 'value']]"
   ]
  },
  {
   "cell_type": "code",
   "execution_count": 283,
   "id": "684a4b7b",
   "metadata": {
    "scrolled": true
   },
   "outputs": [
    {
     "data": {
      "text/html": [
       "<div>\n",
       "<style scoped>\n",
       "    .dataframe tbody tr th:only-of-type {\n",
       "        vertical-align: middle;\n",
       "    }\n",
       "\n",
       "    .dataframe tbody tr th {\n",
       "        vertical-align: top;\n",
       "    }\n",
       "\n",
       "    .dataframe thead th {\n",
       "        text-align: right;\n",
       "    }\n",
       "</style>\n",
       "<table border=\"1\" class=\"dataframe\">\n",
       "  <thead>\n",
       "    <tr style=\"text-align: right;\">\n",
       "      <th></th>\n",
       "      <th>day_of_month</th>\n",
       "      <th>square</th>\n",
       "      <th>temp</th>\n",
       "      <th>spring</th>\n",
       "      <th>pressure</th>\n",
       "      <th>counter_0</th>\n",
       "      <th>counter_1</th>\n",
       "      <th>counter_2</th>\n",
       "      <th>counter_3</th>\n",
       "      <th>value</th>\n",
       "    </tr>\n",
       "    <tr>\n",
       "      <th>obj_id</th>\n",
       "      <th></th>\n",
       "      <th></th>\n",
       "      <th></th>\n",
       "      <th></th>\n",
       "      <th></th>\n",
       "      <th></th>\n",
       "      <th></th>\n",
       "      <th></th>\n",
       "      <th></th>\n",
       "      <th></th>\n",
       "    </tr>\n",
       "  </thead>\n",
       "  <tbody>\n",
       "    <tr>\n",
       "      <th>992</th>\n",
       "      <td>25</td>\n",
       "      <td>51483.0</td>\n",
       "      <td>20.0</td>\n",
       "      <td>0</td>\n",
       "      <td>1014.000000</td>\n",
       "      <td>0</td>\n",
       "      <td>1</td>\n",
       "      <td>0</td>\n",
       "      <td>0</td>\n",
       "      <td>140.709000</td>\n",
       "    </tr>\n",
       "    <tr>\n",
       "      <th>1074</th>\n",
       "      <td>12</td>\n",
       "      <td>89858.0</td>\n",
       "      <td>-0.6</td>\n",
       "      <td>1</td>\n",
       "      <td>1025.800049</td>\n",
       "      <td>0</td>\n",
       "      <td>1</td>\n",
       "      <td>0</td>\n",
       "      <td>0</td>\n",
       "      <td>0.000000</td>\n",
       "    </tr>\n",
       "    <tr>\n",
       "      <th>269</th>\n",
       "      <td>28</td>\n",
       "      <td>809530.0</td>\n",
       "      <td>20.6</td>\n",
       "      <td>1</td>\n",
       "      <td>1009.900024</td>\n",
       "      <td>1</td>\n",
       "      <td>0</td>\n",
       "      <td>0</td>\n",
       "      <td>0</td>\n",
       "      <td>169.889999</td>\n",
       "    </tr>\n",
       "    <tr>\n",
       "      <th>646</th>\n",
       "      <td>16</td>\n",
       "      <td>58733.0</td>\n",
       "      <td>8.3</td>\n",
       "      <td>0</td>\n",
       "      <td>1018.599976</td>\n",
       "      <td>1</td>\n",
       "      <td>0</td>\n",
       "      <td>0</td>\n",
       "      <td>0</td>\n",
       "      <td>80.949997</td>\n",
       "    </tr>\n",
       "  </tbody>\n",
       "</table>\n",
       "</div>"
      ],
      "text/plain": [
       "        day_of_month    square  temp  spring     pressure  counter_0  \\\n",
       "obj_id                                                                 \n",
       "992               25   51483.0  20.0       0  1014.000000          0   \n",
       "1074              12   89858.0  -0.6       1  1025.800049          0   \n",
       "269               28  809530.0  20.6       1  1009.900024          1   \n",
       "646               16   58733.0   8.3       0  1018.599976          1   \n",
       "\n",
       "        counter_1  counter_2  counter_3       value  \n",
       "obj_id                                               \n",
       "992             1          0          0  140.709000  \n",
       "1074            1          0          0    0.000000  \n",
       "269             0          0          0  169.889999  \n",
       "646             0          0          0   80.949997  "
      ]
     },
     "execution_count": 283,
     "metadata": {},
     "output_type": "execute_result"
    }
   ],
   "source": [
    "train_sampled.sample(4)"
   ]
  },
  {
   "cell_type": "code",
   "execution_count": 94,
   "id": "8f7317d9",
   "metadata": {},
   "outputs": [],
   "source": [
    "test_orig = test_orig[['day_of_month', 'square', 'temp', 'function_2', 'pressure', 'counter_0', 'counter_1', 'counter_2', 'counter_3']]"
   ]
  },
  {
   "cell_type": "code",
   "execution_count": 95,
   "id": "e7ce1fb5",
   "metadata": {},
   "outputs": [
    {
     "data": {
      "text/html": [
       "<div>\n",
       "<style scoped>\n",
       "    .dataframe tbody tr th:only-of-type {\n",
       "        vertical-align: middle;\n",
       "    }\n",
       "\n",
       "    .dataframe tbody tr th {\n",
       "        vertical-align: top;\n",
       "    }\n",
       "\n",
       "    .dataframe thead th {\n",
       "        text-align: right;\n",
       "    }\n",
       "</style>\n",
       "<table border=\"1\" class=\"dataframe\">\n",
       "  <thead>\n",
       "    <tr style=\"text-align: right;\">\n",
       "      <th></th>\n",
       "      <th>day_of_month</th>\n",
       "      <th>square</th>\n",
       "      <th>temp</th>\n",
       "      <th>function_2</th>\n",
       "      <th>pressure</th>\n",
       "      <th>counter_0</th>\n",
       "      <th>counter_1</th>\n",
       "      <th>counter_2</th>\n",
       "      <th>counter_3</th>\n",
       "    </tr>\n",
       "    <tr>\n",
       "      <th>obj_id</th>\n",
       "      <th></th>\n",
       "      <th></th>\n",
       "      <th></th>\n",
       "      <th></th>\n",
       "      <th></th>\n",
       "      <th></th>\n",
       "      <th></th>\n",
       "      <th></th>\n",
       "      <th></th>\n",
       "    </tr>\n",
       "  </thead>\n",
       "  <tbody>\n",
       "    <tr>\n",
       "      <th>1424</th>\n",
       "      <td>22</td>\n",
       "      <td>24103.0</td>\n",
       "      <td>-7.2</td>\n",
       "      <td>0</td>\n",
       "      <td>1022.299988</td>\n",
       "      <td>1</td>\n",
       "      <td>0</td>\n",
       "      <td>0</td>\n",
       "      <td>0</td>\n",
       "    </tr>\n",
       "    <tr>\n",
       "      <th>1398</th>\n",
       "      <td>31</td>\n",
       "      <td>20291.0</td>\n",
       "      <td>2.8</td>\n",
       "      <td>0</td>\n",
       "      <td>1017.799988</td>\n",
       "      <td>0</td>\n",
       "      <td>1</td>\n",
       "      <td>0</td>\n",
       "      <td>0</td>\n",
       "    </tr>\n",
       "    <tr>\n",
       "      <th>1417</th>\n",
       "      <td>24</td>\n",
       "      <td>40451.0</td>\n",
       "      <td>-1.1</td>\n",
       "      <td>0</td>\n",
       "      <td>1023.799988</td>\n",
       "      <td>1</td>\n",
       "      <td>0</td>\n",
       "      <td>0</td>\n",
       "      <td>0</td>\n",
       "    </tr>\n",
       "    <tr>\n",
       "      <th>1331</th>\n",
       "      <td>4</td>\n",
       "      <td>171008.0</td>\n",
       "      <td>13.3</td>\n",
       "      <td>0</td>\n",
       "      <td>1018.500000</td>\n",
       "      <td>1</td>\n",
       "      <td>0</td>\n",
       "      <td>0</td>\n",
       "      <td>0</td>\n",
       "    </tr>\n",
       "  </tbody>\n",
       "</table>\n",
       "</div>"
      ],
      "text/plain": [
       "        day_of_month    square  temp  function_2     pressure  counter_0  \\\n",
       "obj_id                                                                     \n",
       "1424              22   24103.0  -7.2           0  1022.299988          1   \n",
       "1398              31   20291.0   2.8           0  1017.799988          0   \n",
       "1417              24   40451.0  -1.1           0  1023.799988          1   \n",
       "1331               4  171008.0  13.3           0  1018.500000          1   \n",
       "\n",
       "        counter_1  counter_2  counter_3  \n",
       "obj_id                                   \n",
       "1424            0          0          0  \n",
       "1398            1          0          0  \n",
       "1417            0          0          0  \n",
       "1331            0          0          0  "
      ]
     },
     "execution_count": 95,
     "metadata": {},
     "output_type": "execute_result"
    }
   ],
   "source": [
    "test_orig.sample(4)"
   ]
  },
  {
   "cell_type": "code",
   "execution_count": null,
   "id": "4503439a",
   "metadata": {},
   "outputs": [],
   "source": []
  },
  {
   "cell_type": "markdown",
   "id": "a7859b7a",
   "metadata": {},
   "source": [
    "# 2. Создание базового pipeline"
   ]
  },
  {
   "cell_type": "markdown",
   "id": "da06769a",
   "metadata": {},
   "source": [
    "Функция загрузки необходимых датасетов"
   ]
  },
  {
   "cell_type": "code",
   "execution_count": 96,
   "id": "e71b4648",
   "metadata": {},
   "outputs": [],
   "source": [
    "# загружаем из больших датасетов первые 10000 строк\n",
    "def load_datasets():\n",
    "    # грузим оригинальный train.csv\n",
    "    try:\n",
    "        train_orig = pd.read_csv('train.csv', nrows=10000)\n",
    "    except FileNotFoundError:\n",
    "        print('Файл train.csv отсутствует')\n",
    "    except Exception as e:\n",
    "        print(f'Возникла ошибка {e.args[1]}')\n",
    "        \n",
    "    # грузим оригинальный objects.csv (который building_meta в задании)\n",
    "    try:\n",
    "        building_meta_orig = pd.read_csv('objects.csv')\n",
    "    except FileNotFoundError:\n",
    "        print('Файл objects.csv отсутствует')\n",
    "    except Exception as e:\n",
    "        print(f'Возникла ошибка {e.args[1]}')\n",
    "        \n",
    "    # грузим оригинальный weather_train/test.csv\n",
    "    try:\n",
    "        weather_train_orig = pd.read_csv('wtrain.csv')\n",
    "    except FileNotFoundError:\n",
    "        print('Файл wtrain.csv отсутствует')\n",
    "    except Exception as e:\n",
    "        print(f'Возникла ошибка {e.args[1]}')\n",
    "    try:\n",
    "        weather_test_orig = pd.read_csv('wtest.csv')\n",
    "    except FileNotFoundError:\n",
    "        print('Файл wtest.csv отсутствует')\n",
    "    except Exception as e:\n",
    "        print(f'Возникла ошибка {e.args[1]}')\n",
    "        \n",
    "    # грузим test.csv\n",
    "    try:\n",
    "        test_orig = pd.read_csv('test.csv', nrows=10000)\n",
    "    except FileNotFoundError:\n",
    "        print('Файл test.csv отсутствует')\n",
    "    except Exception as e:\n",
    "        print(f'Возникла ошибка {e.args[1]}')\n",
    "        \n",
    "    return train_orig, building_meta_orig, weather_train_orig, weather_test_orig, test_orig"
   ]
  },
  {
   "cell_type": "markdown",
   "id": "b6590d6a",
   "metadata": {},
   "source": [
    "Функция подготовки train/test"
   ]
  },
  {
   "cell_type": "code",
   "execution_count": 99,
   "id": "30bdab48",
   "metadata": {},
   "outputs": [],
   "source": [
    "def prepare_train_test(dataset):\n",
    "    # исправляем тип datetime\n",
    "    dataset.datetime = pd.to_datetime(dataset.datetime)\n",
    "    # удалим столбец **Unnamed: 0**\n",
    "    if 'Unnamed: 0' in dataset.columns:\n",
    "        dataset = dataset.drop('Unnamed: 0', axis=1)\n",
    "    # удалим столбец **Unnamed: 0.1**, если он есть\n",
    "    if 'Unnamed: 0.1' in dataset.columns:\n",
    "        dataset = dataset.drop('Unnamed: 0.1', axis=1)\n",
    "    # Сжимаем obj_id и counter\n",
    "    dataset.obj_id = dataset.obj_id.astype(np.ushort)\n",
    "    dataset.counter = dataset.counter.astype(np.uint8)\n",
    "    # жертвуем точностью во имя памяти\n",
    "    if 'value' in dataset.columns:\n",
    "        dataset.value = dataset.value.astype(np.float32)\n",
    "    \n",
    "    return dataset"
   ]
  },
  {
   "cell_type": "markdown",
   "id": "51957694",
   "metadata": {},
   "source": [
    "Функция подготовки building_meta"
   ]
  },
  {
   "cell_type": "code",
   "execution_count": 100,
   "id": "8a39f80e",
   "metadata": {},
   "outputs": [],
   "source": [
    "def prepare_building_meta(dataset):\n",
    "    # сжимаем city\n",
    "    dataset.city = dataset.city.astype(np.uint8)\n",
    "    # сжимаем obj_id\n",
    "    dataset.obj_id = dataset.obj_id.astype(np.ushort)\n",
    "    # удаляем служебную информацию, т.к. дублирует индекс\n",
    "    dataset = dataset.drop('Unnamed: 0', axis=1)\n",
    "    # заполняем пропуски\n",
    "    dataset.year = dataset.year.fillna(0)\n",
    "    # сжимаем year\n",
    "    dataset.year = dataset.year.astype(np.ushort)\n",
    "    # удаляем floor\n",
    "    dataset = dataset.drop('floor', axis=1)\n",
    "    \n",
    "    # словарь кодирования функции здания\n",
    "    function_values_dict = {\n",
    "        'Education': 0,\n",
    "        'Lodging/residential': 1,\n",
    "        'Office': 2,\n",
    "        'Entertainment/public assembly': 3,\n",
    "        'Other': 4,\n",
    "        'Retail': 5,\n",
    "        'Parking': 6,\n",
    "        'Public services': 7,\n",
    "        'Warehouse/storage': 8,\n",
    "        'Food sales and service': 9,\n",
    "        'Religious worship': 10,\n",
    "        'Healthcare': 11,\n",
    "        'Utility': 12,\n",
    "        'Technology/science': 13,\n",
    "        'Manufacturing/industrial': 14,\n",
    "        'Services': 15\n",
    "    }\n",
    "    # кодируем\n",
    "    dataset.function = dataset.function.replace(function_values_dict)\n",
    "    # сжимаем \n",
    "    dataset.function = dataset.function.astype(np.uint8)\n",
    "    # сжимаем площадь\n",
    "    dataset.square = dataset.square.astype(np.float32)\n",
    "    \n",
    "    return dataset"
   ]
  },
  {
   "cell_type": "markdown",
   "id": "92439112",
   "metadata": {},
   "source": [
    "Функция подготовки погодного датасета"
   ]
  },
  {
   "cell_type": "code",
   "execution_count": 101,
   "id": "503118c1",
   "metadata": {},
   "outputs": [],
   "source": [
    "def prepare_weather(dataset):    \n",
    "    # удаляем дубликаты индекса\n",
    "    if 'Unnamed: 0' in dataset.columns:\n",
    "        dataset = dataset.drop('Unnamed: 0', axis=1)\n",
    "    if 'Unnamed: 0.1' in dataset.columns:\n",
    "        dataset = dataset.drop('Unnamed: 0.1', axis=1)\n",
    "        \n",
    "    # задаём верный тип для дата/времени\n",
    "    dataset.datetime = pd.to_datetime(dataset.datetime)\n",
    "    \n",
    "    # словарь подмен пропусков в датасете\n",
    "    fillna_weather_dict = {'temp': 15.0,\n",
    "        'dew': 8.3,\n",
    "        'pressure': 1016.4,\n",
    "        'wdirection': 190.0,\n",
    "        'wspeed': 3.1,\n",
    "        'precipitation': 0,\n",
    "        'city': 0,\n",
    "        'clouds': 0.0\n",
    "    }\n",
    "    # заполняем Nan\n",
    "    for col in fillna_weather_dict.keys():\n",
    "        dataset[col].fillna(fillna_weather_dict[col], inplace=True)\n",
    "    \n",
    "    # сжимаем city\n",
    "    dataset.city = dataset.city.astype(np.uint8)\n",
    "    # сжимаем clouds\n",
    "    dataset.clouds = dataset.clouds.astype(np.uint8)\n",
    "    # для экономии памяти сожмём float64 до float32?\n",
    "    for col in ['temp', 'dew', 'pressure', 'wdirection', 'wspeed', 'precipitation']:\n",
    "        dataset[col] = dataset[col].astype(np.float32)\n",
    "    \n",
    "    return dataset"
   ]
  },
  {
   "cell_type": "markdown",
   "id": "f82e99e6",
   "metadata": {},
   "source": [
    "Функция объединения датасетов в один"
   ]
  },
  {
   "cell_type": "code",
   "execution_count": 138,
   "id": "d90d5552",
   "metadata": {},
   "outputs": [],
   "source": [
    "# на входе train/test, building_meta, wtrain, wtest\n",
    "def join_datasets(dataset, building_meta, wdataset):\n",
    "    # сцепляем dataset и building_meta, добавив доп.инфо по объектам\n",
    "    df = pd.merge(dataset, building_meta, how='left', on='obj_id')\n",
    "    # результативный датасет по dataset+weather\n",
    "    return pd.merge(df, wdataset, how='left', on=['city', 'datetime'])"
   ]
  },
  {
   "cell_type": "markdown",
   "id": "dc829970",
   "metadata": {},
   "source": [
    "Функция удаления выбросов в датасете (применяется для train)"
   ]
  },
  {
   "cell_type": "code",
   "execution_count": 104,
   "id": "04c24edb",
   "metadata": {},
   "outputs": [],
   "source": [
    "def remove_noise(dataset):\n",
    "    # количественные столбцы\n",
    "    num_vars = ['square', 'temp', 'dew', 'precipitation', 'pressure', 'wspeed', 'value']\n",
    "\n",
    "    for col in num_vars:\n",
    "        q1 = dataset[col].quantile(0.25)\n",
    "        q3 = dataset[col].quantile(0.75)\n",
    "\n",
    "        iqr = q3 - q1\n",
    "\n",
    "        dataset = dataset[(dataset[col] >= q1 - 1.5 * iqr) & (dataset[col] <= q3 + 1.5 * iqr)]\n",
    "\n",
    "    return dataset"
   ]
  },
  {
   "cell_type": "markdown",
   "id": "b5658923",
   "metadata": {},
   "source": [
    "Функция добавления новых фич"
   ]
  },
  {
   "cell_type": "code",
   "execution_count": 105,
   "id": "67bc0c75",
   "metadata": {},
   "outputs": [],
   "source": [
    "def feature_engineering(dataset):\n",
    "    # Декатегоризация (только тех, что останутся)\n",
    "    dataset = pd.get_dummies(dataset, columns=['counter', 'function'])\n",
    "\n",
    "    # новые признаки\n",
    "    # день месяца (число)\n",
    "    dataset['day_of_month'] = dataset.datetime.dt.day\n",
    "\n",
    "    # новые фичи ужимаем\n",
    "    # до 1 байта\n",
    "    dataset.day_of_month = dataset.day_of_month.astype(np.uint8)\n",
    "    \n",
    "    return dataset"
   ]
  },
  {
   "cell_type": "code",
   "execution_count": null,
   "id": "a0c64348",
   "metadata": {},
   "outputs": [],
   "source": []
  },
  {
   "cell_type": "markdown",
   "id": "6ca5d8d4",
   "metadata": {},
   "source": [
    "Для использования в pipeline возьмём модель попроще и побыстрее - линейную регрессию (хотя она для этих данных и не подходит, но качество ведь не оценивается на данном этапе)"
   ]
  },
  {
   "cell_type": "code",
   "execution_count": 164,
   "id": "20586c10",
   "metadata": {},
   "outputs": [],
   "source": [
    "from sklearn.linear_model import LinearRegression"
   ]
  },
  {
   "cell_type": "markdown",
   "id": "515df277",
   "metadata": {},
   "source": [
    "### Итоговая pipeline функция"
   ]
  },
  {
   "cell_type": "code",
   "execution_count": 286,
   "id": "290a2b55",
   "metadata": {},
   "outputs": [],
   "source": [
    "def pipeline():\n",
    "    # грузим датасеты\n",
    "    train_orig, building_meta_orig, weather_train_orig, weather_test_orig, test_orig = load_datasets()\n",
    "    \n",
    "    # подготавливаем train/test\n",
    "    train_orig = prepare_train_test(train_orig)\n",
    "    test_orig = prepare_train_test(test_orig)\n",
    "    \n",
    "    # подготавливаем датасет building_meta\n",
    "    building_meta_orig = prepare_building_meta(building_meta_orig)\n",
    "    \n",
    "    # подготавливаем погодные датасеты\n",
    "    weather_train_orig = prepare_weather(weather_train_orig)\n",
    "    weather_test_orig = prepare_weather(weather_test_orig)\n",
    "    \n",
    "    # объединяем датасеты\n",
    "    train = join_datasets(train_orig, building_meta_orig, weather_train_orig)\n",
    "    test = join_datasets(test_orig, building_meta_orig, weather_test_orig)\n",
    "    \n",
    "    # удаляем \"шум\" в train-датасете\n",
    "    train = remove_noise(train)\n",
    "    \n",
    "    # добавляем новые необходимые фичи\n",
    "    train = feature_engineering(train)\n",
    "    test = feature_engineering(test)\n",
    "    \n",
    "    # выносим obj_id в индекс\n",
    "    train = train.set_index(train.obj_id).drop('obj_id', axis=1)\n",
    "    test = test.set_index(test.obj_id).drop('obj_id', axis=1)\n",
    "    \n",
    "    # удалить лишние признаки\n",
    "    train = train[['day_of_month', 'square', 'temp', 'function_2', 'pressure', 'counter_0', 'counter_1', 'counter_2', 'counter_3', 'value']]\n",
    "    test = test[['day_of_month', 'square', 'temp', 'function_2', 'pressure', 'counter_0', 'counter_1', 'counter_2', 'counter_3']]\n",
    "    \n",
    "    # словарь подмен пропусков в датасете\n",
    "    fillna_dict = {\n",
    "        'temp': 15.0,\n",
    "        'pressure': 1016.4,\n",
    "        'square': 57673.0\n",
    "    }\n",
    "    \n",
    "    # заполняем Nan, если вдруг такие возникли\n",
    "    for col in fillna_dict.keys():\n",
    "        train[col].fillna(fillna_dict[col], inplace=True)\n",
    "        test[col].fillna(fillna_dict[col], inplace=True)\n",
    "        \n",
    "    # разбиваем train на X и y (объект-ответ)\n",
    "    X = train.drop('value', axis=1)\n",
    "    y = train.value\n",
    "    \n",
    "    # Разделяем train на тренировочную и валидационную (зачем это здесь? Но задание есть задание)\n",
    "    X_train, X_test, y_train, y_test = train_test_split(X, y, test_size=0.33, random_state=42)\n",
    "    \n",
    "    # обучаем модель\n",
    "    lr = LinearRegression()\n",
    "    lr.fit(X_train, y_train)\n",
    "    \n",
    "    # предсказываем значения\n",
    "    predict = pd.DataFrame(lr.predict(test))\n",
    "    \n",
    "    # сохраняем предсказания\n",
    "    try:\n",
    "        predict.to_csv('predict.csv', index=False, header=False)\n",
    "        print('Предсказания сохранены в файл \"predict.csv\"')\n",
    "    except Exception as e:\n",
    "        print(f'Возникла ошибка сохранения предсказаний: код {e.args[0]} \"{e.args[1]}\"')"
   ]
  },
  {
   "cell_type": "code",
   "execution_count": 287,
   "id": "da4952ca",
   "metadata": {},
   "outputs": [
    {
     "name": "stdout",
     "output_type": "stream",
     "text": [
      "Предсказания сохранены в файл \"predict.csv\"\n"
     ]
    }
   ],
   "source": [
    "# проверяем\n",
    "pipeline()"
   ]
  },
  {
   "cell_type": "code",
   "execution_count": null,
   "id": "4ec0372c",
   "metadata": {},
   "outputs": [],
   "source": []
  }
 ],
 "metadata": {
  "kernelspec": {
   "display_name": "Python 3 (ipykernel)",
   "language": "python",
   "name": "python3"
  },
  "language_info": {
   "codemirror_mode": {
    "name": "ipython",
    "version": 3
   },
   "file_extension": ".py",
   "mimetype": "text/x-python",
   "name": "python",
   "nbconvert_exporter": "python",
   "pygments_lexer": "ipython3",
   "version": "3.9.7"
  }
 },
 "nbformat": 4,
 "nbformat_minor": 5
}
